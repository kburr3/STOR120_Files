{
 "cells": [
  {
   "cell_type": "markdown",
   "id": "b5ed5080-cc9e-4f24-8d58-d52a5079f0ca",
   "metadata": {
    "tags": []
   },
   "source": [
    "# STOR 120: Take Home Midterm #2\n",
    "\n",
    "60 points total\n",
    "\n",
    "**Due:** Friday, March 31st Gradescope before class at 11:15am\n",
    "  \n",
    "**Directions:** The exam is open book, notes, course materials, and internet. Just as with all course assignments, you will submit exams to Gradescope as Jupyter Notebooks with the ipynb file extension. To receive full credit, you should show all of your code used to answer each question. **Make sure to view your submission in Gradescope and verify that it is the correct file and has the format that you intended it to have, including all code being shown and run. You may add extra code cells and additional lines of code to given cells as needed.**\n",
    "\n",
    "**Reminder:** If you are found to be submitting the work of other students as your exam submission, an honor code violation will be reported. This could be by communication with others and the sharing of answers and code: during the exam time, with students in other sections of the course, or by using the solutions to exams from previous semesters. This is a zero tolerance policy and all suspected honor code violations will be reported. \n",
    "\n",
    "Dr. Remi will hold longer office hours on Thursday, 3/30/2023 to provide guiding questions regarding the exam. Due to the large class size, it is NOT possible to answer all individual questions sent via email. Please refrain from this. Questions will only be answered in person. To accommodate different available times of students, I will spread the office hours throughout Thursday(3/30/2023) as follows\n",
    "\n",
    "- 10 am - 11 am\n",
    "- 1 pm - 2 pm\n",
    "- 4 pm - 5 pm\n"
   ]
  },
  {
   "cell_type": "markdown",
   "id": "46493459-d335-45c7-8813-8564211b564b",
   "metadata": {},
   "source": [
    "Run the cell below to set up the notebook."
   ]
  },
  {
   "cell_type": "code",
   "execution_count": 592,
   "id": "2e7b579b-096a-49e1-a1ba-78565b7d4fec",
   "metadata": {},
   "outputs": [],
   "source": [
    "from datascience import *\n",
    "import numpy as npz\n",
    "import random\n",
    "\n",
    "%matplotlib inline\n",
    "import matplotlib.pyplot as plots\n",
    "plots.style.use('fivethirtyeight')"
   ]
  },
  {
   "cell_type": "markdown",
   "id": "737334bc-1d03-4b63-ac38-1627253a8a9d",
   "metadata": {
    "tags": []
   },
   "source": [
    "## 1. Pass the Pig\n",
    "\n",
    "In homework 6 you investigated outcomes with the game [Pass the Pigs](https://en.wikipedia.org/wiki/Pass_the_Pigs), a dice game using asymmetrical throwing dice (shaped like pigs). \n",
    "\n",
    "<img src=\"https://upload.wikimedia.org/wikipedia/commons/b/b8/Pass_the_pigs_dice.jpg\"  width='500' alt=\"Pass the Pigs Image\">\n",
    "\n",
    "On this exam you will simulate the outcomes of a modified version of Pass the Pigs with the following rules. Each turn involves one player throwing one model pig, which has a dot on one side. The player gains or loses points based on the way the pig lands. Each turn lasts until the player throwing either rolls the pig in a way that wipes out their current turn score, or decides to stop their turn, add their turn score to their total score, and pass the pigs to the next player. The winner is the player with the highest total score after each player has taken 50 turns.\n",
    "\n",
    "When throwing one pig there are six outcomes with the following (approximate) probabilities:\n",
    "\n",
    "Position       | Probability | Description\n",
    "---------------|-------------|-------------------------------------------------\n",
    "Side (no dot)  | 0.3490      | The pig is lying on its side without a dot\n",
    "Side (dot)     | 0.3020      | The pig is lying on its side with a dot\n",
    "Razorback      | 0.2240      | The pig is lying on its back\n",
    "Trotter        | 0.0880      | The pig is standing upright\n",
    "Snouter        | 0.0300      | The pig is leaning on its snout\n",
    "Leaning Jowler | 0.0061      | Jowler - The pig is resting on its snout and ear\n",
    "\n",
    "If the player throws a `Side (no dot)` or `Side (dot)` they receive zero points and their turn in over. If the player throws a `Razorback` or `Trotter` they receive 5 points, 10 points for a `Snouter`, and 15 points for a `Leaning Jowler`. When the player throws a pig for more than 0 points, they have the choice to throw again or end their turn and add their current points to their total points. On the second throw, if the player throws a `Side (no dot)` or `Side (dot)` they receive zero points for their turn and their turn in over. If the player rolls a `Razorback`, `Trotter`, `Snouter` or `Leaning Jowler`, they add these points to the points in the first throw. The player then has the choice to continue throwing (as many times as possible) and risk losing their points, or end their turn and add their current points to their total points. "
   ]
  },
  {
   "cell_type": "markdown",
   "id": "3d388349-49d3-4726-bc10-2e370957503f",
   "metadata": {},
   "source": [
    "### 1.1. Competing Strategies *(20pts)*"
   ]
  },
  {
   "cell_type": "markdown",
   "id": "65e74bbf-b86a-435a-8fe8-9a709e07a8f1",
   "metadata": {},
   "source": [
    "**Question 1.1.1.** Freddy has decided to play the game conservatively and never risk losing points during his turn. His strategy is to always take the points that he has received during his first throw of the pig and never risk losing those points with a second throw. In the cell below write a function called `Freddy_Turn` that simulates Freddy taking one turn in this game. The function should take no arguments, simulate Freddy throwing a pig with the probabilities given in the table above, and return the number of points that Freddy received during his turn (as a `float` or `int`). *(4pts)*"
   ]
  },
  {
   "cell_type": "code",
   "execution_count": 593,
   "id": "b657aa05-bded-4b77-be64-e70db941748c",
   "metadata": {},
   "outputs": [],
   "source": [
    "positions = [\"Side (no dot)\", \"Side (dot)\", \"Razorback\", \"Trotter\", \"Snouter\", \"Leaning Jowler\"]\n",
    "def Freddy_Turn():\n",
    "    points: int = 0\n",
    "    turn = random.choices(positions, k=1, weights=[34.9, 30.2, 22.4, 8.8, 3, .61])\n",
    "    turn = turn[0]\n",
    "    if turn == [\"Side (no dot)\" or \"Side (dot)\"]:\n",
    "        points += 0\n",
    "    if turn == \"Razorback\":\n",
    "        points += 5\n",
    "    if turn == \"Trotter\":\n",
    "        points += 5\n",
    "    if turn == \"Snouter\":\n",
    "        points += 10\n",
    "    if turn == \"Leaning Jowler\":\n",
    "        points += 15\n",
    "    return points"
   ]
  },
  {
   "cell_type": "markdown",
   "id": "f5acc246-b822-49c3-b914-cabab8a1b9fc",
   "metadata": {},
   "source": [
    "**Question 1.1.2.** Ash plans a less conservative strategy. If he thows a `Snouter` or `Leaning Jowler`, he will take the points that he has received during his first throw of the pig and not risk losing those points with a second throw. But if he throws a `Razorback` or `Trotter` he will always throw the pig a second time to try and receive more points. No matter what he throws this second time, he will end his turn and take the points. In the cell below write a function called `Ash_Turn` that simulates Ash taking one turn in this game. The function should take no arguments, simulate Ash throwing a pig with the probabilities given in the table above, and return the number of points that Ash received during his turn (as a `float` or `int`). *(7pts)*"
   ]
  },
  {
   "cell_type": "code",
   "execution_count": 594,
   "id": "0c637f4e-f714-4a4f-aea3-4166bae4d187",
   "metadata": {},
   "outputs": [],
   "source": [
    "def Ash_Turn():\n",
    "    points: int = 0\n",
    "    turn = random.choices(positions, k=1, weights=[34.9, 30.2, 22.4, 8.8, 3, .61])\n",
    "    turn = turn[0]\n",
    "    if turn == [\"Side (no dot)\" or \"Side (dot)\"]:\n",
    "        points += 0\n",
    "    if turn == \"Razorback\":\n",
    "        points += 5\n",
    "        second_turn = Freddy_Turn()\n",
    "        if second_turn == 0:\n",
    "            points = 0\n",
    "    if turn == \"Trotter\":\n",
    "        points += 5\n",
    "        second_turn = Freddy_Turn()\n",
    "        if second_turn == 0:\n",
    "            points = 0\n",
    "    if turn == \"Snouter\":\n",
    "        points += 10\n",
    "    if turn == \"Leaning Jowler\":\n",
    "        points += 15\n",
    "    return points"
   ]
  },
  {
   "cell_type": "markdown",
   "id": "8d02d540-04b7-4b20-b9d6-73f0ceff6645",
   "metadata": {},
   "source": [
    "**Question 1.1.3.** Write a function `One_Game` that has no arguments and simulates Freddy and Ash playing one game of this modified version of Pass the Pigs, each taking 50 turns. This function should use the functions that you have created in the previous two questions. The function should return the difference in Freddy's and Ash's scores at the end of the game (Freddy's final score minus Ash's final score, as a `float` or `int`). *(3pts)*"
   ]
  },
  {
   "cell_type": "code",
   "execution_count": 595,
   "id": "ec411b77-c2be-4483-8b3f-862b84e092d8",
   "metadata": {},
   "outputs": [],
   "source": [
    "def One_Game():\n",
    "    freddy_score = 0\n",
    "    ash_score = 0\n",
    "    for i in np.arange(50):\n",
    "        freddy_score = freddy_score + Freddy_Turn()\n",
    "    for i in np.arange(50):\n",
    "        ash_score = ash_score + Ash_Turn()\n",
    "    return freddy_score - ash_score"
   ]
  },
  {
   "cell_type": "markdown",
   "id": "dc640fcf-78b4-48d9-86aa-7498deb2cfda",
   "metadata": {},
   "source": [
    "**Question 1.1.4.** Simulate playing this game with Freddy's and Ash's different startegies 2500 times, keeping track of the difference in Freddy's and Ash's scores at the end of each game (Freddy's final score minus Ash's final score). Construct a histogram showing the distribution of these differences in scores. *(4pts)*"
   ]
  },
  {
   "cell_type": "code",
   "execution_count": 596,
   "id": "9301bf35-9f76-4c4f-93c8-3e64387d4d56",
   "metadata": {},
   "outputs": [
    {
     "data": {
      "image/png": "[encoded data removed]",
      "text/plain": [
       "<Figure size 600x400 with 1 Axes>"
      ]
     },
     "metadata": {},
     "output_type": "display_data"
    }
   ],
   "source": [
    "games = make_array()\n",
    "for i in np.arange(2500):\n",
    "    games = np.append(games, One_Game())\n",
    "\n",
    "all_scores = Table().with_column('Game Outcomes', games)\n",
    "all_scores.hist()"
   ]
  },
  {
   "cell_type": "markdown",
   "id": "d53a85e2-7766-48e6-bf6d-7221a684d1d6",
   "metadata": {},
   "source": [
    "**Question 1.1.5.** What proportion of your games simulated in the previous question did Ash win? *(2pts)*"
   ]
  },
  {
   "cell_type": "code",
   "execution_count": 597,
   "id": "50320493-481f-4e2a-b0a4-10bd288a7c2c",
   "metadata": {},
   "outputs": [
    {
     "data": {
      "text/plain": [
       "0.0272"
      ]
     },
     "execution_count": 597,
     "metadata": {},
     "output_type": "execute_result"
    }
   ],
   "source": [
    "(all_scores.where('Game Outcomes', are.below(0)).num_rows / all_scores.num_rows)"
   ]
  },
  {
   "cell_type": "markdown",
   "id": "bf171043-8b8d-4586-b1c6-ad2d226cacf8",
   "metadata": {},
   "source": [
    "### 1.2. Questionable Side Probabilities *(14pts)*\n",
    "\n",
    "Ash does not believe that the probabilites listed in the above table are correct. He believes that the probability for scoring zero points in one throw of the pig is different than listed in the table (which may have lead to his strategy seemingly not working as well as he had thought that it would during the simulation in a previous question). To test his claim, he threw the pig 400 times with it landing on one of the sides 247 times. "
   ]
  },
  {
   "cell_type": "markdown",
   "id": "a90a30f9-6639-4652-9b96-bcc227fcb548",
   "metadata": {},
   "source": [
    "**Question 1.2.1.**  Perform a hypothesis test at the 5% significance level (p-value cutoff) to test Ash's claim with his sample data. For this test, you should use the following hypotheses:\n",
    "\n",
    "*Null Hypothesis:* The probability of throwing one pig and having it land on either side is equal to the information given in the table.      \n",
    "    \n",
    "*Alternative Hypothesis*: The probability of throwing one pig and having it land on either side is **different** from the information given in the table.\n",
    "\n",
    "To receive full credit you should:\n",
    "\n",
    "1. Choose an appropriate test statistic\n",
    "\n",
    "2. Find the value of the observed test statistic\n",
    "\n",
    "3. Assume that the null hypothesis is true, sample from the theoretical population under the null hypothesis, obtain the simulated test statistic, and repeat this 5000 times.\n",
    "\n",
    "4. Plot your simulated test statistics in a histogram along with the observed test statistic\n",
    "\n",
    "5. Calculate the p-value based off of your observed and simulated test statistics\n",
    "\n",
    "6. Use the p-value to draw a conclusion and explain the conclusion using simple, non-technical language in the context of the problem with complete sentences\n",
    "\n",
    "You may do this in as many lines as needed, and may add cells as well. You can (should) use functions that we have used in class, homework, labs, or from the text! *(10pts)*"
   ]
  },
  {
   "cell_type": "code",
   "execution_count": 598,
   "id": "1186aaab-cf50-44f5-9720-16f0c2e4aab0",
   "metadata": {},
   "outputs": [
    {
     "data": {
      "text/plain": [
       "array([ 0.061 ,  0.019 ,  0.006 , ...,  0.046 ,  0.0635,  0.031 ])"
      ]
     },
     "execution_count": 598,
     "metadata": {},
     "output_type": "execute_result"
    }
   ],
   "source": [
    "Pig_sides = np.array(np.repeat(1, 247))\n",
    "Pig_sides = np.append(Pig_sides, np.repeat(0, 153))\n",
    "Pig_sides_as_table = Table().with_column(\"Side\", Pig_sides)\n",
    "\n",
    "sides_proportion_in_test = (Pig_sides_as_table.where('Side', 1).num_rows) / Pig_sides_as_table.num_rows\n",
    "observed_test_statistic = abs(sides_proportion_in_test - (0.349 + 0.302))\n",
    "\n",
    "all_sample_proportions = make_array()\n",
    "for i in np.arange(5000):\n",
    "    sampled_table = Pig_sides_as_table.sample()\n",
    "    sample__number_of_sides = (sampled_table.where('Side', 1).num_rows) / 400\n",
    "    sampled_proportion = abs(sample__number_of_sides - (0.349 + 0.302)) \n",
    "    all_sample_proportions = np.append(all_sample_proportions, sampled_proportion)\n",
    "\n",
    "all_sample_proportions"
   ]
  },
  {
   "cell_type": "code",
   "execution_count": 599,
   "id": "bb4a95ad-60b8-4c72-ab5b-c096543e96a9",
   "metadata": {},
   "outputs": [
    {
     "data": {
      "text/plain": [
       "[<matplotlib.lines.Line2D at 0x7f88cc159850>]"
      ]
     },
     "execution_count": 599,
     "metadata": {},
     "output_type": "execute_result"
    },
    {
     "data": {
      "image/png": "[encoded data removed]",
      "text/plain": [
       "<Figure size 600x400 with 1 Axes>"
      ]
     },
     "metadata": {},
     "output_type": "display_data"
    }
   ],
   "source": [
    "Samples_ploted = Table().with_column('Difference in sides', all_sample_proportions)\n",
    "Samples_ploted.hist()\n",
    "plots.plot([observed_test_statistic, observed_test_statistic], [0,18], color='red', lw=2)"
   ]
  },
  {
   "cell_type": "code",
   "execution_count": 600,
   "id": "8e89509c-4021-434b-81ca-446427f2d323",
   "metadata": {},
   "outputs": [
    {
     "data": {
      "text/plain": [
       "0.51900000000000002"
      ]
     },
     "execution_count": 600,
     "metadata": {},
     "output_type": "execute_result"
    }
   ],
   "source": [
    "p_value = sum(all_sample_proportions >= observed_test_statistic)/5000\n",
    "p_value"
   ]
  },
  {
   "cell_type": "markdown",
   "id": "75b7b4be-cbf4-4a82-99aa-f072220c30eb",
   "metadata": {},
   "source": [
    "In this problem, we fail to reject the null hypothesis. With our P-value being greater than the 5% cut-off, the probability of throwing one pig and it landing on a side is equal to the information provided in the table. Although our data supports the idea of the alternative hypothesis that the probability of throwing one pig and it land on either side is different from the information given in the table."
   ]
  },
  {
   "cell_type": "markdown",
   "id": "266ed584-5fdb-4981-b91d-464de3f7e765",
   "metadata": {},
   "source": [
    "**Question 1.2.2.** What possible values of the observed sample proportion (number of Ash's throws landing on the pig's side out of 400 attempts) would have led you to reject the null hypothesis? Using the simulated values from the previous question, list all possible ranges of values for this observed sample proportion (that would have led you to reject the null hypothesis). *(4pts)*"
   ]
  },
  {
   "cell_type": "code",
   "execution_count": 601,
   "id": "2167a81a-3bb8-4673-a861-9b5fccbd4d98",
   "metadata": {},
   "outputs": [
    {
     "data": {
      "text/plain": [
       "(0.0014999999999999458, 0.081000000000000072)"
      ]
     },
     "execution_count": 601,
     "metadata": {},
     "output_type": "execute_result"
    }
   ],
   "source": [
    "left = percentile(2.5, all_sample_proportions)\n",
    "right = percentile(97.5, all_sample_proportions)\n",
    "\n",
    "left, right"
   ]
  },
  {
   "cell_type": "markdown",
   "id": "0ebb2bdd-4d3f-448b-83ea-47954ef73f31",
   "metadata": {},
   "source": [
    "If the value of the observed sample proportion was less than my left bound (.00149) or greater than my right bound (97.5)"
   ]
  },
  {
   "cell_type": "markdown",
   "id": "9867b232-cbcf-4d7f-b44a-0c3acd8de4f9",
   "metadata": {},
   "source": [
    "## 2. Let's Play a Different Game *(26pts)*"
   ]
  },
  {
   "cell_type": "markdown",
   "id": "a46b74af-8bf8-40f0-9ddf-79903836c666",
   "metadata": {},
   "source": [
    "Freddy and Ash decide to play a different game. To help them decide, they use the `BoardGame` dataset. This dataset contains data collected on board games from the BoardGameGeek (BGG) website in February 2021. BGG is the largest online collection of board game data which consists of data on more than 100,000 total games (ranked and unranked). The voluntary online community contributes to the site with reviews, ratings, images, videos, session reports and live discussion forums on the expanding database of board games. This data set contains all ranked games (~20,000) as of the date of collection from the BGG database. Unranked games are ignored as they have not been rated by enough BGG users (a game should receive at least 30 votes to be eligible for ranking).\n",
    "\n",
    "Run the cell below to load the `BoardGame` table."
   ]
  },
  {
   "cell_type": "code",
   "execution_count": 602,
   "id": "f27aee53-dba1-4536-93da-13b8c308e478",
   "metadata": {},
   "outputs": [
    {
     "data": {
      "text/html": [
       "<table border=\"1\" class=\"dataframe\">\n",
       "    <thead>\n",
       "        <tr>\n",
       "            <th>Name</th> <th>Year Published</th> <th>Min Players</th> <th>Max Players</th> <th>Play Time</th> <th>Min Age</th> <th>Users Rated</th> <th>Rating Average</th>\n",
       "        </tr>\n",
       "    </thead>\n",
       "    <tbody>\n",
       "        <tr>\n",
       "            <td>Gloomhaven                                   </td> <td>2017          </td> <td>1          </td> <td>4          </td> <td>120      </td> <td>14     </td> <td>42055      </td> <td>8             </td>\n",
       "        </tr>\n",
       "        <tr>\n",
       "            <td>Pandemic Legacy: Season 1                    </td> <td>2015          </td> <td>2          </td> <td>4          </td> <td>60       </td> <td>13     </td> <td>41643      </td> <td>8             </td>\n",
       "        </tr>\n",
       "        <tr>\n",
       "            <td>Brass: Birmingham                            </td> <td>2018          </td> <td>2          </td> <td>4          </td> <td>120      </td> <td>14     </td> <td>19217      </td> <td>8             </td>\n",
       "        </tr>\n",
       "        <tr>\n",
       "            <td>Terraforming Mars                            </td> <td>2016          </td> <td>1          </td> <td>5          </td> <td>120      </td> <td>12     </td> <td>64864      </td> <td>8             </td>\n",
       "        </tr>\n",
       "        <tr>\n",
       "            <td>Twilight Imperium: Fourth Edition            </td> <td>2017          </td> <td>3          </td> <td>6          </td> <td>480      </td> <td>14     </td> <td>13468      </td> <td>8             </td>\n",
       "        </tr>\n",
       "        <tr>\n",
       "            <td>Gloomhaven: Jaws of the Lion                 </td> <td>2020          </td> <td>1          </td> <td>4          </td> <td>120      </td> <td>14     </td> <td>8392       </td> <td>8             </td>\n",
       "        </tr>\n",
       "        <tr>\n",
       "            <td>Through the Ages: A New Story of Civilization</td> <td>2015          </td> <td>2          </td> <td>4          </td> <td>120      </td> <td>14     </td> <td>23061      </td> <td>8             </td>\n",
       "        </tr>\n",
       "        <tr>\n",
       "            <td>Gaia Project                                 </td> <td>2017          </td> <td>1          </td> <td>4          </td> <td>150      </td> <td>12     </td> <td>16352      </td> <td>8             </td>\n",
       "        </tr>\n",
       "        <tr>\n",
       "            <td>Star Wars: Rebellion                         </td> <td>2016          </td> <td>2          </td> <td>4          </td> <td>240      </td> <td>14     </td> <td>23081      </td> <td>8             </td>\n",
       "        </tr>\n",
       "        <tr>\n",
       "            <td>Twilight Struggle                            </td> <td>2005          </td> <td>2          </td> <td>2          </td> <td>180      </td> <td>13     </td> <td>40814      </td> <td>8             </td>\n",
       "        </tr>\n",
       "    </tbody>\n",
       "</table>\n",
       "<p>... (20333 rows omitted)</p>"
      ],
      "text/plain": [
       "Name                                          | Year Published | Min Players | Max Players | Play Time | Min Age | Users Rated | Rating Average\n",
       "Gloomhaven                                    | 2017           | 1           | 4           | 120       | 14      | 42055       | 8\n",
       "Pandemic Legacy: Season 1                     | 2015           | 2           | 4           | 60        | 13      | 41643       | 8\n",
       "Brass: Birmingham                             | 2018           | 2           | 4           | 120       | 14      | 19217       | 8\n",
       "Terraforming Mars                             | 2016           | 1           | 5           | 120       | 12      | 64864       | 8\n",
       "Twilight Imperium: Fourth Edition             | 2017           | 3           | 6           | 480       | 14      | 13468       | 8\n",
       "Gloomhaven: Jaws of the Lion                  | 2020           | 1           | 4           | 120       | 14      | 8392        | 8\n",
       "Through the Ages: A New Story of Civilization | 2015           | 2           | 4           | 120       | 14      | 23061       | 8\n",
       "Gaia Project                                  | 2017           | 1           | 4           | 150       | 12      | 16352       | 8\n",
       "Star Wars: Rebellion                          | 2016           | 2           | 4           | 240       | 14      | 23081       | 8\n",
       "Twilight Struggle                             | 2005           | 2           | 2           | 180       | 13      | 40814       | 8\n",
       "... (20333 rows omitted)"
      ]
     },
     "execution_count": 602,
     "metadata": {},
     "output_type": "execute_result"
    }
   ],
   "source": [
    "BoardGame = Table.read_table('https://raw.githubusercontent.com/JA-McLean/STOR120/master/data/BoardGames.csv')\n",
    "BoardGame"
   ]
  },
  {
   "cell_type": "markdown",
   "id": "5897268e-1bfc-4caa-9ba9-b9b477033934",
   "metadata": {},
   "source": [
    "**Question 2.1.** Freddy and Ash want to narrow their search for a game based on specific criteria. Construct a new table `BoardGameToPlay` that includes all of the columns of the `BoardGame` table but containing only the board games with exactly 2 `Min Players` and 2 `Max Players`, a `Play Time` of at least 3 minutes, but less than 30 minutes, and games that were published in the year 2000 or later. You should also add one additional column `Recent` that should be equal to the `1` if the board game was published in 2010 or later and equal to `0` if the board game was published prior to 2010. *(4pts)*"
   ]
  },
  {
   "cell_type": "code",
   "execution_count": 603,
   "id": "f0ac3008-e7c0-4f85-b863-6b743b267afb",
   "metadata": {},
   "outputs": [
    {
     "data": {
      "text/html": [
       "<table border=\"1\" class=\"dataframe\">\n",
       "    <thead>\n",
       "        <tr>\n",
       "            <th>Name</th> <th>Year Published</th> <th>Min Players</th> <th>Max Players</th> <th>Play Time</th> <th>Min Age</th> <th>Users Rated</th> <th>Rating Average</th> <th>Recent</th>\n",
       "        </tr>\n",
       "    </thead>\n",
       "    <tbody>\n",
       "        <tr>\n",
       "            <td>Star Realms             </td> <td>2014          </td> <td>2          </td> <td>2          </td> <td>20       </td> <td>12     </td> <td>35947      </td> <td>7             </td> <td>1     </td>\n",
       "        </tr>\n",
       "        <tr>\n",
       "            <td>Star Realms: Colony Wars</td> <td>2015          </td> <td>2          </td> <td>2          </td> <td>20       </td> <td>12     </td> <td>6075       </td> <td>7             </td> <td>1     </td>\n",
       "        </tr>\n",
       "        <tr>\n",
       "            <td>Hanamikoji              </td> <td>2013          </td> <td>2          </td> <td>2          </td> <td>15       </td> <td>10     </td> <td>11047      </td> <td>7             </td> <td>1     </td>\n",
       "        </tr>\n",
       "        <tr>\n",
       "            <td>Hive                    </td> <td>2000          </td> <td>2          </td> <td>2          </td> <td>20       </td> <td>9      </td> <td>29596      </td> <td>7             </td> <td>0     </td>\n",
       "        </tr>\n",
       "        <tr>\n",
       "            <td>Onitama                 </td> <td>2014          </td> <td>2          </td> <td>2          </td> <td>20       </td> <td>8      </td> <td>15161      </td> <td>7             </td> <td>1     </td>\n",
       "        </tr>\n",
       "        <tr>\n",
       "            <td>KLASK                   </td> <td>2014          </td> <td>2          </td> <td>2          </td> <td>10       </td> <td>8      </td> <td>5667       </td> <td>7             </td> <td>1     </td>\n",
       "        </tr>\n",
       "        <tr>\n",
       "            <td>Mandala                 </td> <td>2019          </td> <td>2          </td> <td>2          </td> <td>20       </td> <td>10     </td> <td>2338       </td> <td>7             </td> <td>1     </td>\n",
       "        </tr>\n",
       "        <tr>\n",
       "            <td>Fugitive                </td> <td>2017          </td> <td>2          </td> <td>2          </td> <td>20       </td> <td>10     </td> <td>3922       </td> <td>7             </td> <td>1     </td>\n",
       "        </tr>\n",
       "        <tr>\n",
       "            <td>Mr. Jack Pocket         </td> <td>2010          </td> <td>2          </td> <td>2          </td> <td>15       </td> <td>14     </td> <td>7575       </td> <td>6             </td> <td>1     </td>\n",
       "        </tr>\n",
       "        <tr>\n",
       "            <td>Blokus Duo              </td> <td>2005          </td> <td>2          </td> <td>2          </td> <td>15       </td> <td>5      </td> <td>5107       </td> <td>6             </td> <td>0     </td>\n",
       "        </tr>\n",
       "    </tbody>\n",
       "</table>\n",
       "<p>... (501 rows omitted)</p>"
      ],
      "text/plain": [
       "Name                     | Year Published | Min Players | Max Players | Play Time | Min Age | Users Rated | Rating Average | Recent\n",
       "Star Realms              | 2014           | 2           | 2           | 20        | 12      | 35947       | 7              | 1\n",
       "Star Realms: Colony Wars | 2015           | 2           | 2           | 20        | 12      | 6075        | 7              | 1\n",
       "Hanamikoji               | 2013           | 2           | 2           | 15        | 10      | 11047       | 7              | 1\n",
       "Hive                     | 2000           | 2           | 2           | 20        | 9       | 29596       | 7              | 0\n",
       "Onitama                  | 2014           | 2           | 2           | 20        | 8       | 15161       | 7              | 1\n",
       "KLASK                    | 2014           | 2           | 2           | 10        | 8       | 5667        | 7              | 1\n",
       "Mandala                  | 2019           | 2           | 2           | 20        | 10      | 2338        | 7              | 1\n",
       "Fugitive                 | 2017           | 2           | 2           | 20        | 10      | 3922        | 7              | 1\n",
       "Mr. Jack Pocket          | 2010           | 2           | 2           | 15        | 14      | 7575        | 6              | 1\n",
       "Blokus Duo               | 2005           | 2           | 2           | 15        | 5       | 5107        | 6              | 0\n",
       "... (501 rows omitted)"
      ]
     },
     "execution_count": 603,
     "metadata": {},
     "output_type": "execute_result"
    }
   ],
   "source": [
    "BoardGameUpdated = BoardGame.where('Min Players', are.equal_to(2)).where('Max Players', are.equal_to(2)).where('Play Time', are.between(3,30)).where('Year Published', are.above_or_equal_to(2000))\n",
    "\n",
    "BoardGameToPlay = BoardGameUpdated.with_column('Recent', (BoardGameUpdated.column('Year Published') >= 2010) * 1)\n",
    "BoardGameToPlay"
   ]
  },
  {
   "cell_type": "markdown",
   "id": "63a7a022-35cb-46a4-bb90-cb1afbd28f7f",
   "metadata": {},
   "source": [
    "**Question 2.2.** Freddy is convinced that newer games, published in 2010 or later, are better for them to play and have a higher mean `Rating Average`. While this may be true for the games in the `BoardGameToPlay` table, would his hold true for all games with this same criteria? Perform a hypothesis test to test this claim with our `BoardGameToPlay` data. Use the following hypotheses:\n",
    "\n",
    "**Null Hypothesis:** The mean `Rating Average` of board games published before 2010 is equal to the mean `Rating Average` of board games published in 2010 or later. \n",
    "    \n",
    "**Alternative Hypothesis**: The mean `Rating Average` of board games published before 2010 is less than the mean `Rating Average` of board games published in 2010 or later.\n",
    "\n",
    "To receive full credit you should:\n",
    "\n",
    "1. Choose an appropriate test statistic\n",
    "\n",
    "2. Find the value of the observed test statistic\n",
    "\n",
    "3. Shuffle the labels of the original sample, find your simulated test statistic, and repeat at least **500 times**\n",
    "\n",
    "4. Plot your simulated test statistics in a histogram along with the observed test statistic\n",
    "\n",
    "5. Calculate the p-value based off of your observed and simulated test statistics\n",
    "\n",
    "6. Use the p-value to draw a conclusion and explain the conclusion using simple, non-technical language in the context of the problem with complete sentences\n",
    "\n",
    "You may do this in as many lines as needed, and may add cells as well. You can (should) use functions that we have used in class, homework, labs, or from the text! *(10pts)*"
   ]
  },
  {
   "cell_type": "code",
   "execution_count": 604,
   "id": "54981c7e-7c8b-466a-bf1c-66b34c8d0d58",
   "metadata": {},
   "outputs": [],
   "source": [
    "def difference_of_mean_ratings(table):\n",
    "    after2010 = table.where('Recent', are.equal_to(1))\n",
    "    before2010 = table.where('Recent', are.equal_to(0))\n",
    "    after2010_mean = np.mean(after2010.column('Rating Average'))\n",
    "    before2010_mean = np.mean(before2010.column('Rating Average'))\n",
    "    return after2010_mean - before2010_mean\n",
    "\n",
    "observed_statistic = difference_of_mean_ratings(BoardGameToPlay)"
   ]
  },
  {
   "cell_type": "code",
   "execution_count": 605,
   "id": "cb1ea8b3-50b7-4cba-b771-02acd7e375a5",
   "metadata": {},
   "outputs": [],
   "source": [
    "shuffled_samples = make_array()\n",
    "for i in np.arange(500):\n",
    "    shuffled_labels = BoardGameToPlay.sample(with_replacement = False).column('Recent')\n",
    "    drop_original_add_shuffle = BoardGameToPlay.drop('Recent').with_column('Recent', shuffled_labels)\n",
    "    one_shuffled_sample = difference_of_mean_ratings(drop_original_add_shuffle)\n",
    "    shuffled_samples = np.append(shuffled_samples, one_shuffled_sample)"
   ]
  },
  {
   "cell_type": "code",
   "execution_count": 606,
   "id": "d09837e0-fb9f-451f-a858-bb6123da55ad",
   "metadata": {},
   "outputs": [
    {
     "data": {
      "text/plain": [
       "[<matplotlib.lines.Line2D at 0x7f88cc6448e0>]"
      ]
     },
     "execution_count": 606,
     "metadata": {},
     "output_type": "execute_result"
    },
    {
     "data": {
      "image/png": "[encoded data removed]",
      "text/plain": [
       "<Figure size 600x400 with 1 Axes>"
      ]
     },
     "metadata": {},
     "output_type": "display_data"
    }
   ],
   "source": [
    "samples_hist = Table().with_column('Difference of Mean Average Rating Before vs After 2010', shuffled_samples)\n",
    "samples_hist.hist()\n",
    "plots.plot([observed_statistic, observed_statistic], [0, 6], color='red', lw=2)"
   ]
  },
  {
   "cell_type": "code",
   "execution_count": 607,
   "id": "a8c59d3a-4244-423a-ae45-76d534e7eb13",
   "metadata": {},
   "outputs": [
    {
     "data": {
      "text/plain": [
       "0.0"
      ]
     },
     "execution_count": 607,
     "metadata": {},
     "output_type": "execute_result"
    }
   ],
   "source": [
    "p_value_of_ratings = sum(shuffled_samples >= observed_statistic)/500\n",
    "p_value_of_ratings"
   ]
  },
  {
   "cell_type": "markdown",
   "id": "ed439dfb-ae7e-4801-8b9d-5944c9358882",
   "metadata": {},
   "source": [
    "Based on the histogram, because the p-value of 0.0 is less than the 5% cut-off, we can reject the null hypothesis."
   ]
  },
  {
   "cell_type": "markdown",
   "id": "f29a6842-2fb0-4a41-8ff7-e07e6fe33cf5",
   "metadata": {},
   "source": [
    "**Question 2.3.** Freddy and Ash decide to play the game Quadefy, mainly since it was cited as having an average play time of 3 minutes. Over 1.5 hours later Ash and Freddy have played the game 32 times, with Ash winning 22 of the games. Ash claims that his strategy is better than Freddy's strategy. Construct a 90% confidence interval to predict the proportion of games of Quadefy that Ash would win if they kept playing with their same strategies forever.\n",
    "\n",
    "**To receive full credit you should:**\n",
    "\n",
    "1. Take bootstrap samples from the original sample, compute the proportion of Ash's wins, and repeat 5000 times\n",
    "\n",
    "2. Determine the upper and lower bounds of the 90% confidence interval\n",
    "\n",
    "3. Assign the bounds of the confidence interval to: lower_bound, upper_bound\n",
    "\n",
    "You may do this in as many lines as needed, and may add cells as well. You can (should) use functions that we have used in class, homework, labs, or from the text! You do **not** need to plot a histogram of the bootstrap statistics with the confidence interval. *(8pts)*"
   ]
  },
  {
   "cell_type": "code",
   "execution_count": 608,
   "id": "560eefdc-fbc5-46e0-9770-1f1c6da4cc07",
   "metadata": {},
   "outputs": [
    {
     "data": {
      "text/plain": [
       "(0.5625, 0.8125)"
      ]
     },
     "execution_count": 608,
     "metadata": {},
     "output_type": "execute_result"
    }
   ],
   "source": [
    "number_of_games = make_array(np.repeat(1,22))\n",
    "number_of_games = np.append(number_of_games, np.repeat(0, 10))\n",
    "original_result = Table().with_column('Result', number_of_games)\n",
    "\n",
    "def bootstrap_original():\n",
    "    sample_of_games = original_result.sample()\n",
    "    return (sample_of_games.where('Result', are.equal_to(1)).num_rows) / original_result.num_rows\n",
    "\n",
    "all_bootstrap_proportions = make_array()\n",
    "for i in np.arange(5000):\n",
    "    one_bootstrap_proportion = bootstrap_original()\n",
    "    all_bootstrap_proportions = np.append(all_bootstrap_proportions, one_bootstrap_proportion)\n",
    "    \n",
    "lower_bound = percentile(5, all_bootstrap_proportions)\n",
    "upper_bound = percentile(95, all_bootstrap_proportions)\n",
    "\n",
    "# Do not change the code below\n",
    "lower_bound, upper_bound"
   ]
  },
  {
   "cell_type": "markdown",
   "id": "f0b755c7-27fb-411d-a9b5-95c2a4f5aa05",
   "metadata": {},
   "source": [
    "**Question 2.4.** From your simulation conducted in the previous question (and no new simulation), suppose that you plan to conduct a hypothesis test at the 5% significance level with the following hypotheses: \n",
    "\n",
    "*Null Hypothesis:* The proportion of games of Quadefy that Ash would win if they kept playing with their same strategies forever is `Some_Proportion`.\n",
    "\n",
    "*Alternative Hypothesis:* The proportion of games of Quadefy that Ash would win if they kept playing with their same strategies forever is greater than `Some_Proportion`.\n",
    "\n",
    "For what values of `Some_Proportion` would you reject the null hypothesis and have evidence to support the alternative hypothesis at the 5% significance level? Assign an array of two values to `Some_Proportion_array`, containing the smallest and largest values of `Some_Proportion` that would lead you to reject this null hypothesis given your simulated data. *(4pts)*"
   ]
  },
  {
   "cell_type": "code",
   "execution_count": 609,
   "id": "f4d6bd00-e917-431e-ad62-9b96658870dc",
   "metadata": {},
   "outputs": [
    {
     "data": {
      "text/plain": [
       "array([ 0.53125,  0.84375])"
      ]
     },
     "execution_count": 609,
     "metadata": {},
     "output_type": "execute_result"
    }
   ],
   "source": [
    "Some_Proportion_array = make_array(percentile(2.5, all_bootstrap_proportions), percentile(97.5, all_bootstrap_proportions))\n",
    "Some_Proportion_array"
   ]
  }
 ],
 "metadata": {
  "kernelspec": {
   "display_name": "Python 3 (ipykernel)",
   "language": "python",
   "name": "python3"
  },
  "language_info": {
   "codemirror_mode": {
    "name": "ipython",
    "version": 3
   },
   "file_extension": ".py",
   "mimetype": "text/x-python",
   "name": "python",
   "nbconvert_exporter": "python",
   "pygments_lexer": "ipython3",
   "version": "3.9.13"
  }
 },
 "nbformat": 4,
 "nbformat_minor": 5
}
