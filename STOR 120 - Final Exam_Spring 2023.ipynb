{
 "cells": [
  {
   "cell_type": "markdown",
   "metadata": {
    "tags": []
   },
   "source": [
    "# STOR 120: Final Exam(Essay Part)\n",
    "\n",
    "60 points total\n",
    "\n",
    "**Directions:** The exam is open book, notes, course materials, internet, and all things that are not direct communication with others. Just as with all course assignments, you will submit exams to Gradescope as Jupyter Notebooks with the ipynb file extension. To receive full credit, you should show all of your code used to answer each question. \n",
    "\n",
    "**Make sure to view your submission in Gradescope and verify that it is the correct file and has the format that you intended it to have, including all code being shown and run.**\n",
    "\n",
    "**Your work WILL be graded based on ACCURACY and sound demonstration of the techniques learned in this class. Not mere completion. Please exercise care while working on the problems**\n"
   ]
  },
  {
   "cell_type": "markdown",
   "metadata": {},
   "source": [
    "## Bone Mineral Density\n",
    "\n",
    "\n",
    "Bone density, or bone mineral density (BMD), is the amount of bone mineral in bone tissue. The concept is of mass of mineral per volume of bone (relating to density in the physics sense), although clinically it is measured by proxy according to optical density per square centimetre of bone surface upon imaging. Bone density measurement is used in clinical medicine as an indirect indicator of osteoporosis and fracture risk. It is measured by a procedure called densitometry, often performed in the radiology or nuclear medicine departments of hospitals or clinics. The measurement is painless and non-invasive and involves low radiation exposure. Measurements are most commonly made over the lumbar spine and over the upper part of the hip. The forearm may be scanned if the hip and lumbar spine are not accessible.\n",
    "\n",
    "https://en.wikipedia.org/wiki/Bone_density"
   ]
  },
  {
   "cell_type": "markdown",
   "metadata": {},
   "source": [
    "**Run the cell below to import the needed modules and dataset**"
   ]
  },
  {
   "cell_type": "code",
   "execution_count": 118,
   "metadata": {},
   "outputs": [
    {
     "data": {
      "text/html": [
       "<table border=\"1\" class=\"dataframe\">\n",
       "    <thead>\n",
       "        <tr>\n",
       "            <th>id</th> <th>age</th> <th>sex</th> <th>fracture</th> <th>weight_kg</th> <th>height_cm</th> <th>medication</th> <th>waiting_time</th> <th>bmd</th>\n",
       "        </tr>\n",
       "    </thead>\n",
       "    <tbody>\n",
       "        <tr>\n",
       "            <td>469  </td> <td>57.0528</td> <td>F   </td> <td>no fracture</td> <td>64       </td> <td>155.5    </td> <td>Anticonvulsant</td> <td>18          </td> <td>0.8793</td>\n",
       "        </tr>\n",
       "        <tr>\n",
       "            <td>8724 </td> <td>75.7412</td> <td>F   </td> <td>no fracture</td> <td>78       </td> <td>162      </td> <td>No medication </td> <td>56          </td> <td>0.7946</td>\n",
       "        </tr>\n",
       "        <tr>\n",
       "            <td>6736 </td> <td>70.7789</td> <td>M   </td> <td>no fracture</td> <td>73       </td> <td>170.5    </td> <td>No medication </td> <td>10          </td> <td>0.9067</td>\n",
       "        </tr>\n",
       "        <tr>\n",
       "            <td>24180</td> <td>78.2472</td> <td>F   </td> <td>no fracture</td> <td>60       </td> <td>148      </td> <td>No medication </td> <td>14          </td> <td>0.7112</td>\n",
       "        </tr>\n",
       "        <tr>\n",
       "            <td>17072</td> <td>54.1919</td> <td>M   </td> <td>no fracture</td> <td>55       </td> <td>161      </td> <td>No medication </td> <td>20          </td> <td>0.7909</td>\n",
       "        </tr>\n",
       "    </tbody>\n",
       "</table>\n",
       "<p>... (164 rows omitted)</p>"
      ],
      "text/plain": [
       "<IPython.core.display.HTML object>"
      ]
     },
     "metadata": {},
     "output_type": "display_data"
    }
   ],
   "source": [
    "from datascience import *\n",
    "import numpy as np\n",
    "\n",
    "%matplotlib inline\n",
    "import matplotlib.pyplot as plots\n",
    "plots.style.use('fivethirtyeight')\n",
    "\n",
    "import warnings\n",
    "warnings.simplefilter('ignore', FutureWarning)\n",
    "\n",
    "BMD = Table.read_table('https://raw.githubusercontent.com/JA-McLean/STOR120/master/data/bmd.csv')\n",
    "BMD.show(5)"
   ]
  },
  {
   "cell_type": "markdown",
   "metadata": {},
   "source": [
    "## 1. Exploratory Data Analysis *(18 pts total)*"
   ]
  },
  {
   "cell_type": "markdown",
   "metadata": {},
   "source": [
    "**Question 1.1.** Construct a table `BMD_means` with two rows and four columns. There should be one row those in the dataset with a `fracture` and another for those with`no fracture` The columns should be if there was a fracture, mean ages, mean weights, and mean bone mineral densities (bmd). *(3 pts)*"
   ]
  },
  {
   "cell_type": "code",
   "execution_count": 119,
   "metadata": {},
   "outputs": [
    {
     "data": {
      "text/html": [
       "<table border=\"1\" class=\"dataframe\">\n",
       "    <thead>\n",
       "        <tr>\n",
       "            <th>fracture</th> <th>age mean</th> <th>weight_kg mean</th> <th>bmd mean</th>\n",
       "        </tr>\n",
       "    </thead>\n",
       "    <tbody>\n",
       "        <tr>\n",
       "            <td>fracture   </td> <td>69.7713 </td> <td>58.41         </td> <td>0.623308</td>\n",
       "        </tr>\n",
       "        <tr>\n",
       "            <td>no fracture</td> <td>61.0518 </td> <td>67.2941       </td> <td>0.850245</td>\n",
       "        </tr>\n",
       "    </tbody>\n",
       "</table>"
      ],
      "text/plain": [
       "fracture    | age mean | weight_kg mean | bmd mean\n",
       "fracture    | 69.7713  | 58.41          | 0.623308\n",
       "no fracture | 61.0518  | 67.2941        | 0.850245"
      ]
     },
     "execution_count": 119,
     "metadata": {},
     "output_type": "execute_result"
    }
   ],
   "source": [
    "BMD_means = BMD.select('fracture', 'age', 'weight_kg', 'bmd').group('fracture', np.mean)\n",
    "BMD_means"
   ]
  },
  {
   "cell_type": "markdown",
   "metadata": {},
   "source": [
    "**Question 1.2.** Construct a table `BMD_SU`. This table should contain the columns `sex`, `fracture`, and `medication` from the `BMD` table, as well as columns of the quantitaive variables (`age`, `weight_kg`, `height_cm`, and `bmd`) in standard units. *(3\n",
    "pts)*"
   ]
  },
  {
   "cell_type": "code",
   "execution_count": 120,
   "metadata": {},
   "outputs": [],
   "source": [
    "def standard_units(any_numbers):\n",
    "    \"Convert any array of numbers to standard units.\"\n",
    "    return (any_numbers - np.mean(any_numbers))/np.std(any_numbers)  "
   ]
  },
  {
   "cell_type": "code",
   "execution_count": 121,
   "metadata": {},
   "outputs": [
    {
     "data": {
      "text/html": [
       "<table border=\"1\" class=\"dataframe\">\n",
       "    <thead>\n",
       "        <tr>\n",
       "            <th>sex</th> <th>fracture</th> <th>medication</th> <th>age SU</th> <th>weight_kg SU</th> <th>height_cm SU</th> <th>bmd SU</th>\n",
       "        </tr>\n",
       "    </thead>\n",
       "    <tbody>\n",
       "        <tr>\n",
       "            <td>F   </td> <td>no fracture</td> <td>Anticonvulsant </td> <td>-0.533977</td> <td>-0.0578702  </td> <td>-0.601464   </td> <td>0.579369 </td>\n",
       "        </tr>\n",
       "        <tr>\n",
       "            <td>F   </td> <td>no fracture</td> <td>No medication  </td> <td>0.982904 </td> <td>1.1592      </td> <td>0.220824    </td> <td>0.0692374</td>\n",
       "        </tr>\n",
       "        <tr>\n",
       "            <td>M   </td> <td>no fracture</td> <td>No medication  </td> <td>0.580128 </td> <td>0.724535    </td> <td>1.29612     </td> <td>0.744394 </td>\n",
       "        </tr>\n",
       "        <tr>\n",
       "            <td>F   </td> <td>no fracture</td> <td>No medication  </td> <td>1.1863   </td> <td>-0.405606   </td> <td>-1.55026    </td> <td>-0.433065</td>\n",
       "        </tr>\n",
       "        <tr>\n",
       "            <td>M   </td> <td>no fracture</td> <td>No medication  </td> <td>-0.766186</td> <td>-0.840276   </td> <td>0.0943179   </td> <td>0.0469529</td>\n",
       "        </tr>\n",
       "        <tr>\n",
       "            <td>M   </td> <td>no fracture</td> <td>No medication  </td> <td>1.0995   </td> <td>0.0290637   </td> <td>0.979858    </td> <td>-0.319234</td>\n",
       "        </tr>\n",
       "        <tr>\n",
       "            <td>M   </td> <td>no fracture</td> <td>No medication  </td> <td>-0.604766</td> <td>1.07227     </td> <td>-0.158694   </td> <td>1.36414  </td>\n",
       "        </tr>\n",
       "        <tr>\n",
       "            <td>F   </td> <td>no fracture</td> <td>No medication  </td> <td>-1.11323 </td> <td>-0.49254    </td> <td>-1.29725    </td> <td>-0.313813</td>\n",
       "        </tr>\n",
       "        <tr>\n",
       "            <td>M   </td> <td>no fracture</td> <td>Glucocorticoids</td> <td>0.387723 </td> <td>-0.0578702  </td> <td>0.853352    </td> <td>-0.564964</td>\n",
       "        </tr>\n",
       "        <tr>\n",
       "            <td>M   </td> <td>no fracture</td> <td>No medication  </td> <td>0.213072 </td> <td>0.637601    </td> <td>-0.0954407  </td> <td>0.984705 </td>\n",
       "        </tr>\n",
       "    </tbody>\n",
       "</table>\n",
       "<p>... (159 rows omitted)</p>"
      ],
      "text/plain": [
       "sex  | fracture    | medication      | age SU    | weight_kg SU | height_cm SU | bmd SU\n",
       "F    | no fracture | Anticonvulsant  | -0.533977 | -0.0578702   | -0.601464    | 0.579369\n",
       "F    | no fracture | No medication   | 0.982904  | 1.1592       | 0.220824     | 0.0692374\n",
       "M    | no fracture | No medication   | 0.580128  | 0.724535     | 1.29612      | 0.744394\n",
       "F    | no fracture | No medication   | 1.1863    | -0.405606    | -1.55026     | -0.433065\n",
       "M    | no fracture | No medication   | -0.766186 | -0.840276    | 0.0943179    | 0.0469529\n",
       "M    | no fracture | No medication   | 1.0995    | 0.0290637    | 0.979858     | -0.319234\n",
       "M    | no fracture | No medication   | -0.604766 | 1.07227      | -0.158694    | 1.36414\n",
       "F    | no fracture | No medication   | -1.11323  | -0.49254     | -1.29725     | -0.313813\n",
       "M    | no fracture | Glucocorticoids | 0.387723  | -0.0578702   | 0.853352     | -0.564964\n",
       "M    | no fracture | No medication   | 0.213072  | 0.637601     | -0.0954407   | 0.984705\n",
       "... (159 rows omitted)"
      ]
     },
     "execution_count": 121,
     "metadata": {},
     "output_type": "execute_result"
    }
   ],
   "source": [
    "BMD_SU = BMD.select('sex', 'fracture', 'medication').with_columns(\n",
    "    'age SU', standard_units(BMD.column('age')), \n",
    "    'weight_kg SU', standard_units(BMD.column('weight_kg')),\n",
    "    'height_cm SU', standard_units(BMD.column('height_cm')),\n",
    "    'bmd SU', standard_units(BMD.column('bmd')))\n",
    "BMD_SU"
   ]
  },
  {
   "cell_type": "markdown",
   "metadata": {},
   "source": [
    "**Question 1.3.** What is the mean `bmd` for males on no medication over the age of 65? Assign this float value to `Males_over_65_bmd`. *(3 pts)*"
   ]
  },
  {
   "cell_type": "code",
   "execution_count": 122,
   "metadata": {},
   "outputs": [
    {
     "data": {
      "text/plain": [
       "0.78056774129032269"
      ]
     },
     "execution_count": 122,
     "metadata": {},
     "output_type": "execute_result"
    }
   ],
   "source": [
    "Males_over_65_bmd = np.mean(BMD.where('sex', 'M').where('medication', 'No medication').where('age', are.above(65)).column('bmd'))\n",
    "Males_over_65_bmd"
   ]
  },
  {
   "cell_type": "markdown",
   "metadata": {},
   "source": [
    "**Question 1.4.** What proportion of the females on no medication over the age of 65 in the dataset have had a fracture? Assign this float value to `fracture_prop`. *(3 pts)*"
   ]
  },
  {
   "cell_type": "code",
   "execution_count": 123,
   "metadata": {},
   "outputs": [
    {
     "data": {
      "text/plain": [
       "0.42857142857142855"
      ]
     },
     "execution_count": 123,
     "metadata": {},
     "output_type": "execute_result"
    }
   ],
   "source": [
    "fit_requirements = BMD.where('sex', 'F').where('medication', 'No medication').where('age', are.above(65))\n",
    "fracture_prop = (fit_requirements.where('fracture', 'fracture')).num_rows / (fit_requirements).num_rows\n",
    "fracture_prop"
   ]
  },
  {
   "cell_type": "markdown",
   "metadata": {},
   "source": [
    "**Question 1.5.** Construct a scatter plot with ages on the horizontal axis and bmd on the vertical axis (using the original `BMD` table). Include the best fit line in this plot. *(3 pts)*"
   ]
  },
  {
   "cell_type": "code",
   "execution_count": 124,
   "metadata": {},
   "outputs": [
    {
     "data": {
      "image/png": "[encoded data removed]",
      "text/plain": [
       "<Figure size 500x500 with 1 Axes>"
      ]
     },
     "metadata": {},
     "output_type": "display_data"
    }
   ],
   "source": [
    "BMD.scatter('age', 'bmd', fit_line = True)"
   ]
  },
  {
   "cell_type": "markdown",
   "metadata": {},
   "source": [
    "**Question 1.6.** Calculate the correlation coefficient for the relationship between the ages and bmd and assign this value to `corr`. *(3 pts)*"
   ]
  },
  {
   "cell_type": "code",
   "execution_count": 125,
   "metadata": {},
   "outputs": [
    {
     "data": {
      "text/plain": [
       "-0.30657643878351171"
      ]
     },
     "execution_count": 125,
     "metadata": {},
     "output_type": "execute_result"
    }
   ],
   "source": [
    "def correlation(t, x, y):\n",
    "    return np.mean(standard_units(t.column(x))*standard_units(t.column(y)))\n",
    "\n",
    "corr = correlation(BMD, 'age', 'bmd')\n",
    "corr"
   ]
  },
  {
   "cell_type": "markdown",
   "metadata": {},
   "source": [
    "## 2. Testing and Prediction"
   ]
  },
  {
   "cell_type": "markdown",
   "metadata": {},
   "source": [
    "### 2.1 Differences By Age Group *(14 pts total)*\n",
    "Bone density tests are recommended for all females age 65 and older, and for younger females at higher-than-normal risk for a fracture. Males may want to discuss osteoporosis screening with their doctor if they’re over age 70 or at high risk for thinning bones. Does our data provide evidence that females 65 and older have lower bone mineral density than females under 65 years old?\n",
    "\n",
    "\n",
    "**Question 2.1.1.** Construct a new table `females_BMD` that contains only females from the original 'BMD table'. The table should include only two columns:\n",
    "\n",
    "1. `bmd` - The bmd values from the `BMD` table\n",
    "2. `Over 65` - For females 65 and older assign the int value `1`. For females under 65 years old assign the int value `0`. *(4 pts)*"
   ]
  },
  {
   "cell_type": "code",
   "execution_count": 126,
   "metadata": {},
   "outputs": [],
   "source": [
    "def over_sixity_five(age):\n",
    "    if age >= 65:\n",
    "        return 1\n",
    "    \n",
    "    elif age <= 65:\n",
    "        return 0"
   ]
  },
  {
   "cell_type": "code",
   "execution_count": 127,
   "metadata": {},
   "outputs": [
    {
     "data": {
      "text/html": [
       "<table border=\"1\" class=\"dataframe\">\n",
       "    <thead>\n",
       "        <tr>\n",
       "            <th>bmd</th> <th>Over 65</th>\n",
       "        </tr>\n",
       "    </thead>\n",
       "    <tbody>\n",
       "        <tr>\n",
       "            <td>0.8793</td> <td>0      </td>\n",
       "        </tr>\n",
       "        <tr>\n",
       "            <td>0.7946</td> <td>1      </td>\n",
       "        </tr>\n",
       "        <tr>\n",
       "            <td>0.7112</td> <td>1      </td>\n",
       "        </tr>\n",
       "        <tr>\n",
       "            <td>0.731 </td> <td>0      </td>\n",
       "        </tr>\n",
       "        <tr>\n",
       "            <td>0.5793</td> <td>1      </td>\n",
       "        </tr>\n",
       "        <tr>\n",
       "            <td>0.976 </td> <td>0      </td>\n",
       "        </tr>\n",
       "        <tr>\n",
       "            <td>0.7861</td> <td>1      </td>\n",
       "        </tr>\n",
       "        <tr>\n",
       "            <td>0.8254</td> <td>0      </td>\n",
       "        </tr>\n",
       "        <tr>\n",
       "            <td>0.8499</td> <td>0      </td>\n",
       "        </tr>\n",
       "        <tr>\n",
       "            <td>0.7738</td> <td>1      </td>\n",
       "        </tr>\n",
       "    </tbody>\n",
       "</table>\n",
       "<p>... (73 rows omitted)</p>"
      ],
      "text/plain": [
       "bmd    | Over 65\n",
       "0.8793 | 0\n",
       "0.7946 | 1\n",
       "0.7112 | 1\n",
       "0.731  | 0\n",
       "0.5793 | 1\n",
       "0.976  | 0\n",
       "0.7861 | 1\n",
       "0.8254 | 0\n",
       "0.8499 | 0\n",
       "0.7738 | 1\n",
       "... (73 rows omitted)"
      ]
     },
     "execution_count": 127,
     "metadata": {},
     "output_type": "execute_result"
    }
   ],
   "source": [
    "only_females = BMD.where('sex', 'F')\n",
    "females_BMD = Table().with_columns('bmd', only_females.column('bmd'), 'Over 65', only_females.apply(over_sixity_five, 'age'))\n",
    "females_BMD"
   ]
  },
  {
   "cell_type": "markdown",
   "metadata": {},
   "source": [
    "**Question 2.1.2.** Find the difference in mean bmd values for females under 65 compared to those 65 and older. Assign this float value to `mean_bmd_diff`. *(4 pts)*"
   ]
  },
  {
   "cell_type": "code",
   "execution_count": 128,
   "metadata": {},
   "outputs": [
    {
     "data": {
      "text/html": [
       "<table border=\"1\" class=\"dataframe\">\n",
       "    <thead>\n",
       "        <tr>\n",
       "            <th>Over 65</th> <th>bmd mean</th>\n",
       "        </tr>\n",
       "    </thead>\n",
       "    <tbody>\n",
       "        <tr>\n",
       "            <td>0      </td> <td>0.78713 </td>\n",
       "        </tr>\n",
       "        <tr>\n",
       "            <td>1      </td> <td>0.687577</td>\n",
       "        </tr>\n",
       "    </tbody>\n",
       "</table>"
      ],
      "text/plain": [
       "Over 65 | bmd mean\n",
       "0       | 0.78713\n",
       "1       | 0.687577"
      ]
     },
     "execution_count": 128,
     "metadata": {},
     "output_type": "execute_result"
    }
   ],
   "source": [
    "grouping = females_BMD.group('Over 65', np.mean)\n",
    "grouping"
   ]
  },
  {
   "cell_type": "code",
   "execution_count": 129,
   "metadata": {},
   "outputs": [
    {
     "data": {
      "text/plain": [
       "0.09955273452325575"
      ]
     },
     "execution_count": 129,
     "metadata": {},
     "output_type": "execute_result"
    }
   ],
   "source": [
    "mean_bmd_diff = grouping.column(1).item(0) - grouping.column(1).item(1)\n",
    "mean_bmd_diff"
   ]
  },
  {
   "cell_type": "markdown",
   "metadata": {},
   "source": [
    "**Question 2.1.3.** Perform a hypothesis test (using A/B testing methods used in this class) to draw a conclusion about the null and alternative hypotheses below at a 5% significance level. Describe your conclusions using simple, non-technical language. Assign the p-value of your hypothesis test to `bmd_p_value` *(6 pts)*\n",
    "\n",
    "Null Hypothesis: There is no difference in the mean bone mineral densities for females 65 and older compared to females under 65 years old.\n",
    "\n",
    "Alternative Hypothesis: Females 65 and older have lower mean bone mineral densities compared to females under 65 years old.\n",
    "\n"
   ]
  },
  {
   "cell_type": "code",
   "execution_count": 130,
   "metadata": {},
   "outputs": [],
   "source": [
    "# Perform your hypothesis test here"
   ]
  },
  {
   "cell_type": "code",
   "execution_count": 131,
   "metadata": {},
   "outputs": [],
   "source": [
    "def difference_of_props(table, group_label, outcome):\n",
    "    \"\"\"Takes: name of table, column label of binary categorical variable,\n",
    "    column label of group-label variable\n",
    "    Returns: Difference of proportions of the two groups\"\"\"\n",
    "    \n",
    "    #table with the two relevant columns\n",
    "    reduced = table.select(outcome, group_label)  \n",
    "    \n",
    "    # table containing counts for each group\n",
    "    summary_table = reduced.group(group_label, np.mean)\n",
    "    \n",
    "    return summary_table.column(1).item(0) - summary_table.column(1).item(1)\n",
    "\n",
    "def one_simulated_difference(table, group_label, outcome):\n",
    "    \"\"\"Takes: name of table, column label of binary cateogorcial variable,\n",
    "    column label of group-label variable\n",
    "    Returns: Difference of proportions of the two groups after shuffling labels\"\"\"\n",
    "    \n",
    "    # array of shuffled labels\n",
    "    shuffled_labels = table.sample(with_replacement = False).column(group_label)\n",
    "    \n",
    "    # table of outcome variable and shuffled labels\n",
    "    shuffled_table = table.select(outcome).with_column(\n",
    "        'Shuffled Label', shuffled_labels)\n",
    "    \n",
    "    return difference_of_props(shuffled_table, 'Shuffled Label', outcome) "
   ]
  },
  {
   "cell_type": "code",
   "execution_count": 132,
   "metadata": {},
   "outputs": [],
   "source": [
    "differences = make_array()\n",
    "\n",
    "for i in np.arange(5000):\n",
    "    new_difference = one_simulated_difference(females_BMD, 'Over 65', 'bmd')\n",
    "    differences = np.append(differences, new_difference)"
   ]
  },
  {
   "cell_type": "code",
   "execution_count": 133,
   "metadata": {},
   "outputs": [
    {
     "data": {
      "text/plain": [
       "0.00080000000000000004"
      ]
     },
     "execution_count": 133,
     "metadata": {},
     "output_type": "execute_result"
    }
   ],
   "source": [
    "bmd_p_value = sum(differences >= mean_bmd_diff)/5000\n",
    "bmd_p_value"
   ]
  },
  {
   "cell_type": "markdown",
   "metadata": {},
   "source": [
    "*Delete this and describe your conclusions using simple, non-technical language*"
   ]
  },
  {
   "cell_type": "markdown",
   "metadata": {
    "tags": []
   },
   "source": [
    "### 2.2 Bone Mineral Density vs. Age *(17 pts total)*"
   ]
  },
  {
   "cell_type": "markdown",
   "metadata": {},
   "source": [
    "**Question 2.2.1** In questions 1.5 & 1.6 you analyzed the relationship between bone mineral density and age. Determine the slope and the intercept for the linear regression model using age as the predictor and bone mineral density as the response (again using the `BMD` table containing males and females). Assign the value of the slope of this model to `BMD_slope` and the intercept of this model to `BMD_intercept`. *(4 pts)*"
   ]
  },
  {
   "cell_type": "code",
   "execution_count": 134,
   "metadata": {},
   "outputs": [
    {
     "data": {
      "text/plain": [
       "0.71547628359218995"
      ]
     },
     "execution_count": 134,
     "metadata": {},
     "output_type": "execute_result"
    }
   ],
   "source": [
    "def slope(t, label_x, label_y):\n",
    "    r = correlation(t, label_x, label_y)\n",
    "    return r*np.std(t.column(label_y))/np.std(t.column(label_x))\n",
    "\n",
    "def intercept(t, label_x, label_y):\n",
    "    return np.mean(t.column(label_y)) - slope(t, label_x, label_y)*np.mean(t.column(label_x))\n",
    "\n",
    "BMD_slope = slope(BMD, 'age', 'bmd')\n",
    "BMD_intercept = intercept(BMD, 'age', 'bmd')\n",
    "\n",
    "# Do not change the below code\n",
    "80 * BMD_slope + BMD_intercept"
   ]
  },
  {
   "cell_type": "markdown",
   "metadata": {},
   "source": [
    "**Question 2.2.2** Construct a **99%** confidence interval for the population slope of the regression model from the previous question.  Assign the upper and lower bounds of your confidence interval to `lower_bound_BMD_slope` and `upper_bound_BMD_slope` *(6 pts)*"
   ]
  },
  {
   "cell_type": "code",
   "execution_count": 135,
   "metadata": {},
   "outputs": [],
   "source": [
    "# Perform your simulation here"
   ]
  },
  {
   "cell_type": "code",
   "execution_count": 136,
   "metadata": {},
   "outputs": [],
   "source": [
    "all_samples = make_array()\n",
    "\n",
    "for i in np.arange(5000):\n",
    "    new_sample = BMD.sample()\n",
    "    new_slope = slope(new_sample, 'age', 'bmd')\n",
    "    all_samples = np.append(all_samples, new_slope)"
   ]
  },
  {
   "cell_type": "code",
   "execution_count": 137,
   "metadata": {},
   "outputs": [
    {
     "data": {
      "text/plain": [
       "(-0.0064787116040265014, -0.001436080666011433)"
      ]
     },
     "execution_count": 137,
     "metadata": {},
     "output_type": "execute_result"
    }
   ],
   "source": [
    "lower_bound_BMD_slope = percentile(0.5, all_samples)\n",
    "upper_bound_BMD_slope = percentile(99.5, all_samples)\n",
    "\n",
    "# do not change the below code\n",
    "lower_bound_BMD_slope, upper_bound_BMD_slope"
   ]
  },
  {
   "cell_type": "markdown",
   "metadata": {},
   "source": [
    "**Question 2.2.3** Construct new table `BMD_with_residuals`. This table should include all of the rows and columns of the `BMD` table, as well as two new columns:\n",
    "\n",
    "1. `Prediction for BMD` - the values of the bone mineral density for each person predicted by the linear regression model.\n",
    "2. `Residual for BMD` - the differences between each person's actual bone mineral densities and the bone mineral densities predicted by the linear regression model. *(3 pts)*"
   ]
  },
  {
   "cell_type": "code",
   "execution_count": 138,
   "metadata": {},
   "outputs": [
    {
     "data": {
      "text/html": [
       "<table border=\"1\" class=\"dataframe\">\n",
       "    <thead>\n",
       "        <tr>\n",
       "            <th>id</th> <th>age</th> <th>sex</th> <th>fracture</th> <th>weight_kg</th> <th>height_cm</th> <th>medication</th> <th>waiting_time</th> <th>bmd</th> <th>Prediction for BMD</th> <th>Residual for BMD</th>\n",
       "        </tr>\n",
       "    </thead>\n",
       "    <tbody>\n",
       "        <tr>\n",
       "            <td>469  </td> <td>57.0528</td> <td>F   </td> <td>no fracture</td> <td>64       </td> <td>155.5    </td> <td>Anticonvulsant </td> <td>18          </td> <td>0.8793</td> <td>0.810285          </td> <td>0.0690151       </td>\n",
       "        </tr>\n",
       "        <tr>\n",
       "            <td>8724 </td> <td>75.7412</td> <td>F   </td> <td>no fracture</td> <td>78       </td> <td>162      </td> <td>No medication  </td> <td>56          </td> <td>0.7946</td> <td>0.733072          </td> <td>0.0615282       </td>\n",
       "        </tr>\n",
       "        <tr>\n",
       "            <td>6736 </td> <td>70.7789</td> <td>M   </td> <td>no fracture</td> <td>73       </td> <td>170.5    </td> <td>No medication  </td> <td>10          </td> <td>0.9067</td> <td>0.753574          </td> <td>0.153126        </td>\n",
       "        </tr>\n",
       "        <tr>\n",
       "            <td>24180</td> <td>78.2472</td> <td>F   </td> <td>no fracture</td> <td>60       </td> <td>148      </td> <td>No medication  </td> <td>14          </td> <td>0.7112</td> <td>0.722718          </td> <td>-0.0115182      </td>\n",
       "        </tr>\n",
       "        <tr>\n",
       "            <td>17072</td> <td>54.1919</td> <td>M   </td> <td>no fracture</td> <td>55       </td> <td>161      </td> <td>No medication  </td> <td>20          </td> <td>0.7909</td> <td>0.822105          </td> <td>-0.031205       </td>\n",
       "        </tr>\n",
       "        <tr>\n",
       "            <td>3806 </td> <td>77.1778</td> <td>M   </td> <td>no fracture</td> <td>65       </td> <td>168      </td> <td>No medication  </td> <td>7           </td> <td>0.7301</td> <td>0.727137          </td> <td>0.00296331      </td>\n",
       "        </tr>\n",
       "        <tr>\n",
       "            <td>17106</td> <td>56.1806</td> <td>M   </td> <td>no fracture</td> <td>77       </td> <td>159      </td> <td>No medication  </td> <td>26          </td> <td>1.0096</td> <td>0.813888          </td> <td>0.195712        </td>\n",
       "        </tr>\n",
       "        <tr>\n",
       "            <td>23834</td> <td>49.9161</td> <td>F   </td> <td>no fracture</td> <td>59       </td> <td>150      </td> <td>No medication  </td> <td>9           </td> <td>0.731 </td> <td>0.839771          </td> <td>-0.108771       </td>\n",
       "        </tr>\n",
       "        <tr>\n",
       "            <td>2454 </td> <td>68.4084</td> <td>M   </td> <td>no fracture</td> <td>64       </td> <td>167      </td> <td>Glucocorticoids</td> <td>6           </td> <td>0.6893</td> <td>0.763368          </td> <td>-0.074068       </td>\n",
       "        </tr>\n",
       "        <tr>\n",
       "            <td>2088 </td> <td>66.2566</td> <td>M   </td> <td>no fracture</td> <td>72       </td> <td>159.5    </td> <td>No medication  </td> <td>10          </td> <td>0.9466</td> <td>0.772258          </td> <td>0.174342        </td>\n",
       "        </tr>\n",
       "    </tbody>\n",
       "</table>\n",
       "<p>... (159 rows omitted)</p>"
      ],
      "text/plain": [
       "id    | age     | sex  | fracture    | weight_kg | height_cm | medication      | waiting_time | bmd    | Prediction for BMD | Residual for BMD\n",
       "469   | 57.0528 | F    | no fracture | 64        | 155.5     | Anticonvulsant  | 18           | 0.8793 | 0.810285           | 0.0690151\n",
       "8724  | 75.7412 | F    | no fracture | 78        | 162       | No medication   | 56           | 0.7946 | 0.733072           | 0.0615282\n",
       "6736  | 70.7789 | M    | no fracture | 73        | 170.5     | No medication   | 10           | 0.9067 | 0.753574           | 0.153126\n",
       "24180 | 78.2472 | F    | no fracture | 60        | 148       | No medication   | 14           | 0.7112 | 0.722718           | -0.0115182\n",
       "17072 | 54.1919 | M    | no fracture | 55        | 161       | No medication   | 20           | 0.7909 | 0.822105           | -0.031205\n",
       "3806  | 77.1778 | M    | no fracture | 65        | 168       | No medication   | 7            | 0.7301 | 0.727137           | 0.00296331\n",
       "17106 | 56.1806 | M    | no fracture | 77        | 159       | No medication   | 26           | 1.0096 | 0.813888           | 0.195712\n",
       "23834 | 49.9161 | F    | no fracture | 59        | 150       | No medication   | 9            | 0.731  | 0.839771           | -0.108771\n",
       "2454  | 68.4084 | M    | no fracture | 64        | 167       | Glucocorticoids | 6            | 0.6893 | 0.763368           | -0.074068\n",
       "2088  | 66.2566 | M    | no fracture | 72        | 159.5     | No medication   | 10           | 0.9466 | 0.772258           | 0.174342\n",
       "... (159 rows omitted)"
      ]
     },
     "execution_count": 138,
     "metadata": {},
     "output_type": "execute_result"
    }
   ],
   "source": [
    "predicted_BMD = BMD.with_column('Prediction for BMD', (BMD.column('age') * BMD_slope + BMD_intercept))\n",
    "BMD_with_residuals = predicted_BMD.with_column('Residual for BMD', (predicted_BMD.column('bmd') - (predicted_BMD.column('Prediction for BMD'))))\n",
    "BMD_with_residuals"
   ]
  },
  {
   "cell_type": "markdown",
   "metadata": {},
   "source": [
    "**Question 2.2.4.** Is there a pattern in the residuals based on if the person had a bone fracture? To answer this question make two plots, each with `Residual for BMD` on the vertical axis and `Prediction for BMD` on the horizontal axis. For the first plot only use the rows in the `BMD_with_residuals` table corresponding to those that have had a bone fracture. For the second plot only include those who have **not** had a bone fracture. Do the two plots show similar or different patterns in variability? *(4 pts)*"
   ]
  },
  {
   "cell_type": "code",
   "execution_count": 139,
   "metadata": {},
   "outputs": [],
   "source": [
    "BMD_with_fracture = BMD_with_residuals.where('fracture', 'no fracture')"
   ]
  },
  {
   "cell_type": "code",
   "execution_count": 140,
   "metadata": {},
   "outputs": [
    {
     "data": {
      "image/png": "[encoded data removed]",
      "text/plain": [
       "<Figure size 500x500 with 1 Axes>"
      ]
     },
     "metadata": {},
     "output_type": "display_data"
    }
   ],
   "source": [
    "# Plot for fractures\n",
    "BMD_with_fracture.scatter('Prediction for BMD', 'Residual for BMD', fit_line = True)"
   ]
  },
  {
   "cell_type": "code",
   "execution_count": 141,
   "metadata": {},
   "outputs": [],
   "source": [
    "BMD_without_fracture = BMD_with_residuals.where('fracture', 'fracture')"
   ]
  },
  {
   "cell_type": "code",
   "execution_count": 142,
   "metadata": {},
   "outputs": [
    {
     "data": {
      "image/png": "[encoded data removed]",
      "text/plain": [
       "<Figure size 500x500 with 1 Axes>"
      ]
     },
     "metadata": {},
     "output_type": "display_data"
    }
   ],
   "source": [
    "# Plot for no fractures\n",
    "BMD_without_fracture.scatter('Prediction for BMD', 'Residual for BMD', fit_line = True)"
   ]
  },
  {
   "cell_type": "markdown",
   "metadata": {},
   "source": [
    "**For both plots there is a similar downward slope, but in BMD with fracture the slope is steeper, while the BMD without fracture, the slope is not as steep**"
   ]
  },
  {
   "cell_type": "markdown",
   "metadata": {},
   "source": [
    "## 3. Classification *(11 pts total)*"
   ]
  },
  {
   "cell_type": "markdown",
   "metadata": {},
   "source": [
    "**Question 3.1** Construct a new table `BMD_classify` with four columns. The first three columns should be `bmd`, `age`, and `weight_kg` in standard units. The last column should be named `Class` and equal to the integer `1` for those that have had a fracture and equal to the integer `0` for those that have **not** had a fracture *(3 pts)*"
   ]
  },
  {
   "cell_type": "code",
   "execution_count": 143,
   "metadata": {},
   "outputs": [],
   "source": [
    "def facture_or_not(fracture):\n",
    "    if fracture == 'fracture':\n",
    "        return 1\n",
    "    \n",
    "    elif fracture == 'no fracture':\n",
    "        return 0"
   ]
  },
  {
   "cell_type": "code",
   "execution_count": 144,
   "metadata": {},
   "outputs": [
    {
     "data": {
      "text/html": [
       "<table border=\"1\" class=\"dataframe\">\n",
       "    <thead>\n",
       "        <tr>\n",
       "            <th>bmd SU</th> <th>age SU</th> <th>weight_kg SU</th> <th>Class</th>\n",
       "        </tr>\n",
       "    </thead>\n",
       "    <tbody>\n",
       "        <tr>\n",
       "            <td>0.579369 </td> <td>-0.533977</td> <td>-0.0578702  </td> <td>0    </td>\n",
       "        </tr>\n",
       "        <tr>\n",
       "            <td>0.0692374</td> <td>0.982904 </td> <td>1.1592      </td> <td>0    </td>\n",
       "        </tr>\n",
       "        <tr>\n",
       "            <td>0.744394 </td> <td>0.580128 </td> <td>0.724535    </td> <td>0    </td>\n",
       "        </tr>\n",
       "        <tr>\n",
       "            <td>-0.433065</td> <td>1.1863   </td> <td>-0.405606   </td> <td>0    </td>\n",
       "        </tr>\n",
       "        <tr>\n",
       "            <td>0.0469529</td> <td>-0.766186</td> <td>-0.840276   </td> <td>0    </td>\n",
       "        </tr>\n",
       "        <tr>\n",
       "            <td>-0.319234</td> <td>1.0995   </td> <td>0.0290637   </td> <td>0    </td>\n",
       "        </tr>\n",
       "        <tr>\n",
       "            <td>1.36414  </td> <td>-0.604766</td> <td>1.07227     </td> <td>0    </td>\n",
       "        </tr>\n",
       "        <tr>\n",
       "            <td>-0.313813</td> <td>-1.11323 </td> <td>-0.49254    </td> <td>0    </td>\n",
       "        </tr>\n",
       "        <tr>\n",
       "            <td>-0.564964</td> <td>0.387723 </td> <td>-0.0578702  </td> <td>0    </td>\n",
       "        </tr>\n",
       "        <tr>\n",
       "            <td>0.984705 </td> <td>0.213072 </td> <td>0.637601    </td> <td>0    </td>\n",
       "        </tr>\n",
       "    </tbody>\n",
       "</table>\n",
       "<p>... (159 rows omitted)</p>"
      ],
      "text/plain": [
       "bmd SU    | age SU    | weight_kg SU | Class\n",
       "0.579369  | -0.533977 | -0.0578702   | 0\n",
       "0.0692374 | 0.982904  | 1.1592       | 0\n",
       "0.744394  | 0.580128  | 0.724535     | 0\n",
       "-0.433065 | 1.1863    | -0.405606    | 0\n",
       "0.0469529 | -0.766186 | -0.840276    | 0\n",
       "-0.319234 | 1.0995    | 0.0290637    | 0\n",
       "1.36414   | -0.604766 | 1.07227      | 0\n",
       "-0.313813 | -1.11323  | -0.49254     | 0\n",
       "-0.564964 | 0.387723  | -0.0578702   | 0\n",
       "0.984705  | 0.213072  | 0.637601     | 0\n",
       "... (159 rows omitted)"
      ]
     },
     "execution_count": 144,
     "metadata": {},
     "output_type": "execute_result"
    }
   ],
   "source": [
    "BMD_classify = Table().with_columns(\n",
    "    'bmd SU', standard_units(BMD.column('bmd')),\n",
    "    'age SU', standard_units(BMD.column('age')), \n",
    "    'weight_kg SU', standard_units(BMD.column('weight_kg')),\n",
    "    'Class', BMD.apply(facture_or_not, 'fracture'))\n",
    "BMD_classify"
   ]
  },
  {
   "cell_type": "markdown",
   "metadata": {},
   "source": [
    "**Question 3.2** Construct two new tables (`BMD_train` and `BMD_test`). Randomly assign (approximately) 80% of the data in `BMD_classify` to the training set and the remaining (approximately) 20% of the data to the testing set. *(3 pts)*"
   ]
  },
  {
   "cell_type": "code",
   "execution_count": 145,
   "metadata": {},
   "outputs": [
    {
     "data": {
      "text/plain": [
       "135.0"
      ]
     },
     "execution_count": 145,
     "metadata": {},
     "output_type": "execute_result"
    }
   ],
   "source": [
    "np.round(169*.8)\n"
   ]
  },
  {
   "cell_type": "code",
   "execution_count": 146,
   "metadata": {},
   "outputs": [],
   "source": [
    "# do not change the line of code below\n",
    "np.random.seed(1236514109)\n",
    "# do not change the line of code above\n",
    "\n",
    "\n",
    "class_shuffle = BMD_classify.sample(with_replacement = False)\n",
    "BMD_train = class_shuffle.take(np.arange(0, 135))\n",
    "BMD_test = class_shuffle.take(np.arange(135, 169))"
   ]
  },
  {
   "cell_type": "markdown",
   "metadata": {},
   "source": [
    "**Question 3.3** Use the training data set to classify the first person in your testing data set as either `1` or `0` (corresponding to `fracture` or `no fracture`) by implementing a k-Nearest Neighbors algorithm (with k=5). Assign this value to `fracture_classification`. Then evaluate the accuracy of this classification model and assign `fracture_accuracy` to the proportion of your testing data that is correctly classified *(5 pts)*"
   ]
  },
  {
   "cell_type": "code",
   "execution_count": 147,
   "metadata": {},
   "outputs": [],
   "source": [
    "def distance(point1, point2):\n",
    "    \"\"\"Returns the distance between point1 and point2\n",
    "    where each argument is an array \n",
    "    consisting of the coordinates of the point\"\"\"\n",
    "    return np.sqrt(np.sum((point1 - point2)**2))\n",
    "\n",
    "def all_distances(training, new_point):\n",
    "    \"\"\"Returns an array of distances\n",
    "    between each point in the training set\n",
    "    and the new point (which is a row of attributes)\"\"\"\n",
    "    attributes = training.drop('Class')\n",
    "    def distance_from_point(row):\n",
    "        return distance(np.array(list(new_point)), np.array(list(row)))\n",
    "    return attributes.apply(distance_from_point)\n",
    "\n",
    "def table_with_distances(training, new_point):\n",
    "    \"\"\"Augments the training table \n",
    "    with a column of distances from new_point\"\"\"\n",
    "    return training.with_column('Distance', all_distances(training, new_point))\n",
    "\n",
    "def closest(training, new_point, k):\n",
    "    \"\"\"Returns a table of the k rows of the augmented table\n",
    "    corresponding to the k smallest distances\"\"\"\n",
    "    with_dists = table_with_distances(training, new_point)\n",
    "    sorted_by_distance = with_dists.sort('Distance')\n",
    "    topk = sorted_by_distance.take(np.arange(k))\n",
    "    return topk\n",
    "\n",
    "def majority(topkclasses):\n",
    "    ones = topkclasses.where('Class', are.equal_to(1)).num_rows\n",
    "    zeros = topkclasses.where('Class', are.equal_to(0)).num_rows\n",
    "    if ones > zeros:\n",
    "        return 1\n",
    "    else:\n",
    "        return 0\n",
    "\n",
    "def classify(training, new_point, k):\n",
    "    closestk = closest(training, new_point, k)\n",
    "    topkclasses = closestk.select('Class')\n",
    "    return majority(topkclasses)"
   ]
  },
  {
   "cell_type": "code",
   "execution_count": 148,
   "metadata": {},
   "outputs": [],
   "source": [
    "def evaluate_accuracy(training, test, k):\n",
    "    \"\"\"Return the proportion of correctly classified examples \n",
    "    in the test set\"\"\"\n",
    "    test_attributes = test.drop('Class')\n",
    "    num_correct = 0\n",
    "    for i in np.arange(test.num_rows):\n",
    "        c = classify(training, test_attributes.row(i), k)\n",
    "        num_correct = num_correct + (c == test.column('Class').item(i))\n",
    "    return num_correct / test.num_rows"
   ]
  },
  {
   "cell_type": "code",
   "execution_count": 149,
   "metadata": {},
   "outputs": [
    {
     "data": {
      "text/plain": [
       "array([ 1.41232455,  0.34852966, -0.23173812])"
      ]
     },
     "execution_count": 149,
     "metadata": {},
     "output_type": "execute_result"
    }
   ],
   "source": [
    "first_test_row = make_array(BMD_test.row(0).item(0), BMD_test.row(0).item(1), BMD_test.row(0).item(2))\n",
    "first_test_row"
   ]
  },
  {
   "cell_type": "code",
   "execution_count": 150,
   "metadata": {},
   "outputs": [
    {
     "data": {
      "text/plain": [
       "(0, 0.8529411764705882)"
      ]
     },
     "execution_count": 150,
     "metadata": {},
     "output_type": "execute_result"
    }
   ],
   "source": [
    "fracture_classification = classify(BMD_train, first_test_row, 5)\n",
    "\n",
    "fracture_accuracy = evaluate_accuracy(BMD_train, BMD_test, 5)\n",
    "\n",
    "fracture_classification, fracture_accuracy"
   ]
  }
 ],
 "metadata": {
  "kernelspec": {
   "display_name": "Python 3 (ipykernel)",
   "language": "python",
   "name": "python3"
  },
  "language_info": {
   "codemirror_mode": {
    "name": "ipython",
    "version": 3
   },
   "file_extension": ".py",
   "mimetype": "text/x-python",
   "name": "python",
   "nbconvert_exporter": "python",
   "pygments_lexer": "ipython3",
   "version": "3.9.13"
  }
 },
 "nbformat": 4,
 "nbformat_minor": 4
}
