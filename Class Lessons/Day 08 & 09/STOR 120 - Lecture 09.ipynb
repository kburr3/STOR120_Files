{
 "cells": [
  {
   "cell_type": "code",
   "execution_count": 2,
   "metadata": {},
   "outputs": [],
   "source": [
    "from datascience import *\n",
    "import numpy as np\n",
    "\n",
    "%matplotlib inline\n",
    "import matplotlib.pyplot as plots\n",
    "plots.style.use('fivethirtyeight')"
   ]
  },
  {
   "cell_type": "code",
   "execution_count": null,
   "metadata": {},
   "outputs": [],
   "source": []
  },
  {
   "cell_type": "markdown",
   "metadata": {},
   "source": [
    "## Lecture 9 ##"
   ]
  },
  {
   "cell_type": "markdown",
   "metadata": {},
   "source": [
    "## Visualization Review: Sleep Study ##"
   ]
  },
  {
   "cell_type": "code",
   "execution_count": 3,
   "metadata": {},
   "outputs": [
    {
     "data": {
      "text/html": [
       "<table border=\"1\" class=\"dataframe\">\n",
       "    <thead>\n",
       "        <tr>\n",
       "            <th>Gender</th> <th>ClassYear</th> <th>LarkOwl</th> <th>NumEarlyClass</th> <th>EarlyClass</th> <th>GPA</th> <th>ClassesMissed</th> <th>CognitionZscore</th> <th>PoorSleepQuality</th> <th>DepressionScore</th> <th>AnxietyScore</th> <th>StressScore</th> <th>DepressionStatus</th> <th>AnxietyStatus</th> <th>Stress</th> <th>DASScore</th> <th>Happiness</th> <th>AlcoholUse</th> <th>Drinks</th> <th>WeekdayBed</th> <th>WeekdayRise</th> <th>WeekdaySleep</th> <th>WeekendBed</th> <th>WeekendRise</th> <th>WeekendSleep</th> <th>AverageSleep</th> <th>AllNighter</th>\n",
       "        </tr>\n",
       "    </thead>\n",
       "    <tbody>\n",
       "        <tr>\n",
       "            <td>0     </td> <td>4        </td> <td>Neither</td> <td>0            </td> <td>0         </td> <td>3.6 </td> <td>0            </td> <td>-0.26          </td> <td>4               </td> <td>4              </td> <td>3           </td> <td>8          </td> <td>normal          </td> <td>normal       </td> <td>normal</td> <td>15      </td> <td>28       </td> <td>Moderate  </td> <td>10    </td> <td>25.75     </td> <td>8.7        </td> <td>7.7         </td> <td>25.75     </td> <td>9.5        </td> <td>5.88        </td> <td>7.18        </td> <td>0         </td>\n",
       "        </tr>\n",
       "        <tr>\n",
       "            <td>0     </td> <td>4        </td> <td>Neither</td> <td>2            </td> <td>1         </td> <td>3.24</td> <td>0            </td> <td>1.39           </td> <td>6               </td> <td>1              </td> <td>0           </td> <td>3          </td> <td>normal          </td> <td>normal       </td> <td>normal</td> <td>4       </td> <td>25       </td> <td>Moderate  </td> <td>6     </td> <td>25.7      </td> <td>8.2        </td> <td>6.8         </td> <td>26        </td> <td>10         </td> <td>7.25        </td> <td>6.93        </td> <td>0         </td>\n",
       "        </tr>\n",
       "        <tr>\n",
       "            <td>0     </td> <td>4        </td> <td>Owl    </td> <td>0            </td> <td>0         </td> <td>2.97</td> <td>12           </td> <td>0.38           </td> <td>18              </td> <td>18             </td> <td>18          </td> <td>9          </td> <td>moderate        </td> <td>severe       </td> <td>normal</td> <td>45      </td> <td>17       </td> <td>Light     </td> <td>3     </td> <td>27.44     </td> <td>6.55       </td> <td>3           </td> <td>28        </td> <td>12.59      </td> <td>10.09       </td> <td>5.02        </td> <td>0         </td>\n",
       "        </tr>\n",
       "        <tr>\n",
       "            <td>0     </td> <td>1        </td> <td>Lark   </td> <td>5            </td> <td>1         </td> <td>3.76</td> <td>0            </td> <td>1.39           </td> <td>9               </td> <td>1              </td> <td>4           </td> <td>6          </td> <td>normal          </td> <td>normal       </td> <td>normal</td> <td>11      </td> <td>32       </td> <td>Light     </td> <td>2     </td> <td>23.5      </td> <td>7.17       </td> <td>6.77        </td> <td>27        </td> <td>8          </td> <td>7.25        </td> <td>6.9         </td> <td>0         </td>\n",
       "        </tr>\n",
       "        <tr>\n",
       "            <td>0     </td> <td>4        </td> <td>Owl    </td> <td>0            </td> <td>0         </td> <td>3.2 </td> <td>4            </td> <td>1.22           </td> <td>9               </td> <td>7              </td> <td>25          </td> <td>14         </td> <td>normal          </td> <td>severe       </td> <td>normal</td> <td>46      </td> <td>15       </td> <td>Moderate  </td> <td>4     </td> <td>25.9      </td> <td>8.67       </td> <td>6.09        </td> <td>23.75     </td> <td>9.5        </td> <td>7           </td> <td>6.35        </td> <td>0         </td>\n",
       "        </tr>\n",
       "    </tbody>\n",
       "</table>\n",
       "<p>... (248 rows omitted)</p>"
      ],
      "text/plain": [
       "<IPython.core.display.HTML object>"
      ]
     },
     "metadata": {},
     "output_type": "display_data"
    }
   ],
   "source": [
    "sleep = Table.read_table('SleepStudy.csv')\n",
    "sleep.show(5)"
   ]
  },
  {
   "cell_type": "markdown",
   "metadata": {},
   "source": [
    "### Scatter Plots"
   ]
  },
  {
   "cell_type": "code",
   "execution_count": 4,
   "metadata": {},
   "outputs": [
    {
     "data": {
      "image/png": "[encoded data removed]",
      "text/plain": [
       "<Figure size 500x500 with 1 Axes>"
      ]
     },
     "metadata": {},
     "output_type": "display_data"
    }
   ],
   "source": [
    "sleep.scatter('DASScore', 'PoorSleepQuality')"
   ]
  },
  {
   "cell_type": "markdown",
   "metadata": {},
   "source": [
    "### Bar Charts"
   ]
  },
  {
   "cell_type": "code",
   "execution_count": 5,
   "metadata": {},
   "outputs": [
    {
     "data": {
      "text/html": [
       "<table border=\"1\" class=\"dataframe\">\n",
       "    <thead>\n",
       "        <tr>\n",
       "            <th>AnxietyStatus</th> <th>count</th>\n",
       "        </tr>\n",
       "    </thead>\n",
       "    <tbody>\n",
       "        <tr>\n",
       "            <td>moderate     </td> <td>56   </td>\n",
       "        </tr>\n",
       "        <tr>\n",
       "            <td>normal       </td> <td>181  </td>\n",
       "        </tr>\n",
       "        <tr>\n",
       "            <td>severe       </td> <td>16   </td>\n",
       "        </tr>\n",
       "    </tbody>\n",
       "</table>"
      ],
      "text/plain": [
       "AnxietyStatus | count\n",
       "moderate      | 56\n",
       "normal        | 181\n",
       "severe        | 16"
      ]
     },
     "execution_count": 5,
     "metadata": {},
     "output_type": "execute_result"
    }
   ],
   "source": [
    "AnxietyStatus = sleep.group('AnxietyStatus')\n",
    "AnxietyStatus"
   ]
  },
  {
   "cell_type": "code",
   "execution_count": 6,
   "metadata": {},
   "outputs": [
    {
     "data": {
      "image/png": "[encoded data removed]",
      "text/plain": [
       "<Figure size 600x400 with 1 Axes>"
      ]
     },
     "metadata": {},
     "output_type": "display_data"
    }
   ],
   "source": [
    "AnxietyStatus.barh('AnxietyStatus')"
   ]
  },
  {
   "cell_type": "markdown",
   "metadata": {},
   "source": [
    "### Histograms"
   ]
  },
  {
   "cell_type": "code",
   "execution_count": 7,
   "metadata": {},
   "outputs": [
    {
     "data": {
      "image/png": "[encoded data removed]",
      "text/plain": [
       "<Figure size 600x400 with 1 Axes>"
      ]
     },
     "metadata": {},
     "output_type": "display_data"
    }
   ],
   "source": [
    "sleep.hist('Drinks')"
   ]
  },
  {
   "cell_type": "code",
   "execution_count": 8,
   "metadata": {},
   "outputs": [
    {
     "data": {
      "image/png": "[encoded data removed]",
      "text/plain": [
       "<Figure size 600x400 with 1 Axes>"
      ]
     },
     "metadata": {},
     "output_type": "display_data"
    }
   ],
   "source": [
    "sleep.hist('AverageSleep')"
   ]
  },
  {
   "cell_type": "code",
   "execution_count": 9,
   "metadata": {},
   "outputs": [
    {
     "data": {
      "text/plain": [
       "(4.9500000000000002, 10.619999999999999)"
      ]
     },
     "execution_count": 9,
     "metadata": {},
     "output_type": "execute_result"
    }
   ],
   "source": [
    "min(sleep.column('AverageSleep')), max(sleep.column('AverageSleep'))"
   ]
  },
  {
   "cell_type": "code",
   "execution_count": 11,
   "metadata": {},
   "outputs": [],
   "source": [
    "sleep_bins = np.arange(4,11,0.5)"
   ]
  },
  {
   "cell_type": "code",
   "execution_count": 14,
   "metadata": {},
   "outputs": [
    {
     "data": {
      "image/png": "[encoded data removed]",
      "text/plain": [
       "<Figure size 600x400 with 1 Axes>"
      ]
     },
     "metadata": {},
     "output_type": "display_data"
    },
    {
     "data": {
      "image/png": "[encoded data removed]",
      "text/plain": [
       "<Figure size 600x400 with 1 Axes>"
      ]
     },
     "metadata": {},
     "output_type": "display_data"
    }
   ],
   "source": [
    "LarkSleep = sleep.where('LarkOwl', are.containing('Lark'))\n",
    "LarkSleep.hist('AverageSleep', bins=sleep_bins)\n",
    "plots.title('Early Bird');\n",
    "\n",
    "OwlSleep = sleep.where('LarkOwl', are.containing('Owl'))\n",
    "OwlSleep.hist('AverageSleep', bins=sleep_bins)\n",
    "plots.title('Night Owl');"
   ]
  },
  {
   "cell_type": "markdown",
   "metadata": {},
   "source": [
    "## Functions ##"
   ]
  },
  {
   "cell_type": "code",
   "execution_count": 15,
   "metadata": {},
   "outputs": [
    {
     "data": {
      "text/plain": [
       "7"
      ]
     },
     "execution_count": 15,
     "metadata": {},
     "output_type": "execute_result"
    }
   ],
   "source": [
    "max(5, 6, 7)"
   ]
  },
  {
   "cell_type": "code",
   "execution_count": 17,
   "metadata": {},
   "outputs": [],
   "source": [
    "def triple(x):\n",
    "    return 3 * x"
   ]
  },
  {
   "cell_type": "code",
   "execution_count": 18,
   "metadata": {},
   "outputs": [
    {
     "data": {
      "text/plain": [
       "9"
      ]
     },
     "execution_count": 18,
     "metadata": {},
     "output_type": "execute_result"
    }
   ],
   "source": [
    "triple(3)"
   ]
  },
  {
   "cell_type": "code",
   "execution_count": 19,
   "metadata": {},
   "outputs": [],
   "source": [
    "num = 4"
   ]
  },
  {
   "cell_type": "code",
   "execution_count": 20,
   "metadata": {},
   "outputs": [
    {
     "data": {
      "text/plain": [
       "12"
      ]
     },
     "execution_count": 20,
     "metadata": {},
     "output_type": "execute_result"
    }
   ],
   "source": [
    "triple(num)"
   ]
  },
  {
   "cell_type": "code",
   "execution_count": 21,
   "metadata": {},
   "outputs": [
    {
     "data": {
      "text/plain": [
       "60"
      ]
     },
     "execution_count": 21,
     "metadata": {},
     "output_type": "execute_result"
    }
   ],
   "source": [
    "triple(num * 5)"
   ]
  },
  {
   "cell_type": "markdown",
   "metadata": {},
   "source": [
    "### Note About Scopes"
   ]
  },
  {
   "cell_type": "code",
   "execution_count": 22,
   "metadata": {},
   "outputs": [],
   "source": [
    "def multiple_of_y(x):\n",
    "    y = 5\n",
    "    return y * x"
   ]
  },
  {
   "cell_type": "code",
   "execution_count": 23,
   "metadata": {},
   "outputs": [
    {
     "data": {
      "text/plain": [
       "50"
      ]
     },
     "execution_count": 23,
     "metadata": {},
     "output_type": "execute_result"
    }
   ],
   "source": [
    "multiple_of_y(10)"
   ]
  },
  {
   "cell_type": "code",
   "execution_count": 24,
   "metadata": {},
   "outputs": [],
   "source": [
    "def multiple_of_y(x):\n",
    "    y = 10\n",
    "    return y * x"
   ]
  },
  {
   "cell_type": "code",
   "execution_count": 25,
   "metadata": {},
   "outputs": [
    {
     "data": {
      "text/plain": [
       "100"
      ]
     },
     "execution_count": 25,
     "metadata": {},
     "output_type": "execute_result"
    }
   ],
   "source": [
    "multiple_of_y(10)"
   ]
  },
  {
   "cell_type": "code",
   "execution_count": null,
   "metadata": {},
   "outputs": [
    {
     "ename": "NameError",
     "evalue": "name 'y' is not defined",
     "output_type": "error",
     "traceback": [
      "\u001b[0;31m---------------------------------------------------------------------------\u001b[0m",
      "\u001b[0;31mNameError\u001b[0m                                 Traceback (most recent call last)",
      "\u001b[0;32m/var/folders/cp/bjvk0xwx5hx80rsxzhllwy2c0000gn/T/ipykernel_50049/3563912222.py\u001b[0m in \u001b[0;36m<module>\u001b[0;34m\u001b[0m\n\u001b[0;32m----> 1\u001b[0;31m \u001b[0my\u001b[0m\u001b[0;34m\u001b[0m\u001b[0;34m\u001b[0m\u001b[0m\n\u001b[0m",
      "\u001b[0;31mNameError\u001b[0m: name 'y' is not defined"
     ]
    }
   ],
   "source": [
    "y"
   ]
  },
  {
   "cell_type": "markdown",
   "metadata": {},
   "source": [
    "### Type Agnostic"
   ]
  },
  {
   "cell_type": "code",
   "execution_count": null,
   "metadata": {},
   "outputs": [
    {
     "data": {
      "text/plain": [
       "'hahaha'"
      ]
     },
     "execution_count": 27,
     "metadata": {},
     "output_type": "execute_result"
    }
   ],
   "source": [
    "triple('ha')"
   ]
  },
  {
   "cell_type": "code",
   "execution_count": null,
   "metadata": {},
   "outputs": [
    {
     "data": {
      "text/plain": [
       "array([ 0,  3,  6,  9, 12, 15, 18, 21, 24, 27])"
      ]
     },
     "execution_count": 28,
     "metadata": {},
     "output_type": "execute_result"
    }
   ],
   "source": [
    "triple(np.arange(10))"
   ]
  },
  {
   "cell_type": "markdown",
   "metadata": {},
   "source": [
    "### Questions"
   ]
  },
  {
   "cell_type": "code",
   "execution_count": null,
   "metadata": {},
   "outputs": [],
   "source": [
    "def f(s):\n",
    "    return np.round(s / sum(s) * 100, 2)"
   ]
  },
  {
   "cell_type": "code",
   "execution_count": null,
   "metadata": {},
   "outputs": [
    {
     "ename": "TypeError",
     "evalue": "'int' object is not iterable",
     "output_type": "error",
     "traceback": [
      "\u001b[0;31m---------------------------------------------------------------------------\u001b[0m",
      "\u001b[0;31mTypeError\u001b[0m                                 Traceback (most recent call last)",
      "\u001b[0;32m/var/folders/cp/bjvk0xwx5hx80rsxzhllwy2c0000gn/T/ipykernel_50049/1408095538.py\u001b[0m in \u001b[0;36m<module>\u001b[0;34m\u001b[0m\n\u001b[0;32m----> 1\u001b[0;31m \u001b[0mf\u001b[0m\u001b[0;34m(\u001b[0m\u001b[0;36m5\u001b[0m\u001b[0;34m)\u001b[0m\u001b[0;34m\u001b[0m\u001b[0;34m\u001b[0m\u001b[0m\n\u001b[0m",
      "\u001b[0;32m/var/folders/cp/bjvk0xwx5hx80rsxzhllwy2c0000gn/T/ipykernel_50049/1606527534.py\u001b[0m in \u001b[0;36mf\u001b[0;34m(s)\u001b[0m\n\u001b[1;32m      1\u001b[0m \u001b[0;32mdef\u001b[0m \u001b[0mf\u001b[0m\u001b[0;34m(\u001b[0m\u001b[0ms\u001b[0m\u001b[0;34m)\u001b[0m\u001b[0;34m:\u001b[0m\u001b[0;34m\u001b[0m\u001b[0;34m\u001b[0m\u001b[0m\n\u001b[0;32m----> 2\u001b[0;31m     \u001b[0;32mreturn\u001b[0m \u001b[0mnp\u001b[0m\u001b[0;34m.\u001b[0m\u001b[0mround\u001b[0m\u001b[0;34m(\u001b[0m\u001b[0ms\u001b[0m \u001b[0;34m/\u001b[0m \u001b[0msum\u001b[0m\u001b[0;34m(\u001b[0m\u001b[0ms\u001b[0m\u001b[0;34m)\u001b[0m \u001b[0;34m*\u001b[0m \u001b[0;36m100\u001b[0m\u001b[0;34m,\u001b[0m \u001b[0;36m2\u001b[0m\u001b[0;34m)\u001b[0m\u001b[0;34m\u001b[0m\u001b[0;34m\u001b[0m\u001b[0m\n\u001b[0m",
      "\u001b[0;31mTypeError\u001b[0m: 'int' object is not iterable"
     ]
    }
   ],
   "source": [
    "f(5)"
   ]
  },
  {
   "cell_type": "code",
   "execution_count": null,
   "metadata": {},
   "outputs": [
    {
     "ename": "TypeError",
     "evalue": "'float' object is not iterable",
     "output_type": "error",
     "traceback": [
      "\u001b[0;31m---------------------------------------------------------------------------\u001b[0m",
      "\u001b[0;31mTypeError\u001b[0m                                 Traceback (most recent call last)",
      "\u001b[0;32m/var/folders/cp/bjvk0xwx5hx80rsxzhllwy2c0000gn/T/ipykernel_50049/2806743271.py\u001b[0m in \u001b[0;36m<module>\u001b[0;34m\u001b[0m\n\u001b[0;32m----> 1\u001b[0;31m \u001b[0mf\u001b[0m\u001b[0;34m(\u001b[0m\u001b[0;36m5.0\u001b[0m\u001b[0;34m)\u001b[0m\u001b[0;34m\u001b[0m\u001b[0;34m\u001b[0m\u001b[0m\n\u001b[0m",
      "\u001b[0;32m/var/folders/cp/bjvk0xwx5hx80rsxzhllwy2c0000gn/T/ipykernel_50049/1606527534.py\u001b[0m in \u001b[0;36mf\u001b[0;34m(s)\u001b[0m\n\u001b[1;32m      1\u001b[0m \u001b[0;32mdef\u001b[0m \u001b[0mf\u001b[0m\u001b[0;34m(\u001b[0m\u001b[0ms\u001b[0m\u001b[0;34m)\u001b[0m\u001b[0;34m:\u001b[0m\u001b[0;34m\u001b[0m\u001b[0;34m\u001b[0m\u001b[0m\n\u001b[0;32m----> 2\u001b[0;31m     \u001b[0;32mreturn\u001b[0m \u001b[0mnp\u001b[0m\u001b[0;34m.\u001b[0m\u001b[0mround\u001b[0m\u001b[0;34m(\u001b[0m\u001b[0ms\u001b[0m \u001b[0;34m/\u001b[0m \u001b[0msum\u001b[0m\u001b[0;34m(\u001b[0m\u001b[0ms\u001b[0m\u001b[0;34m)\u001b[0m \u001b[0;34m*\u001b[0m \u001b[0;36m100\u001b[0m\u001b[0;34m,\u001b[0m \u001b[0;36m2\u001b[0m\u001b[0;34m)\u001b[0m\u001b[0;34m\u001b[0m\u001b[0;34m\u001b[0m\u001b[0m\n\u001b[0m",
      "\u001b[0;31mTypeError\u001b[0m: 'float' object is not iterable"
     ]
    }
   ],
   "source": [
    "f(5.0)"
   ]
  },
  {
   "cell_type": "code",
   "execution_count": null,
   "metadata": {},
   "outputs": [
    {
     "ename": "TypeError",
     "evalue": "unsupported operand type(s) for +: 'int' and 'str'",
     "output_type": "error",
     "traceback": [
      "\u001b[0;31m---------------------------------------------------------------------------\u001b[0m",
      "\u001b[0;31mTypeError\u001b[0m                                 Traceback (most recent call last)",
      "\u001b[0;32m/var/folders/cp/bjvk0xwx5hx80rsxzhllwy2c0000gn/T/ipykernel_50049/3680111544.py\u001b[0m in \u001b[0;36m<module>\u001b[0;34m\u001b[0m\n\u001b[0;32m----> 1\u001b[0;31m \u001b[0mf\u001b[0m\u001b[0;34m(\u001b[0m\u001b[0;34m'boo'\u001b[0m\u001b[0;34m)\u001b[0m\u001b[0;34m\u001b[0m\u001b[0;34m\u001b[0m\u001b[0m\n\u001b[0m",
      "\u001b[0;32m/var/folders/cp/bjvk0xwx5hx80rsxzhllwy2c0000gn/T/ipykernel_50049/1606527534.py\u001b[0m in \u001b[0;36mf\u001b[0;34m(s)\u001b[0m\n\u001b[1;32m      1\u001b[0m \u001b[0;32mdef\u001b[0m \u001b[0mf\u001b[0m\u001b[0;34m(\u001b[0m\u001b[0ms\u001b[0m\u001b[0;34m)\u001b[0m\u001b[0;34m:\u001b[0m\u001b[0;34m\u001b[0m\u001b[0;34m\u001b[0m\u001b[0m\n\u001b[0;32m----> 2\u001b[0;31m     \u001b[0;32mreturn\u001b[0m \u001b[0mnp\u001b[0m\u001b[0;34m.\u001b[0m\u001b[0mround\u001b[0m\u001b[0;34m(\u001b[0m\u001b[0ms\u001b[0m \u001b[0;34m/\u001b[0m \u001b[0msum\u001b[0m\u001b[0;34m(\u001b[0m\u001b[0ms\u001b[0m\u001b[0;34m)\u001b[0m \u001b[0;34m*\u001b[0m \u001b[0;36m100\u001b[0m\u001b[0;34m,\u001b[0m \u001b[0;36m2\u001b[0m\u001b[0;34m)\u001b[0m\u001b[0;34m\u001b[0m\u001b[0;34m\u001b[0m\u001b[0m\n\u001b[0m",
      "\u001b[0;31mTypeError\u001b[0m: unsupported operand type(s) for +: 'int' and 'str'"
     ]
    }
   ],
   "source": [
    "f('boo')"
   ]
  },
  {
   "cell_type": "code",
   "execution_count": null,
   "metadata": {},
   "outputs": [
    {
     "data": {
      "text/plain": [
       "array([  0.,  10.,  20.,  30.,  40.])"
      ]
     },
     "execution_count": 33,
     "metadata": {},
     "output_type": "execute_result"
    }
   ],
   "source": [
    "my_new_array = np.arange(5)\n",
    "f(my_new_array)"
   ]
  },
  {
   "cell_type": "code",
   "execution_count": null,
   "metadata": {},
   "outputs": [
    {
     "data": {
      "text/plain": [
       "array([ 0.  ,  0.18,  0.36,  0.53,  0.71,  0.89,  1.07,  1.25,  1.43,\n",
       "        1.6 ,  1.78,  1.96,  2.14,  2.32,  2.5 ,  2.67,  2.85,  3.03,\n",
       "        3.21,  3.39,  3.57,  3.74,  3.92,  4.1 ,  4.28,  4.46,  4.63,\n",
       "        4.81,  4.99,  5.17,  5.35,  5.53,  5.7 ,  5.88])"
      ]
     },
     "execution_count": 34,
     "metadata": {},
     "output_type": "execute_result"
    }
   ],
   "source": [
    "my_newer_array = np.arange(0, 100, 3)\n",
    "my_newer_array\n",
    "\n",
    "f(my_newer_array)"
   ]
  },
  {
   "cell_type": "code",
   "execution_count": null,
   "metadata": {},
   "outputs": [],
   "source": [
    "def percent_of_whole(s):\n",
    "    return np.round(s / sum(s) * 100, 2)"
   ]
  },
  {
   "cell_type": "code",
   "execution_count": null,
   "metadata": {},
   "outputs": [
    {
     "data": {
      "text/plain": [
       "array([  0.,  10.,  20.,  30.,  40.])"
      ]
     },
     "execution_count": 36,
     "metadata": {},
     "output_type": "execute_result"
    }
   ],
   "source": [
    "percent_of_whole(my_new_array)"
   ]
  },
  {
   "cell_type": "markdown",
   "metadata": {},
   "source": [
    "## Apply ##"
   ]
  },
  {
   "cell_type": "code",
   "execution_count": 37,
   "metadata": {},
   "outputs": [
    {
     "data": {
      "text/html": [
       "<table border=\"1\" class=\"dataframe\">\n",
       "    <thead>\n",
       "        <tr>\n",
       "            <th>State</th> <th>Year Last Lived</th>\n",
       "        </tr>\n",
       "    </thead>\n",
       "    <tbody>\n",
       "        <tr>\n",
       "            <td>CT   </td> <td>2010           </td>\n",
       "        </tr>\n",
       "        <tr>\n",
       "            <td>CA   </td> <td>2016           </td>\n",
       "        </tr>\n",
       "        <tr>\n",
       "            <td>NY   </td> <td>2018           </td>\n",
       "        </tr>\n",
       "    </tbody>\n",
       "</table>"
      ],
      "text/plain": [
       "State | Year Last Lived\n",
       "CT    | 2010\n",
       "CA    | 2016\n",
       "NY    | 2018"
      ]
     },
     "execution_count": 37,
     "metadata": {},
     "output_type": "execute_result"
    }
   ],
   "source": [
    "My_States = Table().with_columns(\n",
    "    'State', make_array('CT', 'CA', 'NY'),\n",
    "    'Year Last Lived', make_array(2010, 2016, 2018)\n",
    ")\n",
    "My_States"
   ]
  },
  {
   "cell_type": "code",
   "execution_count": 38,
   "metadata": {},
   "outputs": [],
   "source": [
    "def how_long_since_left(x):\n",
    "    return 2021 - x"
   ]
  },
  {
   "cell_type": "code",
   "execution_count": 39,
   "metadata": {},
   "outputs": [
    {
     "data": {
      "text/plain": [
       "11"
      ]
     },
     "execution_count": 39,
     "metadata": {},
     "output_type": "execute_result"
    }
   ],
   "source": [
    "how_long_since_left(2010)"
   ]
  },
  {
   "cell_type": "code",
   "execution_count": 40,
   "metadata": {},
   "outputs": [
    {
     "data": {
      "text/plain": [
       "5"
      ]
     },
     "execution_count": 40,
     "metadata": {},
     "output_type": "execute_result"
    }
   ],
   "source": [
    "how_long_since_left(2016)"
   ]
  },
  {
   "cell_type": "code",
   "execution_count": 41,
   "metadata": {},
   "outputs": [
    {
     "data": {
      "text/plain": [
       "array([11,  5,  3])"
      ]
     },
     "execution_count": 41,
     "metadata": {},
     "output_type": "execute_result"
    }
   ],
   "source": [
    "My_States.apply(how_long_since_left, 'Year Last Lived')"
   ]
  },
  {
   "cell_type": "code",
   "execution_count": 42,
   "metadata": {},
   "outputs": [
    {
     "data": {
      "text/html": [
       "<table border=\"1\" class=\"dataframe\">\n",
       "    <thead>\n",
       "        <tr>\n",
       "            <th>Gender</th> <th>ClassYear</th> <th>LarkOwl</th> <th>NumEarlyClass</th> <th>EarlyClass</th> <th>GPA</th> <th>ClassesMissed</th> <th>CognitionZscore</th> <th>PoorSleepQuality</th> <th>DepressionScore</th> <th>AnxietyScore</th> <th>StressScore</th> <th>DepressionStatus</th> <th>AnxietyStatus</th> <th>Stress</th> <th>DASScore</th> <th>Happiness</th> <th>AlcoholUse</th> <th>Drinks</th> <th>WeekdayBed</th> <th>WeekdayRise</th> <th>WeekdaySleep</th> <th>WeekendBed</th> <th>WeekendRise</th> <th>WeekendSleep</th> <th>AverageSleep</th> <th>AllNighter</th>\n",
       "        </tr>\n",
       "    </thead>\n",
       "    <tbody>\n",
       "        <tr>\n",
       "            <td>0     </td> <td>4        </td> <td>Neither</td> <td>0            </td> <td>0         </td> <td>3.6 </td> <td>0            </td> <td>-0.26          </td> <td>4               </td> <td>4              </td> <td>3           </td> <td>8          </td> <td>normal          </td> <td>normal       </td> <td>normal</td> <td>15      </td> <td>28       </td> <td>Moderate  </td> <td>10    </td> <td>25.75     </td> <td>8.7        </td> <td>7.7         </td> <td>25.75     </td> <td>9.5        </td> <td>5.88        </td> <td>7.18        </td> <td>0         </td>\n",
       "        </tr>\n",
       "        <tr>\n",
       "            <td>0     </td> <td>4        </td> <td>Neither</td> <td>2            </td> <td>1         </td> <td>3.24</td> <td>0            </td> <td>1.39           </td> <td>6               </td> <td>1              </td> <td>0           </td> <td>3          </td> <td>normal          </td> <td>normal       </td> <td>normal</td> <td>4       </td> <td>25       </td> <td>Moderate  </td> <td>6     </td> <td>25.7      </td> <td>8.2        </td> <td>6.8         </td> <td>26        </td> <td>10         </td> <td>7.25        </td> <td>6.93        </td> <td>0         </td>\n",
       "        </tr>\n",
       "        <tr>\n",
       "            <td>0     </td> <td>4        </td> <td>Owl    </td> <td>0            </td> <td>0         </td> <td>2.97</td> <td>12           </td> <td>0.38           </td> <td>18              </td> <td>18             </td> <td>18          </td> <td>9          </td> <td>moderate        </td> <td>severe       </td> <td>normal</td> <td>45      </td> <td>17       </td> <td>Light     </td> <td>3     </td> <td>27.44     </td> <td>6.55       </td> <td>3           </td> <td>28        </td> <td>12.59      </td> <td>10.09       </td> <td>5.02        </td> <td>0         </td>\n",
       "        </tr>\n",
       "        <tr>\n",
       "            <td>0     </td> <td>1        </td> <td>Lark   </td> <td>5            </td> <td>1         </td> <td>3.76</td> <td>0            </td> <td>1.39           </td> <td>9               </td> <td>1              </td> <td>4           </td> <td>6          </td> <td>normal          </td> <td>normal       </td> <td>normal</td> <td>11      </td> <td>32       </td> <td>Light     </td> <td>2     </td> <td>23.5      </td> <td>7.17       </td> <td>6.77        </td> <td>27        </td> <td>8          </td> <td>7.25        </td> <td>6.9         </td> <td>0         </td>\n",
       "        </tr>\n",
       "        <tr>\n",
       "            <td>0     </td> <td>4        </td> <td>Owl    </td> <td>0            </td> <td>0         </td> <td>3.2 </td> <td>4            </td> <td>1.22           </td> <td>9               </td> <td>7              </td> <td>25          </td> <td>14         </td> <td>normal          </td> <td>severe       </td> <td>normal</td> <td>46      </td> <td>15       </td> <td>Moderate  </td> <td>4     </td> <td>25.9      </td> <td>8.67       </td> <td>6.09        </td> <td>23.75     </td> <td>9.5        </td> <td>7           </td> <td>6.35        </td> <td>0         </td>\n",
       "        </tr>\n",
       "    </tbody>\n",
       "</table>\n",
       "<p>... (248 rows omitted)</p>"
      ],
      "text/plain": [
       "<IPython.core.display.HTML object>"
      ]
     },
     "metadata": {},
     "output_type": "display_data"
    }
   ],
   "source": [
    "sleep.show(5)"
   ]
  },
  {
   "cell_type": "code",
   "execution_count": 43,
   "metadata": {},
   "outputs": [],
   "source": [
    "def Calculate_DAS(Stress, Anxiety, Depression):\n",
    "    return sum(make_array(Stress, Anxiety, Depression))"
   ]
  },
  {
   "cell_type": "code",
   "execution_count": 44,
   "metadata": {},
   "outputs": [
    {
     "data": {
      "text/plain": [
       "15"
      ]
     },
     "execution_count": 44,
     "metadata": {},
     "output_type": "execute_result"
    }
   ],
   "source": [
    "Calculate_DAS(4, 3, 8)"
   ]
  },
  {
   "cell_type": "code",
   "execution_count": 45,
   "metadata": {},
   "outputs": [
    {
     "data": {
      "text/plain": [
       "15"
      ]
     },
     "execution_count": 45,
     "metadata": {},
     "output_type": "execute_result"
    }
   ],
   "source": [
    "Calculate_DAS(\n",
    "    sleep.column('StressScore').item(0),\n",
    "    sleep.column('AnxietyScore').item(0),\n",
    "    sleep.column('DepressionScore').item(0)\n",
    ")"
   ]
  },
  {
   "cell_type": "code",
   "execution_count": 46,
   "metadata": {},
   "outputs": [
    {
     "data": {
      "text/plain": [
       "array([15,  4, 45, 11, 46, 50,  2,  7, 48, 48, 27, 21, 41,  8,  5, 15, 44,\n",
       "       55,  6, 21, 34, 19, 12, 11, 18, 44, 41, 56, 18, 29, 53, 21,  7, 27,\n",
       "       41, 16,  7, 12, 26, 40,  4, 15,  0, 20, 22, 33, 31, 12,  7, 20,  8,\n",
       "       69, 15, 29,  4, 20, 59, 45,  5, 10,  6,  0, 16, 74, 26, 10, 10,  7,\n",
       "       23,  6, 11, 12, 28, 56, 21, 31, 39,  9, 11, 14, 29,  9, 36,  1, 41,\n",
       "        2, 47, 10, 21, 46,  3, 40,  4, 18,  0,  8,  7,  8,  8, 35,  0, 25,\n",
       "       25, 47, 53, 20,  3, 71, 25, 12, 22,  5,  1,  0, 10,  8,  2, 49,  6,\n",
       "       27,  2, 13, 31, 19,  8,  7, 17,  6, 45, 39,  6, 40, 10, 21, 13, 13,\n",
       "       19, 54,  2, 28, 31, 22, 32, 82,  8, 14, 19, 21,  6, 21,  1, 23,  6,\n",
       "       24,  8,  4, 30, 42,  3,  2, 67,  8, 19, 30, 10,  2, 28,  9, 16, 15,\n",
       "       23,  6, 28, 43,  9, 10, 50, 18,  3, 36,  0, 21,  6,  5,  5, 11, 13,\n",
       "       26, 23, 12, 25, 43, 28, 31, 68,  3, 16, 17, 17, 48, 12,  1,  0, 12,\n",
       "        3, 22,  1, 25, 32, 37,  8, 10, 20,  1,  2, 36, 15, 21, 10, 17,  9,\n",
       "       11,  4,  2,  2,  5, 29, 27, 34, 13, 22, 14, 11, 14, 45, 27,  2, 13,\n",
       "       12, 24, 12,  4,  7, 27, 24, 11,  2,  9, 24, 19,  3,  5,  5])"
      ]
     },
     "execution_count": 46,
     "metadata": {},
     "output_type": "execute_result"
    }
   ],
   "source": [
    "sleep.apply(Calculate_DAS, 'StressScore', 'AnxietyScore', 'DepressionScore')"
   ]
  },
  {
   "cell_type": "code",
   "execution_count": 47,
   "metadata": {},
   "outputs": [
    {
     "data": {
      "text/html": [
       "<table border=\"1\" class=\"dataframe\">\n",
       "    <thead>\n",
       "        <tr>\n",
       "            <th>Gender</th> <th>ClassYear</th> <th>LarkOwl</th> <th>NumEarlyClass</th> <th>EarlyClass</th> <th>GPA</th> <th>ClassesMissed</th> <th>CognitionZscore</th> <th>PoorSleepQuality</th> <th>DepressionScore</th> <th>AnxietyScore</th> <th>StressScore</th> <th>DepressionStatus</th> <th>AnxietyStatus</th> <th>Stress</th> <th>DASScore</th> <th>Happiness</th> <th>AlcoholUse</th> <th>Drinks</th> <th>WeekdayBed</th> <th>WeekdayRise</th> <th>WeekdaySleep</th> <th>WeekendBed</th> <th>WeekendRise</th> <th>WeekendSleep</th> <th>AverageSleep</th> <th>AllNighter</th> <th>DAS Calculation</th>\n",
       "        </tr>\n",
       "    </thead>\n",
       "    <tbody>\n",
       "        <tr>\n",
       "            <td>0     </td> <td>4        </td> <td>Neither</td> <td>0            </td> <td>0         </td> <td>3.6 </td> <td>0            </td> <td>-0.26          </td> <td>4               </td> <td>4              </td> <td>3           </td> <td>8          </td> <td>normal          </td> <td>normal       </td> <td>normal</td> <td>15      </td> <td>28       </td> <td>Moderate  </td> <td>10    </td> <td>25.75     </td> <td>8.7        </td> <td>7.7         </td> <td>25.75     </td> <td>9.5        </td> <td>5.88        </td> <td>7.18        </td> <td>0         </td> <td>15             </td>\n",
       "        </tr>\n",
       "        <tr>\n",
       "            <td>0     </td> <td>4        </td> <td>Neither</td> <td>2            </td> <td>1         </td> <td>3.24</td> <td>0            </td> <td>1.39           </td> <td>6               </td> <td>1              </td> <td>0           </td> <td>3          </td> <td>normal          </td> <td>normal       </td> <td>normal</td> <td>4       </td> <td>25       </td> <td>Moderate  </td> <td>6     </td> <td>25.7      </td> <td>8.2        </td> <td>6.8         </td> <td>26        </td> <td>10         </td> <td>7.25        </td> <td>6.93        </td> <td>0         </td> <td>4              </td>\n",
       "        </tr>\n",
       "        <tr>\n",
       "            <td>0     </td> <td>4        </td> <td>Owl    </td> <td>0            </td> <td>0         </td> <td>2.97</td> <td>12           </td> <td>0.38           </td> <td>18              </td> <td>18             </td> <td>18          </td> <td>9          </td> <td>moderate        </td> <td>severe       </td> <td>normal</td> <td>45      </td> <td>17       </td> <td>Light     </td> <td>3     </td> <td>27.44     </td> <td>6.55       </td> <td>3           </td> <td>28        </td> <td>12.59      </td> <td>10.09       </td> <td>5.02        </td> <td>0         </td> <td>45             </td>\n",
       "        </tr>\n",
       "        <tr>\n",
       "            <td>0     </td> <td>1        </td> <td>Lark   </td> <td>5            </td> <td>1         </td> <td>3.76</td> <td>0            </td> <td>1.39           </td> <td>9               </td> <td>1              </td> <td>4           </td> <td>6          </td> <td>normal          </td> <td>normal       </td> <td>normal</td> <td>11      </td> <td>32       </td> <td>Light     </td> <td>2     </td> <td>23.5      </td> <td>7.17       </td> <td>6.77        </td> <td>27        </td> <td>8          </td> <td>7.25        </td> <td>6.9         </td> <td>0         </td> <td>11             </td>\n",
       "        </tr>\n",
       "        <tr>\n",
       "            <td>0     </td> <td>4        </td> <td>Owl    </td> <td>0            </td> <td>0         </td> <td>3.2 </td> <td>4            </td> <td>1.22           </td> <td>9               </td> <td>7              </td> <td>25          </td> <td>14         </td> <td>normal          </td> <td>severe       </td> <td>normal</td> <td>46      </td> <td>15       </td> <td>Moderate  </td> <td>4     </td> <td>25.9      </td> <td>8.67       </td> <td>6.09        </td> <td>23.75     </td> <td>9.5        </td> <td>7           </td> <td>6.35        </td> <td>0         </td> <td>46             </td>\n",
       "        </tr>\n",
       "        <tr>\n",
       "            <td>1     </td> <td>4        </td> <td>Neither</td> <td>0            </td> <td>0         </td> <td>3.5 </td> <td>0            </td> <td>-0.04          </td> <td>6               </td> <td>14             </td> <td>8           </td> <td>28         </td> <td>moderate        </td> <td>moderate     </td> <td>high  </td> <td>50      </td> <td>22       </td> <td>Abstain   </td> <td>0     </td> <td>23.8      </td> <td>8.95       </td> <td>9.05        </td> <td>26        </td> <td>10.75      </td> <td>9           </td> <td>9.04        </td> <td>0         </td> <td>50             </td>\n",
       "        </tr>\n",
       "        <tr>\n",
       "            <td>1     </td> <td>2        </td> <td>Lark   </td> <td>2            </td> <td>1         </td> <td>3.35</td> <td>2            </td> <td>0.41           </td> <td>2               </td> <td>1              </td> <td>0           </td> <td>1          </td> <td>normal          </td> <td>normal       </td> <td>normal</td> <td>2       </td> <td>25       </td> <td>Moderate  </td> <td>6     </td> <td>25.35     </td> <td>8.48       </td> <td>7.73        </td> <td>25.63     </td> <td>10.13      </td> <td>7           </td> <td>7.52        </td> <td>1         </td> <td>2              </td>\n",
       "        </tr>\n",
       "        <tr>\n",
       "            <td>0     </td> <td>2        </td> <td>Lark   </td> <td>0            </td> <td>0         </td> <td>3   </td> <td>0            </td> <td>-0.59          </td> <td>10              </td> <td>2              </td> <td>2           </td> <td>3          </td> <td>normal          </td> <td>normal       </td> <td>normal</td> <td>7       </td> <td>29       </td> <td>Light     </td> <td>3     </td> <td>23.9      </td> <td>9.07       </td> <td>9.02        </td> <td>25.13     </td> <td>9.75       </td> <td>9           </td> <td>9.01        </td> <td>0         </td> <td>7              </td>\n",
       "        </tr>\n",
       "        <tr>\n",
       "            <td>0     </td> <td>1        </td> <td>Neither</td> <td>2            </td> <td>1         </td> <td>4   </td> <td>0            </td> <td>1.03           </td> <td>5               </td> <td>12             </td> <td>16          </td> <td>20         </td> <td>moderate        </td> <td>severe       </td> <td>high  </td> <td>48      </td> <td>29       </td> <td>Light     </td> <td>3     </td> <td>24.4      </td> <td>8.75       </td> <td>8.25        </td> <td>24        </td> <td>9          </td> <td>9.25        </td> <td>8.54        </td> <td>0         </td> <td>48             </td>\n",
       "        </tr>\n",
       "        <tr>\n",
       "            <td>0     </td> <td>4        </td> <td>Neither</td> <td>2            </td> <td>1         </td> <td>2.9 </td> <td>0            </td> <td>0.72           </td> <td>2               </td> <td>6              </td> <td>11          </td> <td>31         </td> <td>normal          </td> <td>moderate     </td> <td>high  </td> <td>48      </td> <td>30       </td> <td>Moderate  </td> <td>6     </td> <td>26.2      </td> <td>8          </td> <td>6.6         </td> <td>25.38     </td> <td>10.25      </td> <td>6.88        </td> <td>6.68        </td> <td>0         </td> <td>48             </td>\n",
       "        </tr>\n",
       "    </tbody>\n",
       "</table>\n",
       "<p>... (243 rows omitted)</p>"
      ],
      "text/plain": [
       "Gender | ClassYear | LarkOwl | NumEarlyClass | EarlyClass | GPA  | ClassesMissed | CognitionZscore | PoorSleepQuality | DepressionScore | AnxietyScore | StressScore | DepressionStatus | AnxietyStatus | Stress | DASScore | Happiness | AlcoholUse | Drinks | WeekdayBed | WeekdayRise | WeekdaySleep | WeekendBed | WeekendRise | WeekendSleep | AverageSleep | AllNighter | DAS Calculation\n",
       "0      | 4         | Neither | 0             | 0          | 3.6  | 0             | -0.26           | 4                | 4               | 3            | 8           | normal           | normal        | normal | 15       | 28        | Moderate   | 10     | 25.75      | 8.7         | 7.7          | 25.75      | 9.5         | 5.88         | 7.18         | 0          | 15\n",
       "0      | 4         | Neither | 2             | 1          | 3.24 | 0             | 1.39            | 6                | 1               | 0            | 3           | normal           | normal        | normal | 4        | 25        | Moderate   | 6      | 25.7       | 8.2         | 6.8          | 26         | 10          | 7.25         | 6.93         | 0          | 4\n",
       "0      | 4         | Owl     | 0             | 0          | 2.97 | 12            | 0.38            | 18               | 18              | 18           | 9           | moderate         | severe        | normal | 45       | 17        | Light      | 3      | 27.44      | 6.55        | 3            | 28         | 12.59       | 10.09        | 5.02         | 0          | 45\n",
       "0      | 1         | Lark    | 5             | 1          | 3.76 | 0             | 1.39            | 9                | 1               | 4            | 6           | normal           | normal        | normal | 11       | 32        | Light      | 2      | 23.5       | 7.17        | 6.77         | 27         | 8           | 7.25         | 6.9          | 0          | 11\n",
       "0      | 4         | Owl     | 0             | 0          | 3.2  | 4             | 1.22            | 9                | 7               | 25           | 14          | normal           | severe        | normal | 46       | 15        | Moderate   | 4      | 25.9       | 8.67        | 6.09         | 23.75      | 9.5         | 7            | 6.35         | 0          | 46\n",
       "1      | 4         | Neither | 0             | 0          | 3.5  | 0             | -0.04           | 6                | 14              | 8            | 28          | moderate         | moderate      | high   | 50       | 22        | Abstain    | 0      | 23.8       | 8.95        | 9.05         | 26         | 10.75       | 9            | 9.04         | 0          | 50\n",
       "1      | 2         | Lark    | 2             | 1          | 3.35 | 2             | 0.41            | 2                | 1               | 0            | 1           | normal           | normal        | normal | 2        | 25        | Moderate   | 6      | 25.35      | 8.48        | 7.73         | 25.63      | 10.13       | 7            | 7.52         | 1          | 2\n",
       "0      | 2         | Lark    | 0             | 0          | 3    | 0             | -0.59           | 10               | 2               | 2            | 3           | normal           | normal        | normal | 7        | 29        | Light      | 3      | 23.9       | 9.07        | 9.02         | 25.13      | 9.75        | 9            | 9.01         | 0          | 7\n",
       "0      | 1         | Neither | 2             | 1          | 4    | 0             | 1.03            | 5                | 12              | 16           | 20          | moderate         | severe        | high   | 48       | 29        | Light      | 3      | 24.4       | 8.75        | 8.25         | 24         | 9           | 9.25         | 8.54         | 0          | 48\n",
       "0      | 4         | Neither | 2             | 1          | 2.9  | 0             | 0.72            | 2                | 6               | 11           | 31          | normal           | moderate      | high   | 48       | 30        | Moderate   | 6      | 26.2       | 8           | 6.6          | 25.38      | 10.25       | 6.88         | 6.68         | 0          | 48\n",
       "... (243 rows omitted)"
      ]
     },
     "execution_count": 47,
     "metadata": {},
     "output_type": "execute_result"
    }
   ],
   "source": [
    "sleep = sleep.with_column(\n",
    "    'DAS Calculation', sleep.apply(Calculate_DAS, 'StressScore', 'AnxietyScore', 'DepressionScore')\n",
    ")\n",
    "\n",
    "sleep"
   ]
  },
  {
   "cell_type": "code",
   "execution_count": 48,
   "metadata": {},
   "outputs": [
    {
     "data": {
      "text/html": [
       "<table border=\"1\" class=\"dataframe\">\n",
       "    <thead>\n",
       "        <tr>\n",
       "            <th>DASScore</th> <th>DAS Calculation</th>\n",
       "        </tr>\n",
       "    </thead>\n",
       "    <tbody>\n",
       "        <tr>\n",
       "            <td>15      </td> <td>15             </td>\n",
       "        </tr>\n",
       "        <tr>\n",
       "            <td>4       </td> <td>4              </td>\n",
       "        </tr>\n",
       "        <tr>\n",
       "            <td>45      </td> <td>45             </td>\n",
       "        </tr>\n",
       "        <tr>\n",
       "            <td>11      </td> <td>11             </td>\n",
       "        </tr>\n",
       "        <tr>\n",
       "            <td>46      </td> <td>46             </td>\n",
       "        </tr>\n",
       "        <tr>\n",
       "            <td>50      </td> <td>50             </td>\n",
       "        </tr>\n",
       "        <tr>\n",
       "            <td>2       </td> <td>2              </td>\n",
       "        </tr>\n",
       "        <tr>\n",
       "            <td>7       </td> <td>7              </td>\n",
       "        </tr>\n",
       "        <tr>\n",
       "            <td>48      </td> <td>48             </td>\n",
       "        </tr>\n",
       "        <tr>\n",
       "            <td>48      </td> <td>48             </td>\n",
       "        </tr>\n",
       "    </tbody>\n",
       "</table>\n",
       "<p>... (243 rows omitted)</p>"
      ],
      "text/plain": [
       "DASScore | DAS Calculation\n",
       "15       | 15\n",
       "4        | 4\n",
       "45       | 45\n",
       "11       | 11\n",
       "46       | 46\n",
       "50       | 50\n",
       "2        | 2\n",
       "7        | 7\n",
       "48       | 48\n",
       "48       | 48\n",
       "... (243 rows omitted)"
      ]
     },
     "execution_count": 48,
     "metadata": {},
     "output_type": "execute_result"
    }
   ],
   "source": [
    "sleep.select('DASScore', 'DAS Calculation')"
   ]
  }
 ],
 "metadata": {
  "anaconda-cloud": {},
  "kernelspec": {
   "display_name": "Python 3 (ipykernel)",
   "language": "python",
   "name": "python3"
  },
  "language_info": {
   "codemirror_mode": {
    "name": "ipython",
    "version": 3
   },
   "file_extension": ".py",
   "mimetype": "text/x-python",
   "name": "python",
   "nbconvert_exporter": "python",
   "pygments_lexer": "ipython3",
   "version": "3.9.13"
  }
 },
 "nbformat": 4,
 "nbformat_minor": 4
}
