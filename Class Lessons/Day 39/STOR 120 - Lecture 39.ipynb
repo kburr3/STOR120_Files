{
 "cells": [
  {
   "cell_type": "code",
   "execution_count": null,
   "metadata": {},
   "outputs": [],
   "source": [
    "from datascience import *\n",
    "import numpy as np\n",
    "np.warnings.filterwarnings('ignore', category=np.VisibleDeprecationWarning)  "
   ]
  },
  {
   "cell_type": "markdown",
   "metadata": {},
   "source": [
    "## Years and Majors"
   ]
  },
  {
   "cell_type": "code",
   "execution_count": null,
   "metadata": {},
   "outputs": [],
   "source": [
    "# np.array(list) converts list to an array\n",
    "# provided all the elements of list are of the same type\n",
    "\n",
    "n = 100\n",
    "second = round(n * 0.6)\n",
    "third = n - round(n * 0.6)\n",
    "\n",
    "year = np.array(\n",
    "    np.sum([\n",
    "        ['Second'] * second,\n",
    "        ['Third'] * third\n",
    "    ]),\n",
    "    dtype=object\n",
    ")\n",
    "\n",
    "major = np.array(\n",
    "    np.sum([\n",
    "        ['Declared'] * round(second * 0.5),\n",
    "        ['Undeclared'] * (second - round(second * 0.5)),\n",
    "        ['Declared'] * round(third * 0.8),\n",
    "        ['Undeclared'] * (third  - round(third * 0.8))\n",
    "    ]),\n",
    "    dtype=object\n",
    ")\n",
    "\n",
    "students = Table().with_columns(\n",
    "    'Year', year,\n",
    "    'Major', major\n",
    ")\n",
    "\n",
    "students"
   ]
  },
  {
   "cell_type": "code",
   "execution_count": null,
   "metadata": {},
   "outputs": [],
   "source": [
    "students.group('Year')"
   ]
  },
  {
   "cell_type": "code",
   "execution_count": null,
   "metadata": {},
   "outputs": [],
   "source": [
    "students.pivot('Year', 'Major')"
   ]
  },
  {
   "cell_type": "code",
   "execution_count": null,
   "metadata": {},
   "outputs": [],
   "source": [
    "# I pick one student at random...That student has declared a major!\n",
    "# Second Year or Third Year?\n",
    "\n",
    "# Probablity of third year\n",
    "32 / (30 + 32)"
   ]
  },
  {
   "cell_type": "code",
   "execution_count": null,
   "metadata": {},
   "outputs": [],
   "source": [
    "# Probability of second year\n",
    "30 / (30 + 32)"
   ]
  },
  {
   "cell_type": "markdown",
   "metadata": {},
   "source": [
    "## Tree Diagram Calculation"
   ]
  },
  {
   "cell_type": "code",
   "execution_count": null,
   "metadata": {},
   "outputs": [],
   "source": [
    "# P(third year | declared), from tree diagram\n",
    "\n",
    "(0.4 * 0.8) / (0.6 * 0.5 + 0.4 * 0.8)"
   ]
  },
  {
   "cell_type": "code",
   "execution_count": null,
   "metadata": {},
   "outputs": [],
   "source": [
    "# P(second year | declared), from tree diagram\n",
    "\n",
    "(0.6 * 0.5) / (0.6 * 0.5 + 0.4 * 0.8)"
   ]
  },
  {
   "cell_type": "markdown",
   "metadata": {},
   "source": [
    "## Monty Hall"
   ]
  },
  {
   "cell_type": "code",
   "execution_count": null,
   "metadata": {},
   "outputs": [],
   "source": [
    "# P(win car | switched), from tree diagram\n",
    "\n",
    "(2/3 * 1/2) / (2/3 * 1/2 + 1/3 * 1/2)"
   ]
  },
  {
   "cell_type": "markdown",
   "metadata": {},
   "source": [
    "## Disease Decisions"
   ]
  },
  {
   "cell_type": "code",
   "execution_count": null,
   "metadata": {},
   "outputs": [],
   "source": [
    "# P(disease | tested +)\n",
    "# if prior probability of disease is 1/10\n",
    "\n",
    "(0.001 * 1) / (0.001*1 + 0.999*0.05)"
   ]
  },
  {
   "cell_type": "code",
   "execution_count": null,
   "metadata": {},
   "outputs": [],
   "source": [
    "def create_population(prior_disease_prob, n):\n",
    "    \n",
    "    disease = round(n * prior_disease_prob)\n",
    "    no_disease = n - round(n * prior_disease_prob)\n",
    "\n",
    "    status = np.array(\n",
    "        np.sum([\n",
    "            ['Disease'] * disease,\n",
    "            ['No disease'] * no_disease\n",
    "        ]),\n",
    "        dtype=object\n",
    "    )\n",
    "        \n",
    "    result = np.array(\n",
    "        np.sum([\n",
    "            ['Test +'] * disease,\n",
    "            ['Test +'] * round(no_disease * 0.05),\n",
    "            ['Test -'] * (no_disease - round(no_disease * 0.05))\n",
    "        ]),\n",
    "        dtype=object\n",
    "    )\n",
    "                 \n",
    "    t = Table().with_columns(\n",
    "    'Status', status,\n",
    "    'Test Result', result\n",
    "    )\n",
    "    return t"
   ]
  },
  {
   "cell_type": "code",
   "execution_count": null,
   "metadata": {},
   "outputs": [],
   "source": [
    "create_population(1/1000, 10000)"
   ]
  },
  {
   "cell_type": "code",
   "execution_count": null,
   "metadata": {},
   "outputs": [],
   "source": [
    "create_population(1/1000, 10000).pivot('Test Result', 'Status')"
   ]
  },
  {
   "cell_type": "markdown",
   "metadata": {},
   "source": [
    "## More Common Disease"
   ]
  },
  {
   "cell_type": "code",
   "execution_count": null,
   "metadata": {},
   "outputs": [],
   "source": [
    "# P(disease | tested +)\n",
    "# if prior probability of disease is 1/10\n",
    "\n",
    "(0.1 * 1) / (0.1*1 + 0.9*0.05)"
   ]
  },
  {
   "cell_type": "code",
   "execution_count": null,
   "metadata": {},
   "outputs": [],
   "source": [
    "create_population(1/10, 10000).pivot('Test Result', 'Status')"
   ]
  },
  {
   "cell_type": "code",
   "execution_count": null,
   "metadata": {},
   "outputs": [],
   "source": [
    "# P(disease | tested +)\n",
    "# if prior probability of disease is 1/10\n",
    "\n",
    "1000 / (1000 + 450)"
   ]
  }
 ],
 "metadata": {
  "kernelspec": {
   "display_name": "Python 3 (ipykernel)",
   "language": "python",
   "name": "python3"
  },
  "language_info": {
   "codemirror_mode": {
    "name": "ipython",
    "version": 3
   },
   "file_extension": ".py",
   "mimetype": "text/x-python",
   "name": "python",
   "nbconvert_exporter": "python",
   "pygments_lexer": "ipython3",
   "version": "3.9.13"
  }
 },
 "nbformat": 4,
 "nbformat_minor": 4
}
