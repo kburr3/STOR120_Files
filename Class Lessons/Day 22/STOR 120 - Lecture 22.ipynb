{
 "cells": [
  {
   "cell_type": "code",
   "execution_count": 1,
   "metadata": {},
   "outputs": [],
   "source": [
    "from datascience import *\n",
    "import numpy as np\n",
    "\n",
    "%matplotlib inline\n",
    "import matplotlib.pyplot as plots\n",
    "plots.style.use('fivethirtyeight')"
   ]
  },
  {
   "cell_type": "markdown",
   "metadata": {},
   "source": [
    "# Kristen Gilbert"
   ]
  },
  {
   "cell_type": "markdown",
   "metadata": {},
   "source": [
    "### Construct table of the data"
   ]
  },
  {
   "cell_type": "code",
   "execution_count": 2,
   "metadata": {},
   "outputs": [
    {
     "data": {
      "text/plain": [
       "array(['Yes', 'Yes', 'Yes', ..., 'No', 'No', 'No'],\n",
       "      dtype='<U3')"
      ]
     },
     "execution_count": 2,
     "metadata": {},
     "output_type": "execute_result"
    }
   ],
   "source": [
    "Gilbert_present = np.append(\n",
    "    np.repeat('Yes', 257), \n",
    "    np.repeat('No', 1384)\n",
    ")\n",
    "\n",
    "Gilbert_present"
   ]
  },
  {
   "cell_type": "code",
   "execution_count": 3,
   "metadata": {},
   "outputs": [
    {
     "data": {
      "text/plain": [
       "array([1, 1, 1, ..., 0, 0, 0])"
      ]
     },
     "execution_count": 3,
     "metadata": {},
     "output_type": "execute_result"
    }
   ],
   "source": [
    "Deaths = np.append(\n",
    "    np.append(np.repeat(1, 40), np.repeat(0, 217)),\n",
    "    np.append(np.repeat(1, 34), np.repeat(0, 1350))\n",
    ")\n",
    "\n",
    "Deaths   "
   ]
  },
  {
   "cell_type": "code",
   "execution_count": 4,
   "metadata": {},
   "outputs": [
    {
     "data": {
      "text/html": [
       "<table border=\"1\" class=\"dataframe\">\n",
       "    <thead>\n",
       "        <tr>\n",
       "            <th>Gilbert present</th> <th>Deaths</th>\n",
       "        </tr>\n",
       "    </thead>\n",
       "    <tbody>\n",
       "        <tr>\n",
       "            <td>Yes            </td> <td>1     </td>\n",
       "        </tr>\n",
       "        <tr>\n",
       "            <td>Yes            </td> <td>1     </td>\n",
       "        </tr>\n",
       "        <tr>\n",
       "            <td>Yes            </td> <td>1     </td>\n",
       "        </tr>\n",
       "        <tr>\n",
       "            <td>Yes            </td> <td>1     </td>\n",
       "        </tr>\n",
       "        <tr>\n",
       "            <td>Yes            </td> <td>1     </td>\n",
       "        </tr>\n",
       "        <tr>\n",
       "            <td>Yes            </td> <td>1     </td>\n",
       "        </tr>\n",
       "        <tr>\n",
       "            <td>Yes            </td> <td>1     </td>\n",
       "        </tr>\n",
       "        <tr>\n",
       "            <td>Yes            </td> <td>1     </td>\n",
       "        </tr>\n",
       "        <tr>\n",
       "            <td>Yes            </td> <td>1     </td>\n",
       "        </tr>\n",
       "        <tr>\n",
       "            <td>Yes            </td> <td>1     </td>\n",
       "        </tr>\n",
       "    </tbody>\n",
       "</table>\n",
       "<p>... (1631 rows omitted)</p>"
      ],
      "text/plain": [
       "Gilbert present | Deaths\n",
       "Yes             | 1\n",
       "Yes             | 1\n",
       "Yes             | 1\n",
       "Yes             | 1\n",
       "Yes             | 1\n",
       "Yes             | 1\n",
       "Yes             | 1\n",
       "Yes             | 1\n",
       "Yes             | 1\n",
       "Yes             | 1\n",
       "... (1631 rows omitted)"
      ]
     },
     "execution_count": 4,
     "metadata": {},
     "output_type": "execute_result"
    }
   ],
   "source": [
    "Gilbert = Table().with_columns(\n",
    "    'Gilbert present', Gilbert_present,\n",
    "    'Deaths', Deaths\n",
    ")\n",
    "\n",
    "Gilbert"
   ]
  },
  {
   "cell_type": "markdown",
   "metadata": {},
   "source": [
    "### Determine observed difference"
   ]
  },
  {
   "cell_type": "code",
   "execution_count": 5,
   "metadata": {},
   "outputs": [
    {
     "data": {
      "text/html": [
       "<table border=\"1\" class=\"dataframe\">\n",
       "    <thead>\n",
       "        <tr>\n",
       "            <th>Gilbert present</th> <th>Deaths mean</th>\n",
       "        </tr>\n",
       "    </thead>\n",
       "    <tbody>\n",
       "        <tr>\n",
       "            <td>No             </td> <td>0.0245665  </td>\n",
       "        </tr>\n",
       "        <tr>\n",
       "            <td>Yes            </td> <td>0.155642   </td>\n",
       "        </tr>\n",
       "    </tbody>\n",
       "</table>"
      ],
      "text/plain": [
       "Gilbert present | Deaths mean\n",
       "No              | 0.0245665\n",
       "Yes             | 0.155642"
      ]
     },
     "execution_count": 5,
     "metadata": {},
     "output_type": "execute_result"
    }
   ],
   "source": [
    "Gilbert_summary = Gilbert.group('Gilbert present', np.mean)\n",
    "Gilbert_summary"
   ]
  },
  {
   "cell_type": "code",
   "execution_count": 6,
   "metadata": {},
   "outputs": [
    {
     "data": {
      "text/plain": [
       "-0.1310755493578642"
      ]
     },
     "execution_count": 6,
     "metadata": {},
     "output_type": "execute_result"
    }
   ],
   "source": [
    "obs_diff_prop = Gilbert_summary.column(1).item(0) - Gilbert_summary.column(1).item(1)\n",
    "obs_diff_prop"
   ]
  },
  {
   "cell_type": "code",
   "execution_count": 7,
   "metadata": {},
   "outputs": [],
   "source": [
    "def difference_of_props(table, group_label, outcome):\n",
    "    \"\"\"Takes: name of table, column label of binary categorical variable,\n",
    "    column label of group-label variable\n",
    "    Returns: Difference of proportions of the two groups\"\"\"\n",
    "    \n",
    "    #table with the two relevant columns\n",
    "    reduced = table.select(outcome, group_label)  \n",
    "    \n",
    "    # table containing counts for each group\n",
    "    summary_table = reduced.group(group_label, np.mean)\n",
    "    \n",
    "    return summary_table.column(1).item(0) - summary_table.column(1).item(1)"
   ]
  },
  {
   "cell_type": "code",
   "execution_count": 8,
   "metadata": {},
   "outputs": [
    {
     "data": {
      "text/plain": [
       "-0.1310755493578642"
      ]
     },
     "execution_count": 8,
     "metadata": {},
     "output_type": "execute_result"
    }
   ],
   "source": [
    "difference_of_props(Gilbert, 'Gilbert present', 'Deaths')"
   ]
  },
  {
   "cell_type": "markdown",
   "metadata": {},
   "source": [
    "### Simulate one outcome"
   ]
  },
  {
   "cell_type": "code",
   "execution_count": 9,
   "metadata": {},
   "outputs": [
    {
     "data": {
      "text/plain": [
       "array(['No', 'No', 'No', ..., 'No', 'No', 'No'],\n",
       "      dtype='<U3')"
      ]
     },
     "execution_count": 9,
     "metadata": {},
     "output_type": "execute_result"
    }
   ],
   "source": [
    "shuffled_labels = Gilbert.sample(with_replacement=False).column('Gilbert present')\n",
    "shuffled_labels"
   ]
  },
  {
   "cell_type": "code",
   "execution_count": 10,
   "metadata": {},
   "outputs": [
    {
     "data": {
      "text/html": [
       "<table border=\"1\" class=\"dataframe\">\n",
       "    <thead>\n",
       "        <tr>\n",
       "            <th>Gilbert present</th> <th>Deaths</th> <th>Shuffled Label</th>\n",
       "        </tr>\n",
       "    </thead>\n",
       "    <tbody>\n",
       "        <tr>\n",
       "            <td>Yes            </td> <td>1     </td> <td>No            </td>\n",
       "        </tr>\n",
       "        <tr>\n",
       "            <td>Yes            </td> <td>1     </td> <td>No            </td>\n",
       "        </tr>\n",
       "        <tr>\n",
       "            <td>Yes            </td> <td>1     </td> <td>No            </td>\n",
       "        </tr>\n",
       "        <tr>\n",
       "            <td>Yes            </td> <td>1     </td> <td>No            </td>\n",
       "        </tr>\n",
       "        <tr>\n",
       "            <td>Yes            </td> <td>1     </td> <td>No            </td>\n",
       "        </tr>\n",
       "        <tr>\n",
       "            <td>Yes            </td> <td>1     </td> <td>No            </td>\n",
       "        </tr>\n",
       "        <tr>\n",
       "            <td>Yes            </td> <td>1     </td> <td>No            </td>\n",
       "        </tr>\n",
       "        <tr>\n",
       "            <td>Yes            </td> <td>1     </td> <td>Yes           </td>\n",
       "        </tr>\n",
       "        <tr>\n",
       "            <td>Yes            </td> <td>1     </td> <td>No            </td>\n",
       "        </tr>\n",
       "        <tr>\n",
       "            <td>Yes            </td> <td>1     </td> <td>No            </td>\n",
       "        </tr>\n",
       "    </tbody>\n",
       "</table>\n",
       "<p>... (1631 rows omitted)</p>"
      ],
      "text/plain": [
       "Gilbert present | Deaths | Shuffled Label\n",
       "Yes             | 1      | No\n",
       "Yes             | 1      | No\n",
       "Yes             | 1      | No\n",
       "Yes             | 1      | No\n",
       "Yes             | 1      | No\n",
       "Yes             | 1      | No\n",
       "Yes             | 1      | No\n",
       "Yes             | 1      | Yes\n",
       "Yes             | 1      | No\n",
       "Yes             | 1      | No\n",
       "... (1631 rows omitted)"
      ]
     },
     "execution_count": 10,
     "metadata": {},
     "output_type": "execute_result"
    }
   ],
   "source": [
    "original_and_shuffled = Gilbert.with_column(\n",
    "    'Shuffled Label', shuffled_labels\n",
    ")\n",
    "\n",
    "original_and_shuffled"
   ]
  },
  {
   "cell_type": "code",
   "execution_count": 11,
   "metadata": {},
   "outputs": [
    {
     "data": {
      "text/plain": [
       "0.002718674793639367"
      ]
     },
     "execution_count": 11,
     "metadata": {},
     "output_type": "execute_result"
    }
   ],
   "source": [
    "difference_of_props(original_and_shuffled, 'Shuffled Label', 'Deaths')"
   ]
  },
  {
   "cell_type": "code",
   "execution_count": 12,
   "metadata": {},
   "outputs": [],
   "source": [
    "def one_simulated_difference(table, group_label, outcome):\n",
    "    \"\"\"Takes: name of table, column label of binary cateogorcial variable,\n",
    "    column label of group-label variable\n",
    "    Returns: Difference of proportions of the two groups after shuffling labels\"\"\"\n",
    "    \n",
    "    # array of shuffled labels\n",
    "    shuffled_labels = table.sample(with_replacement = False).column(group_label)\n",
    "    \n",
    "    # table of outcome variable and shuffled labels\n",
    "    shuffled_table = table.select(outcome).with_column(\n",
    "        'Shuffled Label', shuffled_labels)\n",
    "    \n",
    "    return difference_of_props(shuffled_table, 'Shuffled Label', outcome)  "
   ]
  },
  {
   "cell_type": "code",
   "execution_count": 13,
   "metadata": {},
   "outputs": [
    {
     "data": {
      "text/plain": [
       "-0.00650851307887812"
      ]
     },
     "execution_count": 13,
     "metadata": {},
     "output_type": "execute_result"
    }
   ],
   "source": [
    "one_simulated_difference(Gilbert, 'Gilbert present', 'Deaths')"
   ]
  },
  {
   "cell_type": "markdown",
   "metadata": {},
   "source": [
    "### Simulate many outcomes"
   ]
  },
  {
   "cell_type": "code",
   "execution_count": 14,
   "metadata": {},
   "outputs": [],
   "source": [
    "differences = make_array()\n",
    "\n",
    "for i in np.arange(1000):\n",
    "    new_difference = one_simulated_difference(Gilbert, 'Gilbert present', 'Deaths')\n",
    "    differences = np.append(differences, new_difference)"
   ]
  },
  {
   "cell_type": "markdown",
   "metadata": {},
   "source": [
    "### Use simulation to make a decision"
   ]
  },
  {
   "cell_type": "code",
   "execution_count": 15,
   "metadata": {},
   "outputs": [
    {
     "name": "stdout",
     "output_type": "stream",
     "text": [
      "Observed Difference: -0.1310755493578642\n"
     ]
    },
    {
     "data": {
      "image/png": "[encoded data removed]",
      "text/plain": [
       "<Figure size 600x400 with 1 Axes>"
      ]
     },
     "metadata": {},
     "output_type": "display_data"
    }
   ],
   "source": [
    "Table().with_column('Difference Between Group Proportions', differences).hist(bins=17)\n",
    "print('Observed Difference:', obs_diff_prop)\n",
    "plots.title('Prediction Under the Null Hypothesis');\n",
    "plots.plot([obs_diff_prop, obs_diff_prop], [0, 30], color='red', lw=2);\n",
    "plots.xticks(rotation = 270);"
   ]
  },
  {
   "cell_type": "code",
   "execution_count": 16,
   "metadata": {},
   "outputs": [
    {
     "data": {
      "text/plain": [
       "0.0"
      ]
     },
     "execution_count": 16,
     "metadata": {},
     "output_type": "execute_result"
    }
   ],
   "source": [
    "p_value = sum(differences<= obs_diff_prop)/1000\n",
    "p_value"
   ]
  }
 ],
 "metadata": {
  "kernelspec": {
   "display_name": "Python 3 (ipykernel)",
   "language": "python",
   "name": "python3"
  },
  "language_info": {
   "codemirror_mode": {
    "name": "ipython",
    "version": 3
   },
   "file_extension": ".py",
   "mimetype": "text/x-python",
   "name": "python",
   "nbconvert_exporter": "python",
   "pygments_lexer": "ipython3",
   "version": "3.9.13"
  }
 },
 "nbformat": 4,
 "nbformat_minor": 4
}
