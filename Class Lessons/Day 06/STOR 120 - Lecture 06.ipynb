{
 "cells": [
  {
   "cell_type": "code",
   "execution_count": 3,
   "metadata": {},
   "outputs": [],
   "source": [
    "from datascience import *\n",
    "import numpy as np\n",
    "\n",
    "%matplotlib inline\n",
    "import matplotlib.pyplot as plots\n",
    "plots.style.use('fivethirtyeight')"
   ]
  },
  {
   "cell_type": "markdown",
   "metadata": {},
   "source": [
    "## Lecture 6"
   ]
  },
  {
   "cell_type": "markdown",
   "metadata": {},
   "source": [
    "## Table Review: Sleep Study"
   ]
  },
  {
   "cell_type": "code",
   "execution_count": 4,
   "metadata": {},
   "outputs": [
    {
     "data": {
      "text/html": [
       "<table border=\"1\" class=\"dataframe\">\n",
       "    <thead>\n",
       "        <tr>\n",
       "            <th>Gender</th> <th>ClassYear</th> <th>LarkOwl</th> <th>NumEarlyClass</th> <th>EarlyClass</th> <th>GPA</th> <th>ClassesMissed</th> <th>CognitionZscore</th> <th>PoorSleepQuality</th> <th>DepressionScore</th> <th>AnxietyScore</th> <th>StressScore</th> <th>DepressionStatus</th> <th>AnxietyStatus</th> <th>Stress</th> <th>DASScore</th> <th>Happiness</th> <th>AlcoholUse</th> <th>Drinks</th> <th>WeekdayBed</th> <th>WeekdayRise</th> <th>WeekdaySleep</th> <th>WeekendBed</th> <th>WeekendRise</th> <th>WeekendSleep</th> <th>AverageSleep</th> <th>AllNighter</th>\n",
       "        </tr>\n",
       "    </thead>\n",
       "    <tbody>\n",
       "        <tr>\n",
       "            <td>0     </td> <td>4        </td> <td>Neither</td> <td>0            </td> <td>0         </td> <td>3.6 </td> <td>0            </td> <td>-0.26          </td> <td>4               </td> <td>4              </td> <td>3           </td> <td>8          </td> <td>normal          </td> <td>normal       </td> <td>normal</td> <td>15      </td> <td>28       </td> <td>Moderate  </td> <td>10    </td> <td>25.75     </td> <td>8.7        </td> <td>7.7         </td> <td>25.75     </td> <td>9.5        </td> <td>5.88        </td> <td>7.18        </td> <td>0         </td>\n",
       "        </tr>\n",
       "        <tr>\n",
       "            <td>0     </td> <td>4        </td> <td>Neither</td> <td>2            </td> <td>1         </td> <td>3.24</td> <td>0            </td> <td>1.39           </td> <td>6               </td> <td>1              </td> <td>0           </td> <td>3          </td> <td>normal          </td> <td>normal       </td> <td>normal</td> <td>4       </td> <td>25       </td> <td>Moderate  </td> <td>6     </td> <td>25.7      </td> <td>8.2        </td> <td>6.8         </td> <td>26        </td> <td>10         </td> <td>7.25        </td> <td>6.93        </td> <td>0         </td>\n",
       "        </tr>\n",
       "        <tr>\n",
       "            <td>0     </td> <td>4        </td> <td>Owl    </td> <td>0            </td> <td>0         </td> <td>2.97</td> <td>12           </td> <td>0.38           </td> <td>18              </td> <td>18             </td> <td>18          </td> <td>9          </td> <td>moderate        </td> <td>severe       </td> <td>normal</td> <td>45      </td> <td>17       </td> <td>Light     </td> <td>3     </td> <td>27.44     </td> <td>6.55       </td> <td>3           </td> <td>28        </td> <td>12.59      </td> <td>10.09       </td> <td>5.02        </td> <td>0         </td>\n",
       "        </tr>\n",
       "        <tr>\n",
       "            <td>0     </td> <td>1        </td> <td>Lark   </td> <td>5            </td> <td>1         </td> <td>3.76</td> <td>0            </td> <td>1.39           </td> <td>9               </td> <td>1              </td> <td>4           </td> <td>6          </td> <td>normal          </td> <td>normal       </td> <td>normal</td> <td>11      </td> <td>32       </td> <td>Light     </td> <td>2     </td> <td>23.5      </td> <td>7.17       </td> <td>6.77        </td> <td>27        </td> <td>8          </td> <td>7.25        </td> <td>6.9         </td> <td>0         </td>\n",
       "        </tr>\n",
       "        <tr>\n",
       "            <td>0     </td> <td>4        </td> <td>Owl    </td> <td>0            </td> <td>0         </td> <td>3.2 </td> <td>4            </td> <td>1.22           </td> <td>9               </td> <td>7              </td> <td>25          </td> <td>14         </td> <td>normal          </td> <td>severe       </td> <td>normal</td> <td>46      </td> <td>15       </td> <td>Moderate  </td> <td>4     </td> <td>25.9      </td> <td>8.67       </td> <td>6.09        </td> <td>23.75     </td> <td>9.5        </td> <td>7           </td> <td>6.35        </td> <td>0         </td>\n",
       "        </tr>\n",
       "    </tbody>\n",
       "</table>\n",
       "<p>... (248 rows omitted)</p>"
      ],
      "text/plain": [
       "<IPython.core.display.HTML object>"
      ]
     },
     "metadata": {},
     "output_type": "display_data"
    }
   ],
   "source": [
    "sleep = Table.read_table('SleepStudy.csv')\n",
    "sleep.show(5)"
   ]
  },
  {
   "cell_type": "code",
   "execution_count": 5,
   "metadata": {},
   "outputs": [
    {
     "data": {
      "text/html": [
       "<table border=\"1\" class=\"dataframe\">\n",
       "    <thead>\n",
       "        <tr>\n",
       "            <th>Gender</th> <th>ClassYear</th> <th>LarkOwl</th> <th>NumEarlyClass</th> <th>EarlyClass</th> <th>GPA</th> <th>ClassesMissed</th> <th>CognitionZscore</th> <th>PoorSleepQuality</th> <th>DepressionScore</th> <th>AnxietyScore</th> <th>StressScore</th> <th>DepressionStatus</th> <th>AnxietyStatus</th> <th>Stress</th> <th>DASScore</th> <th>Happiness</th> <th>AlcoholUse</th> <th>Drinks</th> <th>WeekdayBed</th> <th>WeekdayRise</th> <th>WeekdaySleep</th> <th>WeekendBed</th> <th>WeekendRise</th> <th>WeekendSleep</th> <th>AverageSleep</th> <th>AllNighter</th>\n",
       "        </tr>\n",
       "    </thead>\n",
       "    <tbody>\n",
       "        <tr>\n",
       "            <td>0     </td> <td>4        </td> <td>Neither</td> <td>0            </td> <td>0         </td> <td>3.6 </td> <td>0            </td> <td>-0.26          </td> <td>4               </td> <td>4              </td> <td>3           </td> <td>8          </td> <td>normal          </td> <td>normal       </td> <td>normal</td> <td>15      </td> <td>28       </td> <td>Moderate  </td> <td>10    </td> <td>25.75     </td> <td>8.7        </td> <td>7.7         </td> <td>25.75     </td> <td>9.5        </td> <td>5.88        </td> <td>7.18        </td> <td>0         </td>\n",
       "        </tr>\n",
       "        <tr>\n",
       "            <td>0     </td> <td>4        </td> <td>Neither</td> <td>2            </td> <td>1         </td> <td>3.24</td> <td>0            </td> <td>1.39           </td> <td>6               </td> <td>1              </td> <td>0           </td> <td>3          </td> <td>normal          </td> <td>normal       </td> <td>normal</td> <td>4       </td> <td>25       </td> <td>Moderate  </td> <td>6     </td> <td>25.7      </td> <td>8.2        </td> <td>6.8         </td> <td>26        </td> <td>10         </td> <td>7.25        </td> <td>6.93        </td> <td>0         </td>\n",
       "        </tr>\n",
       "        <tr>\n",
       "            <td>0     </td> <td>4        </td> <td>Owl    </td> <td>0            </td> <td>0         </td> <td>2.97</td> <td>12           </td> <td>0.38           </td> <td>18              </td> <td>18             </td> <td>18          </td> <td>9          </td> <td>moderate        </td> <td>severe       </td> <td>normal</td> <td>45      </td> <td>17       </td> <td>Light     </td> <td>3     </td> <td>27.44     </td> <td>6.55       </td> <td>3           </td> <td>28        </td> <td>12.59      </td> <td>10.09       </td> <td>5.02        </td> <td>0         </td>\n",
       "        </tr>\n",
       "        <tr>\n",
       "            <td>0     </td> <td>4        </td> <td>Owl    </td> <td>0            </td> <td>0         </td> <td>3.2 </td> <td>4            </td> <td>1.22           </td> <td>9               </td> <td>7              </td> <td>25          </td> <td>14         </td> <td>normal          </td> <td>severe       </td> <td>normal</td> <td>46      </td> <td>15       </td> <td>Moderate  </td> <td>4     </td> <td>25.9      </td> <td>8.67       </td> <td>6.09        </td> <td>23.75     </td> <td>9.5        </td> <td>7           </td> <td>6.35        </td> <td>0         </td>\n",
       "        </tr>\n",
       "        <tr>\n",
       "            <td>1     </td> <td>4        </td> <td>Neither</td> <td>0            </td> <td>0         </td> <td>3.5 </td> <td>0            </td> <td>-0.04          </td> <td>6               </td> <td>14             </td> <td>8           </td> <td>28         </td> <td>moderate        </td> <td>moderate     </td> <td>high  </td> <td>50      </td> <td>22       </td> <td>Abstain   </td> <td>0     </td> <td>23.8      </td> <td>8.95       </td> <td>9.05        </td> <td>26        </td> <td>10.75      </td> <td>9           </td> <td>9.04        </td> <td>0         </td>\n",
       "        </tr>\n",
       "        <tr>\n",
       "            <td>0     </td> <td>4        </td> <td>Neither</td> <td>2            </td> <td>1         </td> <td>2.9 </td> <td>0            </td> <td>0.72           </td> <td>2               </td> <td>6              </td> <td>11          </td> <td>31         </td> <td>normal          </td> <td>moderate     </td> <td>high  </td> <td>48      </td> <td>30       </td> <td>Moderate  </td> <td>6     </td> <td>26.2      </td> <td>8          </td> <td>6.6         </td> <td>25.38     </td> <td>10.25      </td> <td>6.88        </td> <td>6.68        </td> <td>0         </td>\n",
       "        </tr>\n",
       "        <tr>\n",
       "            <td>0     </td> <td>4        </td> <td>Neither</td> <td>2            </td> <td>1         </td> <td>2.9 </td> <td>0            </td> <td>-0.04          </td> <td>8               </td> <td>18             </td> <td>12          </td> <td>26         </td> <td>moderate        </td> <td>moderate     </td> <td>high  </td> <td>56      </td> <td>17       </td> <td>Moderate  </td> <td>5     </td> <td>24.4      </td> <td>8.6        </td> <td>8.4         </td> <td>25.5      </td> <td>11         </td> <td>9           </td> <td>8.57        </td> <td>0         </td>\n",
       "        </tr>\n",
       "        <tr>\n",
       "            <td>0     </td> <td>4        </td> <td>Neither</td> <td>2            </td> <td>1         </td> <td>3.4 </td> <td>3            </td> <td>0.78           </td> <td>9               </td> <td>4              </td> <td>5           </td> <td>9          </td> <td>normal          </td> <td>normal       </td> <td>normal</td> <td>18      </td> <td>27       </td> <td>Light     </td> <td>3     </td> <td>23.9      </td> <td>7.8        </td> <td>8           </td> <td>25.25     </td> <td>10         </td> <td>7           </td> <td>7.71        </td> <td>0         </td>\n",
       "        </tr>\n",
       "        <tr>\n",
       "            <td>0     </td> <td>4        </td> <td>Neither</td> <td>2            </td> <td>1         </td> <td>3   </td> <td>2            </td> <td>-0.86          </td> <td>6               </td> <td>7              </td> <td>8           </td> <td>14         </td> <td>normal          </td> <td>moderate     </td> <td>normal</td> <td>29      </td> <td>25       </td> <td>Moderate  </td> <td>5     </td> <td>25        </td> <td>8.6        </td> <td>8.1         </td> <td>25.5      </td> <td>8.5        </td> <td>5.75        </td> <td>7.43        </td> <td>0         </td>\n",
       "        </tr>\n",
       "        <tr>\n",
       "            <td>0     </td> <td>4        </td> <td>Neither</td> <td>3            </td> <td>1         </td> <td>2.8 </td> <td>0            </td> <td>-1.27          </td> <td>3               </td> <td>4              </td> <td>1           </td> <td>2          </td> <td>normal          </td> <td>normal       </td> <td>normal</td> <td>7       </td> <td>18       </td> <td>Light     </td> <td>6     </td> <td>23.8      </td> <td>8.1        </td> <td>8.4         </td> <td>25.25     </td> <td>10.75      </td> <td>9.25        </td> <td>8.64        </td> <td>0         </td>\n",
       "        </tr>\n",
       "    </tbody>\n",
       "</table>\n",
       "<p>... (47 rows omitted)</p>"
      ],
      "text/plain": [
       "Gender | ClassYear | LarkOwl | NumEarlyClass | EarlyClass | GPA  | ClassesMissed | CognitionZscore | PoorSleepQuality | DepressionScore | AnxietyScore | StressScore | DepressionStatus | AnxietyStatus | Stress | DASScore | Happiness | AlcoholUse | Drinks | WeekdayBed | WeekdayRise | WeekdaySleep | WeekendBed | WeekendRise | WeekendSleep | AverageSleep | AllNighter\n",
       "0      | 4         | Neither | 0             | 0          | 3.6  | 0             | -0.26           | 4                | 4               | 3            | 8           | normal           | normal        | normal | 15       | 28        | Moderate   | 10     | 25.75      | 8.7         | 7.7          | 25.75      | 9.5         | 5.88         | 7.18         | 0\n",
       "0      | 4         | Neither | 2             | 1          | 3.24 | 0             | 1.39            | 6                | 1               | 0            | 3           | normal           | normal        | normal | 4        | 25        | Moderate   | 6      | 25.7       | 8.2         | 6.8          | 26         | 10          | 7.25         | 6.93         | 0\n",
       "0      | 4         | Owl     | 0             | 0          | 2.97 | 12            | 0.38            | 18               | 18              | 18           | 9           | moderate         | severe        | normal | 45       | 17        | Light      | 3      | 27.44      | 6.55        | 3            | 28         | 12.59       | 10.09        | 5.02         | 0\n",
       "0      | 4         | Owl     | 0             | 0          | 3.2  | 4             | 1.22            | 9                | 7               | 25           | 14          | normal           | severe        | normal | 46       | 15        | Moderate   | 4      | 25.9       | 8.67        | 6.09         | 23.75      | 9.5         | 7            | 6.35         | 0\n",
       "1      | 4         | Neither | 0             | 0          | 3.5  | 0             | -0.04           | 6                | 14              | 8            | 28          | moderate         | moderate      | high   | 50       | 22        | Abstain    | 0      | 23.8       | 8.95        | 9.05         | 26         | 10.75       | 9            | 9.04         | 0\n",
       "0      | 4         | Neither | 2             | 1          | 2.9  | 0             | 0.72            | 2                | 6               | 11           | 31          | normal           | moderate      | high   | 48       | 30        | Moderate   | 6      | 26.2       | 8           | 6.6          | 25.38      | 10.25       | 6.88         | 6.68         | 0\n",
       "0      | 4         | Neither | 2             | 1          | 2.9  | 0             | -0.04           | 8                | 18              | 12           | 26          | moderate         | moderate      | high   | 56       | 17        | Moderate   | 5      | 24.4       | 8.6         | 8.4          | 25.5       | 11          | 9            | 8.57         | 0\n",
       "0      | 4         | Neither | 2             | 1          | 3.4  | 3             | 0.78            | 9                | 4               | 5            | 9           | normal           | normal        | normal | 18       | 27        | Light      | 3      | 23.9       | 7.8         | 8            | 25.25      | 10          | 7            | 7.71         | 0\n",
       "0      | 4         | Neither | 2             | 1          | 3    | 2             | -0.86           | 6                | 7               | 8            | 14          | normal           | moderate      | normal | 29       | 25        | Moderate   | 5      | 25         | 8.6         | 8.1          | 25.5       | 8.5         | 5.75         | 7.43         | 0\n",
       "0      | 4         | Neither | 3             | 1          | 2.8  | 0             | -1.27           | 3                | 4               | 1            | 2           | normal           | normal        | normal | 7        | 18        | Light      | 6      | 23.8       | 8.1         | 8.4          | 25.25      | 10.75       | 9.25         | 8.64         | 0\n",
       "... (47 rows omitted)"
      ]
     },
     "execution_count": 5,
     "metadata": {},
     "output_type": "execute_result"
    }
   ],
   "source": [
    "# Create a table with only 4th year students\n",
    "sleep.where('ClassYear', are.equal_to(4))"
   ]
  },
  {
   "cell_type": "code",
   "execution_count": 6,
   "metadata": {},
   "outputs": [
    {
     "data": {
      "text/html": [
       "<table border=\"1\" class=\"dataframe\">\n",
       "    <thead>\n",
       "        <tr>\n",
       "            <th>Gender</th> <th>ClassYear</th> <th>LarkOwl</th> <th>NumEarlyClass</th> <th>EarlyClass</th> <th>GPA</th> <th>ClassesMissed</th> <th>CognitionZscore</th> <th>PoorSleepQuality</th> <th>DepressionScore</th> <th>AnxietyScore</th> <th>StressScore</th> <th>DepressionStatus</th> <th>AnxietyStatus</th> <th>Stress</th> <th>DASScore</th> <th>Happiness</th> <th>AlcoholUse</th> <th>Drinks</th> <th>WeekdayBed</th> <th>WeekdayRise</th> <th>WeekdaySleep</th> <th>WeekendBed</th> <th>WeekendRise</th> <th>WeekendSleep</th> <th>AverageSleep</th> <th>AllNighter</th>\n",
       "        </tr>\n",
       "    </thead>\n",
       "    <tbody>\n",
       "        <tr>\n",
       "            <td>0     </td> <td>4        </td> <td>Neither</td> <td>0            </td> <td>0         </td> <td>3.6 </td> <td>0            </td> <td>-0.26          </td> <td>4               </td> <td>4              </td> <td>3           </td> <td>8          </td> <td>normal          </td> <td>normal       </td> <td>normal</td> <td>15      </td> <td>28       </td> <td>Moderate  </td> <td>10    </td> <td>25.75     </td> <td>8.7        </td> <td>7.7         </td> <td>25.75     </td> <td>9.5        </td> <td>5.88        </td> <td>7.18        </td> <td>0         </td>\n",
       "        </tr>\n",
       "        <tr>\n",
       "            <td>0     </td> <td>4        </td> <td>Neither</td> <td>2            </td> <td>1         </td> <td>3.24</td> <td>0            </td> <td>1.39           </td> <td>6               </td> <td>1              </td> <td>0           </td> <td>3          </td> <td>normal          </td> <td>normal       </td> <td>normal</td> <td>4       </td> <td>25       </td> <td>Moderate  </td> <td>6     </td> <td>25.7      </td> <td>8.2        </td> <td>6.8         </td> <td>26        </td> <td>10         </td> <td>7.25        </td> <td>6.93        </td> <td>0         </td>\n",
       "        </tr>\n",
       "        <tr>\n",
       "            <td>0     </td> <td>4        </td> <td>Owl    </td> <td>0            </td> <td>0         </td> <td>2.97</td> <td>12           </td> <td>0.38           </td> <td>18              </td> <td>18             </td> <td>18          </td> <td>9          </td> <td>moderate        </td> <td>severe       </td> <td>normal</td> <td>45      </td> <td>17       </td> <td>Light     </td> <td>3     </td> <td>27.44     </td> <td>6.55       </td> <td>3           </td> <td>28        </td> <td>12.59      </td> <td>10.09       </td> <td>5.02        </td> <td>0         </td>\n",
       "        </tr>\n",
       "        <tr>\n",
       "            <td>0     </td> <td>4        </td> <td>Owl    </td> <td>0            </td> <td>0         </td> <td>3.2 </td> <td>4            </td> <td>1.22           </td> <td>9               </td> <td>7              </td> <td>25          </td> <td>14         </td> <td>normal          </td> <td>severe       </td> <td>normal</td> <td>46      </td> <td>15       </td> <td>Moderate  </td> <td>4     </td> <td>25.9      </td> <td>8.67       </td> <td>6.09        </td> <td>23.75     </td> <td>9.5        </td> <td>7           </td> <td>6.35        </td> <td>0         </td>\n",
       "        </tr>\n",
       "        <tr>\n",
       "            <td>1     </td> <td>4        </td> <td>Neither</td> <td>0            </td> <td>0         </td> <td>3.5 </td> <td>0            </td> <td>-0.04          </td> <td>6               </td> <td>14             </td> <td>8           </td> <td>28         </td> <td>moderate        </td> <td>moderate     </td> <td>high  </td> <td>50      </td> <td>22       </td> <td>Abstain   </td> <td>0     </td> <td>23.8      </td> <td>8.95       </td> <td>9.05        </td> <td>26        </td> <td>10.75      </td> <td>9           </td> <td>9.04        </td> <td>0         </td>\n",
       "        </tr>\n",
       "        <tr>\n",
       "            <td>0     </td> <td>4        </td> <td>Neither</td> <td>2            </td> <td>1         </td> <td>2.9 </td> <td>0            </td> <td>0.72           </td> <td>2               </td> <td>6              </td> <td>11          </td> <td>31         </td> <td>normal          </td> <td>moderate     </td> <td>high  </td> <td>48      </td> <td>30       </td> <td>Moderate  </td> <td>6     </td> <td>26.2      </td> <td>8          </td> <td>6.6         </td> <td>25.38     </td> <td>10.25      </td> <td>6.88        </td> <td>6.68        </td> <td>0         </td>\n",
       "        </tr>\n",
       "        <tr>\n",
       "            <td>0     </td> <td>4        </td> <td>Neither</td> <td>2            </td> <td>1         </td> <td>2.9 </td> <td>0            </td> <td>-0.04          </td> <td>8               </td> <td>18             </td> <td>12          </td> <td>26         </td> <td>moderate        </td> <td>moderate     </td> <td>high  </td> <td>56      </td> <td>17       </td> <td>Moderate  </td> <td>5     </td> <td>24.4      </td> <td>8.6        </td> <td>8.4         </td> <td>25.5      </td> <td>11         </td> <td>9           </td> <td>8.57        </td> <td>0         </td>\n",
       "        </tr>\n",
       "        <tr>\n",
       "            <td>0     </td> <td>4        </td> <td>Neither</td> <td>2            </td> <td>1         </td> <td>3.4 </td> <td>3            </td> <td>0.78           </td> <td>9               </td> <td>4              </td> <td>5           </td> <td>9          </td> <td>normal          </td> <td>normal       </td> <td>normal</td> <td>18      </td> <td>27       </td> <td>Light     </td> <td>3     </td> <td>23.9      </td> <td>7.8        </td> <td>8           </td> <td>25.25     </td> <td>10         </td> <td>7           </td> <td>7.71        </td> <td>0         </td>\n",
       "        </tr>\n",
       "        <tr>\n",
       "            <td>0     </td> <td>4        </td> <td>Neither</td> <td>2            </td> <td>1         </td> <td>3   </td> <td>2            </td> <td>-0.86          </td> <td>6               </td> <td>7              </td> <td>8           </td> <td>14         </td> <td>normal          </td> <td>moderate     </td> <td>normal</td> <td>29      </td> <td>25       </td> <td>Moderate  </td> <td>5     </td> <td>25        </td> <td>8.6        </td> <td>8.1         </td> <td>25.5      </td> <td>8.5        </td> <td>5.75        </td> <td>7.43        </td> <td>0         </td>\n",
       "        </tr>\n",
       "        <tr>\n",
       "            <td>0     </td> <td>4        </td> <td>Neither</td> <td>3            </td> <td>1         </td> <td>2.8 </td> <td>0            </td> <td>-1.27          </td> <td>3               </td> <td>4              </td> <td>1           </td> <td>2          </td> <td>normal          </td> <td>normal       </td> <td>normal</td> <td>7       </td> <td>18       </td> <td>Light     </td> <td>6     </td> <td>23.8      </td> <td>8.1        </td> <td>8.4         </td> <td>25.25     </td> <td>10.75      </td> <td>9.25        </td> <td>8.64        </td> <td>0         </td>\n",
       "        </tr>\n",
       "    </tbody>\n",
       "</table>\n",
       "<p>... (47 rows omitted)</p>"
      ],
      "text/plain": [
       "Gender | ClassYear | LarkOwl | NumEarlyClass | EarlyClass | GPA  | ClassesMissed | CognitionZscore | PoorSleepQuality | DepressionScore | AnxietyScore | StressScore | DepressionStatus | AnxietyStatus | Stress | DASScore | Happiness | AlcoholUse | Drinks | WeekdayBed | WeekdayRise | WeekdaySleep | WeekendBed | WeekendRise | WeekendSleep | AverageSleep | AllNighter\n",
       "0      | 4         | Neither | 0             | 0          | 3.6  | 0             | -0.26           | 4                | 4               | 3            | 8           | normal           | normal        | normal | 15       | 28        | Moderate   | 10     | 25.75      | 8.7         | 7.7          | 25.75      | 9.5         | 5.88         | 7.18         | 0\n",
       "0      | 4         | Neither | 2             | 1          | 3.24 | 0             | 1.39            | 6                | 1               | 0            | 3           | normal           | normal        | normal | 4        | 25        | Moderate   | 6      | 25.7       | 8.2         | 6.8          | 26         | 10          | 7.25         | 6.93         | 0\n",
       "0      | 4         | Owl     | 0             | 0          | 2.97 | 12            | 0.38            | 18               | 18              | 18           | 9           | moderate         | severe        | normal | 45       | 17        | Light      | 3      | 27.44      | 6.55        | 3            | 28         | 12.59       | 10.09        | 5.02         | 0\n",
       "0      | 4         | Owl     | 0             | 0          | 3.2  | 4             | 1.22            | 9                | 7               | 25           | 14          | normal           | severe        | normal | 46       | 15        | Moderate   | 4      | 25.9       | 8.67        | 6.09         | 23.75      | 9.5         | 7            | 6.35         | 0\n",
       "1      | 4         | Neither | 0             | 0          | 3.5  | 0             | -0.04           | 6                | 14              | 8            | 28          | moderate         | moderate      | high   | 50       | 22        | Abstain    | 0      | 23.8       | 8.95        | 9.05         | 26         | 10.75       | 9            | 9.04         | 0\n",
       "0      | 4         | Neither | 2             | 1          | 2.9  | 0             | 0.72            | 2                | 6               | 11           | 31          | normal           | moderate      | high   | 48       | 30        | Moderate   | 6      | 26.2       | 8           | 6.6          | 25.38      | 10.25       | 6.88         | 6.68         | 0\n",
       "0      | 4         | Neither | 2             | 1          | 2.9  | 0             | -0.04           | 8                | 18              | 12           | 26          | moderate         | moderate      | high   | 56       | 17        | Moderate   | 5      | 24.4       | 8.6         | 8.4          | 25.5       | 11          | 9            | 8.57         | 0\n",
       "0      | 4         | Neither | 2             | 1          | 3.4  | 3             | 0.78            | 9                | 4               | 5            | 9           | normal           | normal        | normal | 18       | 27        | Light      | 3      | 23.9       | 7.8         | 8            | 25.25      | 10          | 7            | 7.71         | 0\n",
       "0      | 4         | Neither | 2             | 1          | 3    | 2             | -0.86           | 6                | 7               | 8            | 14          | normal           | moderate      | normal | 29       | 25        | Moderate   | 5      | 25         | 8.6         | 8.1          | 25.5       | 8.5         | 5.75         | 7.43         | 0\n",
       "0      | 4         | Neither | 3             | 1          | 2.8  | 0             | -1.27           | 3                | 4               | 1            | 2           | normal           | normal        | normal | 7        | 18        | Light      | 6      | 23.8       | 8.1         | 8.4          | 25.25      | 10.75       | 9.25         | 8.64         | 0\n",
       "... (47 rows omitted)"
      ]
     },
     "execution_count": 6,
     "metadata": {},
     "output_type": "execute_result"
    }
   ],
   "source": [
    "sleep.where('ClassYear', 4)"
   ]
  },
  {
   "cell_type": "code",
   "execution_count": 7,
   "metadata": {},
   "outputs": [
    {
     "data": {
      "text/html": [
       "<table border=\"1\" class=\"dataframe\">\n",
       "    <thead>\n",
       "        <tr>\n",
       "            <th>Gender</th> <th>ClassYear</th> <th>LarkOwl</th> <th>NumEarlyClass</th> <th>EarlyClass</th> <th>GPA</th> <th>ClassesMissed</th> <th>CognitionZscore</th> <th>PoorSleepQuality</th> <th>DepressionScore</th> <th>AnxietyScore</th> <th>StressScore</th> <th>DepressionStatus</th> <th>AnxietyStatus</th> <th>Stress</th> <th>DASScore</th> <th>Happiness</th> <th>AlcoholUse</th> <th>Drinks</th> <th>WeekdayBed</th> <th>WeekdayRise</th> <th>WeekdaySleep</th> <th>WeekendBed</th> <th>WeekendRise</th> <th>WeekendSleep</th> <th>AverageSleep</th> <th>AllNighter</th>\n",
       "        </tr>\n",
       "    </thead>\n",
       "    <tbody>\n",
       "        <tr>\n",
       "            <td>0     </td> <td>4        </td> <td>Neither</td> <td>0            </td> <td>0         </td> <td>3.6 </td> <td>0            </td> <td>-0.26          </td> <td>4               </td> <td>4              </td> <td>3           </td> <td>8          </td> <td>normal          </td> <td>normal       </td> <td>normal</td> <td>15      </td> <td>28       </td> <td>Moderate  </td> <td>10    </td> <td>25.75     </td> <td>8.7        </td> <td>7.7         </td> <td>25.75     </td> <td>9.5        </td> <td>5.88        </td> <td>7.18        </td> <td>0         </td>\n",
       "        </tr>\n",
       "        <tr>\n",
       "            <td>1     </td> <td>2        </td> <td>Lark   </td> <td>2            </td> <td>1         </td> <td>3.35</td> <td>2            </td> <td>0.41           </td> <td>2               </td> <td>1              </td> <td>0           </td> <td>1          </td> <td>normal          </td> <td>normal       </td> <td>normal</td> <td>2       </td> <td>25       </td> <td>Moderate  </td> <td>6     </td> <td>25.35     </td> <td>8.48       </td> <td>7.73        </td> <td>25.63     </td> <td>10.13      </td> <td>7           </td> <td>7.52        </td> <td>1         </td>\n",
       "        </tr>\n",
       "        <tr>\n",
       "            <td>0     </td> <td>1        </td> <td>Neither</td> <td>2            </td> <td>1         </td> <td>4   </td> <td>0            </td> <td>1.03           </td> <td>5               </td> <td>12             </td> <td>16          </td> <td>20         </td> <td>moderate        </td> <td>severe       </td> <td>high  </td> <td>48      </td> <td>29       </td> <td>Light     </td> <td>3     </td> <td>24.4      </td> <td>8.75       </td> <td>8.25        </td> <td>24        </td> <td>9          </td> <td>9.25        </td> <td>8.54        </td> <td>0         </td>\n",
       "        </tr>\n",
       "        <tr>\n",
       "            <td>1     </td> <td>2        </td> <td>Neither</td> <td>1            </td> <td>1         </td> <td>3.7 </td> <td>0            </td> <td>0.06           </td> <td>11              </td> <td>2              </td> <td>12          </td> <td>13         </td> <td>normal          </td> <td>moderate     </td> <td>normal</td> <td>27      </td> <td>14       </td> <td>Moderate  </td> <td>10    </td> <td>25        </td> <td>8.53       </td> <td>8.23        </td> <td>25.25     </td> <td>10.75      </td> <td>7.75        </td> <td>8.09        </td> <td>0         </td>\n",
       "        </tr>\n",
       "        <tr>\n",
       "            <td>1     </td> <td>2        </td> <td>Neither</td> <td>0            </td> <td>0         </td> <td>3   </td> <td>0            </td> <td>-0.47          </td> <td>8               </td> <td>2              </td> <td>8           </td> <td>11         </td> <td>normal          </td> <td>moderate     </td> <td>normal</td> <td>21      </td> <td>24       </td> <td>Moderate  </td> <td>10    </td> <td>25.3      </td> <td>9.8        </td> <td>8.4         </td> <td>26.5      </td> <td>10.75      </td> <td>8.5         </td> <td>8.43        </td> <td>0         </td>\n",
       "        </tr>\n",
       "        <tr>\n",
       "            <td>1     </td> <td>3        </td> <td>Neither</td> <td>2            </td> <td>1         </td> <td>3.3 </td> <td>6            </td> <td>0.04           </td> <td>7               </td> <td>3              </td> <td>3           </td> <td>2          </td> <td>normal          </td> <td>normal       </td> <td>normal</td> <td>8       </td> <td>20       </td> <td>Light     </td> <td>5     </td> <td>25.6      </td> <td>8.73       </td> <td>7.03        </td> <td>27.25     </td> <td>11.5       </td> <td>8.5         </td> <td>7.45        </td> <td>0         </td>\n",
       "        </tr>\n",
       "        <tr>\n",
       "            <td>0     </td> <td>3        </td> <td>Neither</td> <td>5            </td> <td>1         </td> <td>3.5 </td> <td>1            </td> <td>-0.4           </td> <td>4               </td> <td>2              </td> <td>0           </td> <td>3          </td> <td>normal          </td> <td>normal       </td> <td>normal</td> <td>5       </td> <td>28       </td> <td>Abstain   </td> <td>0     </td> <td>22.9      </td> <td>6.9        </td> <td>8.4         </td> <td>22.25     </td> <td>9.5        </td> <td>10.25       </td> <td>8.93        </td> <td>0         </td>\n",
       "        </tr>\n",
       "        <tr>\n",
       "            <td>0     </td> <td>3        </td> <td>Lark   </td> <td>0            </td> <td>0         </td> <td>3.4 </td> <td>0            </td> <td>0.4            </td> <td>4               </td> <td>3              </td> <td>1           </td> <td>11         </td> <td>normal          </td> <td>normal       </td> <td>normal</td> <td>15      </td> <td>23       </td> <td>Light     </td> <td>2     </td> <td>24        </td> <td>8.77       </td> <td>8.67        </td> <td>25.25     </td> <td>10.5       </td> <td>9.5         </td> <td>8.9         </td> <td>0         </td>\n",
       "        </tr>\n",
       "        <tr>\n",
       "            <td>0     </td> <td>2        </td> <td>Neither</td> <td>2            </td> <td>1         </td> <td>2.8 </td> <td>5            </td> <td>-0.8           </td> <td>8               </td> <td>16             </td> <td>7           </td> <td>21         </td> <td>moderate        </td> <td>normal       </td> <td>high  </td> <td>44      </td> <td>25       </td> <td>Moderate  </td> <td>4     </td> <td>22.9      </td> <td>6.85       </td> <td>8.25        </td> <td>23.75     </td> <td>9.09       </td> <td>8.59        </td> <td>8.34        </td> <td>0         </td>\n",
       "        </tr>\n",
       "        <tr>\n",
       "            <td>1     </td> <td>2        </td> <td>Lark   </td> <td>5            </td> <td>1         </td> <td>3   </td> <td>0            </td> <td>-1.18          </td> <td>8               </td> <td>23             </td> <td>12          </td> <td>20         </td> <td>severe          </td> <td>moderate     </td> <td>high  </td> <td>55      </td> <td>24       </td> <td>Heavy     </td> <td>12    </td> <td>24        </td> <td>7.9        </td> <td>8.5         </td> <td>25.5      </td> <td>10.5       </td> <td>7.5         </td> <td>8.22        </td> <td>0         </td>\n",
       "        </tr>\n",
       "    </tbody>\n",
       "</table>\n",
       "<p>... (174 rows omitted)</p>"
      ],
      "text/plain": [
       "Gender | ClassYear | LarkOwl | NumEarlyClass | EarlyClass | GPA  | ClassesMissed | CognitionZscore | PoorSleepQuality | DepressionScore | AnxietyScore | StressScore | DepressionStatus | AnxietyStatus | Stress | DASScore | Happiness | AlcoholUse | Drinks | WeekdayBed | WeekdayRise | WeekdaySleep | WeekendBed | WeekendRise | WeekendSleep | AverageSleep | AllNighter\n",
       "0      | 4         | Neither | 0             | 0          | 3.6  | 0             | -0.26           | 4                | 4               | 3            | 8           | normal           | normal        | normal | 15       | 28        | Moderate   | 10     | 25.75      | 8.7         | 7.7          | 25.75      | 9.5         | 5.88         | 7.18         | 0\n",
       "1      | 2         | Lark    | 2             | 1          | 3.35 | 2             | 0.41            | 2                | 1               | 0            | 1           | normal           | normal        | normal | 2        | 25        | Moderate   | 6      | 25.35      | 8.48        | 7.73         | 25.63      | 10.13       | 7            | 7.52         | 1\n",
       "0      | 1         | Neither | 2             | 1          | 4    | 0             | 1.03            | 5                | 12              | 16           | 20          | moderate         | severe        | high   | 48       | 29        | Light      | 3      | 24.4       | 8.75        | 8.25         | 24         | 9           | 9.25         | 8.54         | 0\n",
       "1      | 2         | Neither | 1             | 1          | 3.7  | 0             | 0.06            | 11               | 2               | 12           | 13          | normal           | moderate      | normal | 27       | 14        | Moderate   | 10     | 25         | 8.53        | 8.23         | 25.25      | 10.75       | 7.75         | 8.09         | 0\n",
       "1      | 2         | Neither | 0             | 0          | 3    | 0             | -0.47           | 8                | 2               | 8            | 11          | normal           | moderate      | normal | 21       | 24        | Moderate   | 10     | 25.3       | 9.8         | 8.4          | 26.5       | 10.75       | 8.5          | 8.43         | 0\n",
       "1      | 3         | Neither | 2             | 1          | 3.3  | 6             | 0.04            | 7                | 3               | 3            | 2           | normal           | normal        | normal | 8        | 20        | Light      | 5      | 25.6       | 8.73        | 7.03         | 27.25      | 11.5        | 8.5          | 7.45         | 0\n",
       "0      | 3         | Neither | 5             | 1          | 3.5  | 1             | -0.4            | 4                | 2               | 0            | 3           | normal           | normal        | normal | 5        | 28        | Abstain    | 0      | 22.9       | 6.9         | 8.4          | 22.25      | 9.5         | 10.25        | 8.93         | 0\n",
       "0      | 3         | Lark    | 0             | 0          | 3.4  | 0             | 0.4             | 4                | 3               | 1            | 11          | normal           | normal        | normal | 15       | 23        | Light      | 2      | 24         | 8.77        | 8.67         | 25.25      | 10.5        | 9.5          | 8.9          | 0\n",
       "0      | 2         | Neither | 2             | 1          | 2.8  | 5             | -0.8            | 8                | 16              | 7            | 21          | moderate         | normal        | high   | 44       | 25        | Moderate   | 4      | 22.9       | 6.85        | 8.25         | 23.75      | 9.09        | 8.59         | 8.34         | 0\n",
       "1      | 2         | Lark    | 5             | 1          | 3    | 0             | -1.18           | 8                | 23              | 12           | 20          | severe           | moderate      | high   | 55       | 24        | Heavy      | 12     | 24         | 7.9         | 8.5          | 25.5       | 10.5        | 7.5          | 8.22         | 0\n",
       "... (174 rows omitted)"
      ]
     },
     "execution_count": 7,
     "metadata": {},
     "output_type": "execute_result"
    }
   ],
   "source": [
    "# Create a table with students who average more than 7, but less than 9 hours each night.\n",
    "sleep.where('AverageSleep', are.between(7,9))\n",
    "\n",
    "# Above code is 7 or more, but less than 8"
   ]
  },
  {
   "cell_type": "code",
   "execution_count": 8,
   "metadata": {},
   "outputs": [
    {
     "data": {
      "text/html": [
       "<table border=\"1\" class=\"dataframe\">\n",
       "    <thead>\n",
       "        <tr>\n",
       "            <th>Gender</th> <th>ClassYear</th> <th>LarkOwl</th> <th>NumEarlyClass</th> <th>EarlyClass</th> <th>GPA</th> <th>ClassesMissed</th> <th>CognitionZscore</th> <th>PoorSleepQuality</th> <th>DepressionScore</th> <th>AnxietyScore</th> <th>StressScore</th> <th>DepressionStatus</th> <th>AnxietyStatus</th> <th>Stress</th> <th>DASScore</th> <th>Happiness</th> <th>AlcoholUse</th> <th>Drinks</th> <th>WeekdayBed</th> <th>WeekdayRise</th> <th>WeekdaySleep</th> <th>WeekendBed</th> <th>WeekendRise</th> <th>WeekendSleep</th> <th>AverageSleep</th> <th>AllNighter</th>\n",
       "        </tr>\n",
       "    </thead>\n",
       "    <tbody>\n",
       "        <tr>\n",
       "            <td>0     </td> <td>4        </td> <td>Neither</td> <td>0            </td> <td>0         </td> <td>3.6 </td> <td>0            </td> <td>-0.26          </td> <td>4               </td> <td>4              </td> <td>3           </td> <td>8          </td> <td>normal          </td> <td>normal       </td> <td>normal</td> <td>15      </td> <td>28       </td> <td>Moderate  </td> <td>10    </td> <td>25.75     </td> <td>8.7        </td> <td>7.7         </td> <td>25.75     </td> <td>9.5        </td> <td>5.88        </td> <td>7.18        </td> <td>0         </td>\n",
       "        </tr>\n",
       "        <tr>\n",
       "            <td>1     </td> <td>2        </td> <td>Lark   </td> <td>2            </td> <td>1         </td> <td>3.35</td> <td>2            </td> <td>0.41           </td> <td>2               </td> <td>1              </td> <td>0           </td> <td>1          </td> <td>normal          </td> <td>normal       </td> <td>normal</td> <td>2       </td> <td>25       </td> <td>Moderate  </td> <td>6     </td> <td>25.35     </td> <td>8.48       </td> <td>7.73        </td> <td>25.63     </td> <td>10.13      </td> <td>7           </td> <td>7.52        </td> <td>1         </td>\n",
       "        </tr>\n",
       "        <tr>\n",
       "            <td>0     </td> <td>1        </td> <td>Neither</td> <td>2            </td> <td>1         </td> <td>4   </td> <td>0            </td> <td>1.03           </td> <td>5               </td> <td>12             </td> <td>16          </td> <td>20         </td> <td>moderate        </td> <td>severe       </td> <td>high  </td> <td>48      </td> <td>29       </td> <td>Light     </td> <td>3     </td> <td>24.4      </td> <td>8.75       </td> <td>8.25        </td> <td>24        </td> <td>9          </td> <td>9.25        </td> <td>8.54        </td> <td>0         </td>\n",
       "        </tr>\n",
       "        <tr>\n",
       "            <td>1     </td> <td>2        </td> <td>Neither</td> <td>1            </td> <td>1         </td> <td>3.7 </td> <td>0            </td> <td>0.06           </td> <td>11              </td> <td>2              </td> <td>12          </td> <td>13         </td> <td>normal          </td> <td>moderate     </td> <td>normal</td> <td>27      </td> <td>14       </td> <td>Moderate  </td> <td>10    </td> <td>25        </td> <td>8.53       </td> <td>8.23        </td> <td>25.25     </td> <td>10.75      </td> <td>7.75        </td> <td>8.09        </td> <td>0         </td>\n",
       "        </tr>\n",
       "        <tr>\n",
       "            <td>1     </td> <td>2        </td> <td>Neither</td> <td>0            </td> <td>0         </td> <td>3   </td> <td>0            </td> <td>-0.47          </td> <td>8               </td> <td>2              </td> <td>8           </td> <td>11         </td> <td>normal          </td> <td>moderate     </td> <td>normal</td> <td>21      </td> <td>24       </td> <td>Moderate  </td> <td>10    </td> <td>25.3      </td> <td>9.8        </td> <td>8.4         </td> <td>26.5      </td> <td>10.75      </td> <td>8.5         </td> <td>8.43        </td> <td>0         </td>\n",
       "        </tr>\n",
       "        <tr>\n",
       "            <td>1     </td> <td>3        </td> <td>Neither</td> <td>2            </td> <td>1         </td> <td>3.3 </td> <td>6            </td> <td>0.04           </td> <td>7               </td> <td>3              </td> <td>3           </td> <td>2          </td> <td>normal          </td> <td>normal       </td> <td>normal</td> <td>8       </td> <td>20       </td> <td>Light     </td> <td>5     </td> <td>25.6      </td> <td>8.73       </td> <td>7.03        </td> <td>27.25     </td> <td>11.5       </td> <td>8.5         </td> <td>7.45        </td> <td>0         </td>\n",
       "        </tr>\n",
       "        <tr>\n",
       "            <td>0     </td> <td>3        </td> <td>Neither</td> <td>5            </td> <td>1         </td> <td>3.5 </td> <td>1            </td> <td>-0.4           </td> <td>4               </td> <td>2              </td> <td>0           </td> <td>3          </td> <td>normal          </td> <td>normal       </td> <td>normal</td> <td>5       </td> <td>28       </td> <td>Abstain   </td> <td>0     </td> <td>22.9      </td> <td>6.9        </td> <td>8.4         </td> <td>22.25     </td> <td>9.5        </td> <td>10.25       </td> <td>8.93        </td> <td>0         </td>\n",
       "        </tr>\n",
       "        <tr>\n",
       "            <td>0     </td> <td>3        </td> <td>Lark   </td> <td>0            </td> <td>0         </td> <td>3.4 </td> <td>0            </td> <td>0.4            </td> <td>4               </td> <td>3              </td> <td>1           </td> <td>11         </td> <td>normal          </td> <td>normal       </td> <td>normal</td> <td>15      </td> <td>23       </td> <td>Light     </td> <td>2     </td> <td>24        </td> <td>8.77       </td> <td>8.67        </td> <td>25.25     </td> <td>10.5       </td> <td>9.5         </td> <td>8.9         </td> <td>0         </td>\n",
       "        </tr>\n",
       "        <tr>\n",
       "            <td>0     </td> <td>2        </td> <td>Neither</td> <td>2            </td> <td>1         </td> <td>2.8 </td> <td>5            </td> <td>-0.8           </td> <td>8               </td> <td>16             </td> <td>7           </td> <td>21         </td> <td>moderate        </td> <td>normal       </td> <td>high  </td> <td>44      </td> <td>25       </td> <td>Moderate  </td> <td>4     </td> <td>22.9      </td> <td>6.85       </td> <td>8.25        </td> <td>23.75     </td> <td>9.09       </td> <td>8.59        </td> <td>8.34        </td> <td>0         </td>\n",
       "        </tr>\n",
       "        <tr>\n",
       "            <td>1     </td> <td>2        </td> <td>Lark   </td> <td>5            </td> <td>1         </td> <td>3   </td> <td>0            </td> <td>-1.18          </td> <td>8               </td> <td>23             </td> <td>12          </td> <td>20         </td> <td>severe          </td> <td>moderate     </td> <td>high  </td> <td>55      </td> <td>24       </td> <td>Heavy     </td> <td>12    </td> <td>24        </td> <td>7.9        </td> <td>8.5         </td> <td>25.5      </td> <td>10.5       </td> <td>7.5         </td> <td>8.22        </td> <td>0         </td>\n",
       "        </tr>\n",
       "    </tbody>\n",
       "</table>\n",
       "<p>... (172 rows omitted)</p>"
      ],
      "text/plain": [
       "Gender | ClassYear | LarkOwl | NumEarlyClass | EarlyClass | GPA  | ClassesMissed | CognitionZscore | PoorSleepQuality | DepressionScore | AnxietyScore | StressScore | DepressionStatus | AnxietyStatus | Stress | DASScore | Happiness | AlcoholUse | Drinks | WeekdayBed | WeekdayRise | WeekdaySleep | WeekendBed | WeekendRise | WeekendSleep | AverageSleep | AllNighter\n",
       "0      | 4         | Neither | 0             | 0          | 3.6  | 0             | -0.26           | 4                | 4               | 3            | 8           | normal           | normal        | normal | 15       | 28        | Moderate   | 10     | 25.75      | 8.7         | 7.7          | 25.75      | 9.5         | 5.88         | 7.18         | 0\n",
       "1      | 2         | Lark    | 2             | 1          | 3.35 | 2             | 0.41            | 2                | 1               | 0            | 1           | normal           | normal        | normal | 2        | 25        | Moderate   | 6      | 25.35      | 8.48        | 7.73         | 25.63      | 10.13       | 7            | 7.52         | 1\n",
       "0      | 1         | Neither | 2             | 1          | 4    | 0             | 1.03            | 5                | 12              | 16           | 20          | moderate         | severe        | high   | 48       | 29        | Light      | 3      | 24.4       | 8.75        | 8.25         | 24         | 9           | 9.25         | 8.54         | 0\n",
       "1      | 2         | Neither | 1             | 1          | 3.7  | 0             | 0.06            | 11               | 2               | 12           | 13          | normal           | moderate      | normal | 27       | 14        | Moderate   | 10     | 25         | 8.53        | 8.23         | 25.25      | 10.75       | 7.75         | 8.09         | 0\n",
       "1      | 2         | Neither | 0             | 0          | 3    | 0             | -0.47           | 8                | 2               | 8            | 11          | normal           | moderate      | normal | 21       | 24        | Moderate   | 10     | 25.3       | 9.8         | 8.4          | 26.5       | 10.75       | 8.5          | 8.43         | 0\n",
       "1      | 3         | Neither | 2             | 1          | 3.3  | 6             | 0.04            | 7                | 3               | 3            | 2           | normal           | normal        | normal | 8        | 20        | Light      | 5      | 25.6       | 8.73        | 7.03         | 27.25      | 11.5        | 8.5          | 7.45         | 0\n",
       "0      | 3         | Neither | 5             | 1          | 3.5  | 1             | -0.4            | 4                | 2               | 0            | 3           | normal           | normal        | normal | 5        | 28        | Abstain    | 0      | 22.9       | 6.9         | 8.4          | 22.25      | 9.5         | 10.25        | 8.93         | 0\n",
       "0      | 3         | Lark    | 0             | 0          | 3.4  | 0             | 0.4             | 4                | 3               | 1            | 11          | normal           | normal        | normal | 15       | 23        | Light      | 2      | 24         | 8.77        | 8.67         | 25.25      | 10.5        | 9.5          | 8.9          | 0\n",
       "0      | 2         | Neither | 2             | 1          | 2.8  | 5             | -0.8            | 8                | 16              | 7            | 21          | moderate         | normal        | high   | 44       | 25        | Moderate   | 4      | 22.9       | 6.85        | 8.25         | 23.75      | 9.09        | 8.59         | 8.34         | 0\n",
       "1      | 2         | Lark    | 5             | 1          | 3    | 0             | -1.18           | 8                | 23              | 12           | 20          | severe           | moderate      | high   | 55       | 24        | Heavy      | 12     | 24         | 7.9         | 8.5          | 25.5       | 10.5        | 7.5          | 8.22         | 0\n",
       "... (172 rows omitted)"
      ]
     },
     "execution_count": 8,
     "metadata": {},
     "output_type": "execute_result"
    }
   ],
   "source": [
    "sleep.where('AverageSleep', are.strictly_between(7,9))"
   ]
  },
  {
   "cell_type": "code",
   "execution_count": 9,
   "metadata": {},
   "outputs": [
    {
     "data": {
      "text/plain": [
       "7.9473170731707325"
      ]
     },
     "execution_count": 9,
     "metadata": {},
     "output_type": "execute_result"
    }
   ],
   "source": [
    "# On average, how long do \"Lark's\" sleep?\n",
    "Larks = sleep.where('LarkOwl', 'Lark')\n",
    "np.average(Larks.column('AverageSleep'))"
   ]
  },
  {
   "cell_type": "code",
   "execution_count": 10,
   "metadata": {},
   "outputs": [
    {
     "data": {
      "text/plain": [
       "7.9473170731707325"
      ]
     },
     "execution_count": 10,
     "metadata": {},
     "output_type": "execute_result"
    }
   ],
   "source": [
    "Larks= sleep.where('LarkOwl', are.containing('Lark'))\n",
    "np.average(Larks.column('AverageSleep'))"
   ]
  },
  {
   "cell_type": "code",
   "execution_count": 11,
   "metadata": {},
   "outputs": [
    {
     "data": {
      "text/plain": [
       "127"
      ]
     },
     "execution_count": 11,
     "metadata": {},
     "output_type": "execute_result"
    }
   ],
   "source": [
    "# How many students get at least 8 hours of sleep each night (on average)?\n",
    "sleep.where('AverageSleep', are.above_or_equal_to(8)).num_rows"
   ]
  },
  {
   "cell_type": "code",
   "execution_count": 12,
   "metadata": {},
   "outputs": [
    {
     "data": {
      "text/plain": [
       "182"
      ]
     },
     "execution_count": 12,
     "metadata": {},
     "output_type": "execute_result"
    }
   ],
   "source": [
    "# How many students missed fewer than 3 classes?\n",
    "sleep.where('ClassesMissed', are.below(3)).num_rows"
   ]
  },
  {
   "cell_type": "markdown",
   "metadata": {},
   "source": [
    "## Census ##"
   ]
  },
  {
   "cell_type": "code",
   "execution_count": 13,
   "metadata": {},
   "outputs": [
    {
     "data": {
      "text/html": [
       "<table border=\"1\" class=\"dataframe\">\n",
       "    <thead>\n",
       "        <tr>\n",
       "            <th>SEX</th> <th>AGE</th> <th>CENSUS2010POP</th> <th>ESTIMATESBASE2010</th> <th>POPESTIMATE2010</th> <th>POPESTIMATE2011</th> <th>POPESTIMATE2012</th> <th>POPESTIMATE2013</th> <th>POPESTIMATE2014</th>\n",
       "        </tr>\n",
       "    </thead>\n",
       "    <tbody>\n",
       "        <tr>\n",
       "            <td>0   </td> <td>0   </td> <td>3944153      </td> <td>3944160          </td> <td>3951330        </td> <td>3963071        </td> <td>3926665        </td> <td>3945610        </td> <td>3948350        </td>\n",
       "        </tr>\n",
       "        <tr>\n",
       "            <td>0   </td> <td>1   </td> <td>3978070      </td> <td>3978090          </td> <td>3957888        </td> <td>3966510        </td> <td>3978006        </td> <td>3943077        </td> <td>3962123        </td>\n",
       "        </tr>\n",
       "        <tr>\n",
       "            <td>0   </td> <td>2   </td> <td>4096929      </td> <td>4096939          </td> <td>4090862        </td> <td>3971573        </td> <td>3979952        </td> <td>3992690        </td> <td>3957772        </td>\n",
       "        </tr>\n",
       "        <tr>\n",
       "            <td>0   </td> <td>3   </td> <td>4119040      </td> <td>4119051          </td> <td>4111920        </td> <td>4102501        </td> <td>3983049        </td> <td>3992425        </td> <td>4005190        </td>\n",
       "        </tr>\n",
       "        <tr>\n",
       "            <td>0   </td> <td>4   </td> <td>4063170      </td> <td>4063186          </td> <td>4077552        </td> <td>4122303        </td> <td>4112638        </td> <td>3994047        </td> <td>4003448        </td>\n",
       "        </tr>\n",
       "        <tr>\n",
       "            <td>0   </td> <td>5   </td> <td>4056858      </td> <td>4056872          </td> <td>4064653        </td> <td>4087713        </td> <td>4132210        </td> <td>4123408        </td> <td>4004858        </td>\n",
       "        </tr>\n",
       "        <tr>\n",
       "            <td>0   </td> <td>6   </td> <td>4066381      </td> <td>4066412          </td> <td>4073013        </td> <td>4074979        </td> <td>4097780        </td> <td>4143094        </td> <td>4134352        </td>\n",
       "        </tr>\n",
       "        <tr>\n",
       "            <td>0   </td> <td>7   </td> <td>4030579      </td> <td>4030594          </td> <td>4043047        </td> <td>4083240        </td> <td>4084964        </td> <td>4108615        </td> <td>4154000        </td>\n",
       "        </tr>\n",
       "        <tr>\n",
       "            <td>0   </td> <td>8   </td> <td>4046486      </td> <td>4046497          </td> <td>4025604        </td> <td>4053206        </td> <td>4093213        </td> <td>4095827        </td> <td>4119524        </td>\n",
       "        </tr>\n",
       "        <tr>\n",
       "            <td>0   </td> <td>9   </td> <td>4148353      </td> <td>4148369          </td> <td>4125415        </td> <td>4035769        </td> <td>4063193        </td> <td>4104133        </td> <td>4106832        </td>\n",
       "        </tr>\n",
       "    </tbody>\n",
       "</table>\n",
       "<p>... (296 rows omitted)</p>"
      ],
      "text/plain": [
       "SEX  | AGE  | CENSUS2010POP | ESTIMATESBASE2010 | POPESTIMATE2010 | POPESTIMATE2011 | POPESTIMATE2012 | POPESTIMATE2013 | POPESTIMATE2014\n",
       "0    | 0    | 3944153       | 3944160           | 3951330         | 3963071         | 3926665         | 3945610         | 3948350\n",
       "0    | 1    | 3978070       | 3978090           | 3957888         | 3966510         | 3978006         | 3943077         | 3962123\n",
       "0    | 2    | 4096929       | 4096939           | 4090862         | 3971573         | 3979952         | 3992690         | 3957772\n",
       "0    | 3    | 4119040       | 4119051           | 4111920         | 4102501         | 3983049         | 3992425         | 4005190\n",
       "0    | 4    | 4063170       | 4063186           | 4077552         | 4122303         | 4112638         | 3994047         | 4003448\n",
       "0    | 5    | 4056858       | 4056872           | 4064653         | 4087713         | 4132210         | 4123408         | 4004858\n",
       "0    | 6    | 4066381       | 4066412           | 4073013         | 4074979         | 4097780         | 4143094         | 4134352\n",
       "0    | 7    | 4030579       | 4030594           | 4043047         | 4083240         | 4084964         | 4108615         | 4154000\n",
       "0    | 8    | 4046486       | 4046497           | 4025604         | 4053206         | 4093213         | 4095827         | 4119524\n",
       "0    | 9    | 4148353       | 4148369           | 4125415         | 4035769         | 4063193         | 4104133         | 4106832\n",
       "... (296 rows omitted)"
      ]
     },
     "execution_count": 13,
     "metadata": {},
     "output_type": "execute_result"
    }
   ],
   "source": [
    "full = Table.read_table('nc-est2014-agesex-res.csv')\n",
    "full"
   ]
  },
  {
   "cell_type": "code",
   "execution_count": 14,
   "metadata": {},
   "outputs": [
    {
     "data": {
      "text/html": [
       "<table border=\"1\" class=\"dataframe\">\n",
       "    <thead>\n",
       "        <tr>\n",
       "            <th>SEX</th> <th>AGE</th> <th>CENSUS2010POP</th> <th>POPESTIMATE2014</th>\n",
       "        </tr>\n",
       "    </thead>\n",
       "    <tbody>\n",
       "        <tr>\n",
       "            <td>0   </td> <td>0   </td> <td>3944153      </td> <td>3948350        </td>\n",
       "        </tr>\n",
       "        <tr>\n",
       "            <td>0   </td> <td>1   </td> <td>3978070      </td> <td>3962123        </td>\n",
       "        </tr>\n",
       "        <tr>\n",
       "            <td>0   </td> <td>2   </td> <td>4096929      </td> <td>3957772        </td>\n",
       "        </tr>\n",
       "        <tr>\n",
       "            <td>0   </td> <td>3   </td> <td>4119040      </td> <td>4005190        </td>\n",
       "        </tr>\n",
       "    </tbody>\n",
       "</table>\n",
       "<p>... (302 rows omitted)</p>"
      ],
      "text/plain": [
       "<IPython.core.display.HTML object>"
      ]
     },
     "metadata": {},
     "output_type": "display_data"
    }
   ],
   "source": [
    "partial = full.select('SEX', 'AGE', 'CENSUS2010POP', 'POPESTIMATE2014')\n",
    "partial.show(4)"
   ]
  },
  {
   "cell_type": "code",
   "execution_count": 15,
   "metadata": {},
   "outputs": [
    {
     "data": {
      "text/html": [
       "<table border=\"1\" class=\"dataframe\">\n",
       "    <thead>\n",
       "        <tr>\n",
       "            <th>SEX</th> <th>AGE</th> <th>2010</th> <th>2014</th>\n",
       "        </tr>\n",
       "    </thead>\n",
       "    <tbody>\n",
       "        <tr>\n",
       "            <td>0   </td> <td>0   </td> <td>3944153</td> <td>3948350</td>\n",
       "        </tr>\n",
       "        <tr>\n",
       "            <td>0   </td> <td>1   </td> <td>3978070</td> <td>3962123</td>\n",
       "        </tr>\n",
       "        <tr>\n",
       "            <td>0   </td> <td>2   </td> <td>4096929</td> <td>3957772</td>\n",
       "        </tr>\n",
       "        <tr>\n",
       "            <td>0   </td> <td>3   </td> <td>4119040</td> <td>4005190</td>\n",
       "        </tr>\n",
       "    </tbody>\n",
       "</table>\n",
       "<p>... (302 rows omitted)</p>"
      ],
      "text/plain": [
       "<IPython.core.display.HTML object>"
      ]
     },
     "metadata": {},
     "output_type": "display_data"
    }
   ],
   "source": [
    "simple = partial.relabeled(2, '2010').relabeled(3, '2014')\n",
    "simple.show(4)"
   ]
  },
  {
   "cell_type": "code",
   "execution_count": 16,
   "metadata": {},
   "outputs": [
    {
     "data": {
      "text/html": [
       "<table border=\"1\" class=\"dataframe\">\n",
       "    <thead>\n",
       "        <tr>\n",
       "            <th>SEX</th> <th>AGE</th> <th>2010</th> <th>2014</th>\n",
       "        </tr>\n",
       "    </thead>\n",
       "    <tbody>\n",
       "        <tr>\n",
       "            <td>0   </td> <td>0   </td> <td>3944153</td> <td>3948350</td>\n",
       "        </tr>\n",
       "        <tr>\n",
       "            <td>1   </td> <td>0   </td> <td>2014276</td> <td>2017857</td>\n",
       "        </tr>\n",
       "        <tr>\n",
       "            <td>2   </td> <td>0   </td> <td>1929877</td> <td>1930493</td>\n",
       "        </tr>\n",
       "        <tr>\n",
       "            <td>0   </td> <td>1   </td> <td>3978070</td> <td>3962123</td>\n",
       "        </tr>\n",
       "        <tr>\n",
       "            <td>1   </td> <td>1   </td> <td>2030853</td> <td>2023253</td>\n",
       "        </tr>\n",
       "        <tr>\n",
       "            <td>2   </td> <td>1   </td> <td>1947217</td> <td>1938870</td>\n",
       "        </tr>\n",
       "        <tr>\n",
       "            <td>0   </td> <td>2   </td> <td>4096929</td> <td>3957772</td>\n",
       "        </tr>\n",
       "        <tr>\n",
       "            <td>1   </td> <td>2   </td> <td>2092198</td> <td>2022502</td>\n",
       "        </tr>\n",
       "        <tr>\n",
       "            <td>2   </td> <td>2   </td> <td>2004731</td> <td>1935270</td>\n",
       "        </tr>\n",
       "        <tr>\n",
       "            <td>0   </td> <td>3   </td> <td>4119040</td> <td>4005190</td>\n",
       "        </tr>\n",
       "    </tbody>\n",
       "</table>\n",
       "<p>... (296 rows omitted)</p>"
      ],
      "text/plain": [
       "SEX  | AGE  | 2010    | 2014\n",
       "0    | 0    | 3944153 | 3948350\n",
       "1    | 0    | 2014276 | 2017857\n",
       "2    | 0    | 1929877 | 1930493\n",
       "0    | 1    | 3978070 | 3962123\n",
       "1    | 1    | 2030853 | 2023253\n",
       "2    | 1    | 1947217 | 1938870\n",
       "0    | 2    | 4096929 | 3957772\n",
       "1    | 2    | 2092198 | 2022502\n",
       "2    | 2    | 2004731 | 1935270\n",
       "0    | 3    | 4119040 | 4005190\n",
       "... (296 rows omitted)"
      ]
     },
     "execution_count": 16,
     "metadata": {},
     "output_type": "execute_result"
    }
   ],
   "source": [
    "simple.sort('AGE')"
   ]
  },
  {
   "cell_type": "code",
   "execution_count": 17,
   "metadata": {},
   "outputs": [
    {
     "data": {
      "text/html": [
       "<table border=\"1\" class=\"dataframe\">\n",
       "    <thead>\n",
       "        <tr>\n",
       "            <th>SEX</th> <th>AGE</th> <th>2010</th> <th>2014</th>\n",
       "        </tr>\n",
       "    </thead>\n",
       "    <tbody>\n",
       "        <tr>\n",
       "            <td>0   </td> <td>999 </td> <td>308745538</td> <td>318857056</td>\n",
       "        </tr>\n",
       "        <tr>\n",
       "            <td>1   </td> <td>999 </td> <td>151781326</td> <td>156936487</td>\n",
       "        </tr>\n",
       "        <tr>\n",
       "            <td>2   </td> <td>999 </td> <td>156964212</td> <td>161920569</td>\n",
       "        </tr>\n",
       "        <tr>\n",
       "            <td>0   </td> <td>100 </td> <td>53364    </td> <td>72197    </td>\n",
       "        </tr>\n",
       "        <tr>\n",
       "            <td>1   </td> <td>100 </td> <td>9162     </td> <td>13729    </td>\n",
       "        </tr>\n",
       "        <tr>\n",
       "            <td>2   </td> <td>100 </td> <td>44202    </td> <td>58468    </td>\n",
       "        </tr>\n",
       "        <tr>\n",
       "            <td>0   </td> <td>99  </td> <td>32266    </td> <td>41828    </td>\n",
       "        </tr>\n",
       "        <tr>\n",
       "            <td>1   </td> <td>99  </td> <td>6073     </td> <td>9037     </td>\n",
       "        </tr>\n",
       "        <tr>\n",
       "            <td>2   </td> <td>99  </td> <td>26193    </td> <td>32791    </td>\n",
       "        </tr>\n",
       "        <tr>\n",
       "            <td>0   </td> <td>98  </td> <td>45900    </td> <td>60185    </td>\n",
       "        </tr>\n",
       "    </tbody>\n",
       "</table>\n",
       "<p>... (296 rows omitted)</p>"
      ],
      "text/plain": [
       "SEX  | AGE  | 2010      | 2014\n",
       "0    | 999  | 308745538 | 318857056\n",
       "1    | 999  | 151781326 | 156936487\n",
       "2    | 999  | 156964212 | 161920569\n",
       "0    | 100  | 53364     | 72197\n",
       "1    | 100  | 9162      | 13729\n",
       "2    | 100  | 44202     | 58468\n",
       "0    | 99   | 32266     | 41828\n",
       "1    | 99   | 6073      | 9037\n",
       "2    | 99   | 26193     | 32791\n",
       "0    | 98   | 45900     | 60185\n",
       "... (296 rows omitted)"
      ]
     },
     "execution_count": 17,
     "metadata": {},
     "output_type": "execute_result"
    }
   ],
   "source": [
    "simple.sort('AGE', descending=True)"
   ]
  },
  {
   "cell_type": "markdown",
   "metadata": {},
   "source": [
    "## Visualization ##"
   ]
  },
  {
   "cell_type": "code",
   "execution_count": 20,
   "metadata": {},
   "outputs": [],
   "source": [
    "no_999 = simple.where('AGE', are.below(999))\n",
    "everyone = no_999.where('SEX', 0).drop('SEX')"
   ]
  },
  {
   "cell_type": "code",
   "execution_count": 21,
   "metadata": {},
   "outputs": [
    {
     "data": {
      "text/html": [
       "<table border=\"1\" class=\"dataframe\">\n",
       "    <thead>\n",
       "        <tr>\n",
       "            <th>AGE</th> <th>2010</th> <th>2014</th>\n",
       "        </tr>\n",
       "    </thead>\n",
       "    <tbody>\n",
       "        <tr>\n",
       "            <td>0   </td> <td>3944153</td> <td>3948350</td>\n",
       "        </tr>\n",
       "        <tr>\n",
       "            <td>1   </td> <td>3978070</td> <td>3962123</td>\n",
       "        </tr>\n",
       "        <tr>\n",
       "            <td>2   </td> <td>4096929</td> <td>3957772</td>\n",
       "        </tr>\n",
       "        <tr>\n",
       "            <td>3   </td> <td>4119040</td> <td>4005190</td>\n",
       "        </tr>\n",
       "        <tr>\n",
       "            <td>4   </td> <td>4063170</td> <td>4003448</td>\n",
       "        </tr>\n",
       "        <tr>\n",
       "            <td>5   </td> <td>4056858</td> <td>4004858</td>\n",
       "        </tr>\n",
       "        <tr>\n",
       "            <td>6   </td> <td>4066381</td> <td>4134352</td>\n",
       "        </tr>\n",
       "        <tr>\n",
       "            <td>7   </td> <td>4030579</td> <td>4154000</td>\n",
       "        </tr>\n",
       "        <tr>\n",
       "            <td>8   </td> <td>4046486</td> <td>4119524</td>\n",
       "        </tr>\n",
       "        <tr>\n",
       "            <td>9   </td> <td>4148353</td> <td>4106832</td>\n",
       "        </tr>\n",
       "    </tbody>\n",
       "</table>\n",
       "<p>... (91 rows omitted)</p>"
      ],
      "text/plain": [
       "AGE  | 2010    | 2014\n",
       "0    | 3944153 | 3948350\n",
       "1    | 3978070 | 3962123\n",
       "2    | 4096929 | 3957772\n",
       "3    | 4119040 | 4005190\n",
       "4    | 4063170 | 4003448\n",
       "5    | 4056858 | 4004858\n",
       "6    | 4066381 | 4134352\n",
       "7    | 4030579 | 4154000\n",
       "8    | 4046486 | 4119524\n",
       "9    | 4148353 | 4106832\n",
       "... (91 rows omitted)"
      ]
     },
     "execution_count": 21,
     "metadata": {},
     "output_type": "execute_result"
    }
   ],
   "source": [
    "everyone"
   ]
  },
  {
   "cell_type": "code",
   "execution_count": 22,
   "metadata": {},
   "outputs": [
    {
     "data": {
      "image/png": "[encoded data removed]",
      "text/plain": [
       "<Figure size 600x600 with 1 Axes>"
      ]
     },
     "metadata": {},
     "output_type": "display_data"
    }
   ],
   "source": [
    "everyone.plot('AGE', '2010')"
   ]
  },
  {
   "cell_type": "markdown",
   "metadata": {},
   "source": [
    "## What proportion of each age group were female in 2010?"
   ]
  },
  {
   "cell_type": "code",
   "execution_count": 23,
   "metadata": {},
   "outputs": [
    {
     "data": {
      "text/html": [
       "<table border=\"1\" class=\"dataframe\">\n",
       "    <thead>\n",
       "        <tr>\n",
       "            <th>AGE</th> <th>2010</th> <th>SEX</th>\n",
       "        </tr>\n",
       "    </thead>\n",
       "    <tbody>\n",
       "        <tr>\n",
       "            <td>0   </td> <td>2014276</td> <td>1   </td>\n",
       "        </tr>\n",
       "        <tr>\n",
       "            <td>1   </td> <td>2030853</td> <td>1   </td>\n",
       "        </tr>\n",
       "        <tr>\n",
       "            <td>2   </td> <td>2092198</td> <td>1   </td>\n",
       "        </tr>\n",
       "        <tr>\n",
       "            <td>3   </td> <td>2104550</td> <td>1   </td>\n",
       "        </tr>\n",
       "        <tr>\n",
       "            <td>4   </td> <td>2077550</td> <td>1   </td>\n",
       "        </tr>\n",
       "        <tr>\n",
       "            <td>5   </td> <td>2072094</td> <td>1   </td>\n",
       "        </tr>\n",
       "        <tr>\n",
       "            <td>6   </td> <td>2075319</td> <td>1   </td>\n",
       "        </tr>\n",
       "        <tr>\n",
       "            <td>7   </td> <td>2057076</td> <td>1   </td>\n",
       "        </tr>\n",
       "        <tr>\n",
       "            <td>8   </td> <td>2065453</td> <td>1   </td>\n",
       "        </tr>\n",
       "        <tr>\n",
       "            <td>9   </td> <td>2119696</td> <td>1   </td>\n",
       "        </tr>\n",
       "    </tbody>\n",
       "</table>\n",
       "<p>... (192 rows omitted)</p>"
      ],
      "text/plain": [
       "AGE  | 2010    | SEX\n",
       "0    | 2014276 | 1\n",
       "1    | 2030853 | 1\n",
       "2    | 2092198 | 1\n",
       "3    | 2104550 | 1\n",
       "4    | 2077550 | 1\n",
       "5    | 2072094 | 1\n",
       "6    | 2075319 | 1\n",
       "7    | 2057076 | 1\n",
       "8    | 2065453 | 1\n",
       "9    | 2119696 | 1\n",
       "... (192 rows omitted)"
      ]
     },
     "execution_count": 23,
     "metadata": {},
     "output_type": "execute_result"
    }
   ],
   "source": [
    "uspop_mf_2010 = no_999.select('AGE','2010', 'SEX').where('SEX', are.above(0))\n",
    "uspop_mf_2010"
   ]
  },
  {
   "cell_type": "code",
   "execution_count": 24,
   "metadata": {},
   "outputs": [
    {
     "data": {
      "text/html": [
       "<table border=\"1\" class=\"dataframe\">\n",
       "    <thead>\n",
       "        <tr>\n",
       "            <th>AGE</th> <th>females_2010</th>\n",
       "        </tr>\n",
       "    </thead>\n",
       "    <tbody>\n",
       "        <tr>\n",
       "            <td>0   </td> <td>1929877     </td>\n",
       "        </tr>\n",
       "        <tr>\n",
       "            <td>1   </td> <td>1947217     </td>\n",
       "        </tr>\n",
       "        <tr>\n",
       "            <td>2   </td> <td>2004731     </td>\n",
       "        </tr>\n",
       "        <tr>\n",
       "            <td>3   </td> <td>2014490     </td>\n",
       "        </tr>\n",
       "        <tr>\n",
       "            <td>4   </td> <td>1985620     </td>\n",
       "        </tr>\n",
       "    </tbody>\n",
       "</table>\n",
       "<p>... (96 rows omitted)</p>"
      ],
      "text/plain": [
       "<IPython.core.display.HTML object>"
      ]
     },
     "metadata": {},
     "output_type": "display_data"
    },
    {
     "data": {
      "text/html": [
       "<table border=\"1\" class=\"dataframe\">\n",
       "    <thead>\n",
       "        <tr>\n",
       "            <th>AGE</th> <th>males_2010</th>\n",
       "        </tr>\n",
       "    </thead>\n",
       "    <tbody>\n",
       "        <tr>\n",
       "            <td>0   </td> <td>2014276   </td>\n",
       "        </tr>\n",
       "        <tr>\n",
       "            <td>1   </td> <td>2030853   </td>\n",
       "        </tr>\n",
       "        <tr>\n",
       "            <td>2   </td> <td>2092198   </td>\n",
       "        </tr>\n",
       "        <tr>\n",
       "            <td>3   </td> <td>2104550   </td>\n",
       "        </tr>\n",
       "        <tr>\n",
       "            <td>4   </td> <td>2077550   </td>\n",
       "        </tr>\n",
       "    </tbody>\n",
       "</table>\n",
       "<p>... (96 rows omitted)</p>"
      ],
      "text/plain": [
       "<IPython.core.display.HTML object>"
      ]
     },
     "metadata": {},
     "output_type": "display_data"
    }
   ],
   "source": [
    "females_uspop_2010 = uspop_mf_2010.where('SEX', are.equal_to(2)).drop('SEX').relabeled(1, 'females_2010')\n",
    "males_uspop_2010 = uspop_mf_2010.where('SEX', are.equal_to(1)).drop('SEX').relabeled(1, 'males_2010')\n",
    "females_uspop_2010.show(5)\n",
    "males_uspop_2010.show(5)"
   ]
  },
  {
   "cell_type": "code",
   "execution_count": 25,
   "metadata": {},
   "outputs": [
    {
     "data": {
      "text/html": [
       "<table border=\"1\" class=\"dataframe\">\n",
       "    <thead>\n",
       "        <tr>\n",
       "            <th>Proportion Female</th>\n",
       "        </tr>\n",
       "    </thead>\n",
       "    <tbody>\n",
       "        <tr>\n",
       "            <td>0.489301         </td>\n",
       "        </tr>\n",
       "        <tr>\n",
       "            <td>0.489488         </td>\n",
       "        </tr>\n",
       "        <tr>\n",
       "            <td>0.489325         </td>\n",
       "        </tr>\n",
       "        <tr>\n",
       "            <td>0.489068         </td>\n",
       "        </tr>\n",
       "        <tr>\n",
       "            <td>0.488687         </td>\n",
       "        </tr>\n",
       "        <tr>\n",
       "            <td>0.489237         </td>\n",
       "        </tr>\n",
       "        <tr>\n",
       "            <td>0.48964          </td>\n",
       "        </tr>\n",
       "        <tr>\n",
       "            <td>0.489633         </td>\n",
       "        </tr>\n",
       "        <tr>\n",
       "            <td>0.489569         </td>\n",
       "        </tr>\n",
       "        <tr>\n",
       "            <td>0.489027         </td>\n",
       "        </tr>\n",
       "    </tbody>\n",
       "</table>\n",
       "<p>... (91 rows omitted)</p>"
      ],
      "text/plain": [
       "Proportion Female\n",
       "0.489301\n",
       "0.489488\n",
       "0.489325\n",
       "0.489068\n",
       "0.488687\n",
       "0.489237\n",
       "0.48964\n",
       "0.489633\n",
       "0.489569\n",
       "0.489027\n",
       "... (91 rows omitted)"
      ]
     },
     "execution_count": 25,
     "metadata": {},
     "output_type": "execute_result"
    }
   ],
   "source": [
    "prop_female_uspop_2010 =  Table().with_column('Proportion Female', \n",
    "                                            females_uspop_2010.column('females_2010') / \n",
    "                                              (females_uspop_2010.column('females_2010') + males_uspop_2010.column('males_2010')))\n",
    "prop_female_uspop_2010"
   ]
  },
  {
   "cell_type": "code",
   "execution_count": 26,
   "metadata": {},
   "outputs": [
    {
     "data": {
      "text/html": [
       "<table border=\"1\" class=\"dataframe\">\n",
       "    <thead>\n",
       "        <tr>\n",
       "            <th>Proportion Female</th> <th>AGE</th>\n",
       "        </tr>\n",
       "    </thead>\n",
       "    <tbody>\n",
       "        <tr>\n",
       "            <td>0.489301         </td> <td>0   </td>\n",
       "        </tr>\n",
       "        <tr>\n",
       "            <td>0.489488         </td> <td>1   </td>\n",
       "        </tr>\n",
       "        <tr>\n",
       "            <td>0.489325         </td> <td>2   </td>\n",
       "        </tr>\n",
       "        <tr>\n",
       "            <td>0.489068         </td> <td>3   </td>\n",
       "        </tr>\n",
       "        <tr>\n",
       "            <td>0.488687         </td> <td>4   </td>\n",
       "        </tr>\n",
       "        <tr>\n",
       "            <td>0.489237         </td> <td>5   </td>\n",
       "        </tr>\n",
       "        <tr>\n",
       "            <td>0.48964          </td> <td>6   </td>\n",
       "        </tr>\n",
       "        <tr>\n",
       "            <td>0.489633         </td> <td>7   </td>\n",
       "        </tr>\n",
       "        <tr>\n",
       "            <td>0.489569         </td> <td>8   </td>\n",
       "        </tr>\n",
       "        <tr>\n",
       "            <td>0.489027         </td> <td>9   </td>\n",
       "        </tr>\n",
       "    </tbody>\n",
       "</table>\n",
       "<p>... (91 rows omitted)</p>"
      ],
      "text/plain": [
       "Proportion Female | AGE\n",
       "0.489301          | 0\n",
       "0.489488          | 1\n",
       "0.489325          | 2\n",
       "0.489068          | 3\n",
       "0.488687          | 4\n",
       "0.489237          | 5\n",
       "0.48964           | 6\n",
       "0.489633          | 7\n",
       "0.489569          | 8\n",
       "0.489027          | 9\n",
       "... (91 rows omitted)"
      ]
     },
     "execution_count": 26,
     "metadata": {},
     "output_type": "execute_result"
    }
   ],
   "source": [
    "prop_female_uspop_2010 = prop_female_uspop_2010.with_column('AGE', females_uspop_2010.column('AGE'))\n",
    "prop_female_uspop_2010"
   ]
  },
  {
   "cell_type": "code",
   "execution_count": 27,
   "metadata": {},
   "outputs": [
    {
     "data": {
      "image/png": "[encoded data removed]",
      "text/plain": [
       "<Figure size 600x600 with 1 Axes>"
      ]
     },
     "metadata": {},
     "output_type": "display_data"
    }
   ],
   "source": [
    "prop_female_uspop_2010.plot('AGE', 'Proportion Female')"
   ]
  }
 ],
 "metadata": {
  "anaconda-cloud": {},
  "kernelspec": {
   "display_name": "Python 3 (ipykernel)",
   "language": "python",
   "name": "python3"
  },
  "language_info": {
   "codemirror_mode": {
    "name": "ipython",
    "version": 3
   },
   "file_extension": ".py",
   "mimetype": "text/x-python",
   "name": "python",
   "nbconvert_exporter": "python",
   "pygments_lexer": "ipython3",
   "version": "3.9.13"
  }
 },
 "nbformat": 4,
 "nbformat_minor": 4
}
