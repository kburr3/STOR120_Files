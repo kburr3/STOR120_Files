{
 "cells": [
  {
   "cell_type": "code",
   "execution_count": 1,
   "metadata": {},
   "outputs": [],
   "source": [
    "from datascience import *\n",
    "import numpy as np"
   ]
  },
  {
   "cell_type": "markdown",
   "metadata": {},
   "source": [
    "# Lecture 11 #"
   ]
  },
  {
   "cell_type": "markdown",
   "metadata": {},
   "source": [
    "## Joins"
   ]
  },
  {
   "cell_type": "code",
   "execution_count": 2,
   "metadata": {},
   "outputs": [
    {
     "data": {
      "text/html": [
       "<table border=\"1\" class=\"dataframe\">\n",
       "    <thead>\n",
       "        <tr>\n",
       "            <th>Drink</th> <th>Cafe</th> <th>Price</th>\n",
       "        </tr>\n",
       "    </thead>\n",
       "    <tbody>\n",
       "        <tr>\n",
       "            <td>Milk Tea</td> <td>Asha  </td> <td>5.5  </td>\n",
       "        </tr>\n",
       "        <tr>\n",
       "            <td>Espresso</td> <td>Strada</td> <td>1.75 </td>\n",
       "        </tr>\n",
       "        <tr>\n",
       "            <td>Latte   </td> <td>Strada</td> <td>3.25 </td>\n",
       "        </tr>\n",
       "        <tr>\n",
       "            <td>Espresso</td> <td>FSM   </td> <td>2    </td>\n",
       "        </tr>\n",
       "    </tbody>\n",
       "</table>"
      ],
      "text/plain": [
       "Drink    | Cafe   | Price\n",
       "Milk Tea | Asha   | 5.5\n",
       "Espresso | Strada | 1.75\n",
       "Latte    | Strada | 3.25\n",
       "Espresso | FSM    | 2"
      ]
     },
     "execution_count": 2,
     "metadata": {},
     "output_type": "execute_result"
    }
   ],
   "source": [
    "drinks = Table().with_columns(\n",
    "    'Drink', make_array('Milk Tea', 'Espresso', 'Latte', 'Espresso'),\n",
    "    'Cafe', make_array('Asha', 'Strada', 'Strada', 'FSM'),\n",
    "    'Price', make_array(5.5, 1.75, 3.25, 2)\n",
    ")\n",
    "\n",
    "drinks"
   ]
  },
  {
   "cell_type": "code",
   "execution_count": 3,
   "metadata": {},
   "outputs": [
    {
     "data": {
      "text/html": [
       "<table border=\"1\" class=\"dataframe\">\n",
       "    <thead>\n",
       "        <tr>\n",
       "            <th>Coupon % off</th> <th>Location</th>\n",
       "        </tr>\n",
       "    </thead>\n",
       "    <tbody>\n",
       "        <tr>\n",
       "            <td>10          </td> <td>Asha    </td>\n",
       "        </tr>\n",
       "        <tr>\n",
       "            <td>25          </td> <td>Strada  </td>\n",
       "        </tr>\n",
       "        <tr>\n",
       "            <td>5           </td> <td>Asha    </td>\n",
       "        </tr>\n",
       "    </tbody>\n",
       "</table>"
      ],
      "text/plain": [
       "Coupon % off | Location\n",
       "10           | Asha\n",
       "25           | Strada\n",
       "5            | Asha"
      ]
     },
     "execution_count": 3,
     "metadata": {},
     "output_type": "execute_result"
    }
   ],
   "source": [
    "discounts = Table().with_columns(\n",
    "    'Coupon % off', make_array(10, 25, 5),\n",
    "    'Location', make_array('Asha', 'Strada', 'Asha')\n",
    ")\n",
    "discounts"
   ]
  },
  {
   "cell_type": "code",
   "execution_count": 4,
   "metadata": {},
   "outputs": [
    {
     "data": {
      "text/html": [
       "<table border=\"1\" class=\"dataframe\">\n",
       "    <thead>\n",
       "        <tr>\n",
       "            <th>Cafe</th> <th>Drink</th> <th>Price</th> <th>Coupon % off</th>\n",
       "        </tr>\n",
       "    </thead>\n",
       "    <tbody>\n",
       "        <tr>\n",
       "            <td>Asha  </td> <td>Milk Tea</td> <td>5.5  </td> <td>10          </td>\n",
       "        </tr>\n",
       "        <tr>\n",
       "            <td>Asha  </td> <td>Milk Tea</td> <td>5.5  </td> <td>5           </td>\n",
       "        </tr>\n",
       "        <tr>\n",
       "            <td>Strada</td> <td>Espresso</td> <td>1.75 </td> <td>25          </td>\n",
       "        </tr>\n",
       "        <tr>\n",
       "            <td>Strada</td> <td>Latte   </td> <td>3.25 </td> <td>25          </td>\n",
       "        </tr>\n",
       "    </tbody>\n",
       "</table>"
      ],
      "text/plain": [
       "Cafe   | Drink    | Price | Coupon % off\n",
       "Asha   | Milk Tea | 5.5   | 10\n",
       "Asha   | Milk Tea | 5.5   | 5\n",
       "Strada | Espresso | 1.75  | 25\n",
       "Strada | Latte    | 3.25  | 25"
      ]
     },
     "execution_count": 4,
     "metadata": {},
     "output_type": "execute_result"
    }
   ],
   "source": [
    "combined = drinks.join('Cafe', discounts, 'Location')\n",
    "combined"
   ]
  },
  {
   "cell_type": "code",
   "execution_count": 5,
   "metadata": {},
   "outputs": [
    {
     "data": {
      "text/html": [
       "<table border=\"1\" class=\"dataframe\">\n",
       "    <thead>\n",
       "        <tr>\n",
       "            <th>Cafe</th> <th>Drink</th> <th>Price</th> <th>Coupon % off</th> <th>Discounted Price</th>\n",
       "        </tr>\n",
       "    </thead>\n",
       "    <tbody>\n",
       "        <tr>\n",
       "            <td>Asha  </td> <td>Milk Tea</td> <td>5.5  </td> <td>10          </td> <td>4.95            </td>\n",
       "        </tr>\n",
       "        <tr>\n",
       "            <td>Asha  </td> <td>Milk Tea</td> <td>5.5  </td> <td>5           </td> <td>5.225           </td>\n",
       "        </tr>\n",
       "        <tr>\n",
       "            <td>Strada</td> <td>Espresso</td> <td>1.75 </td> <td>25          </td> <td>1.3125          </td>\n",
       "        </tr>\n",
       "        <tr>\n",
       "            <td>Strada</td> <td>Latte   </td> <td>3.25 </td> <td>25          </td> <td>2.4375          </td>\n",
       "        </tr>\n",
       "    </tbody>\n",
       "</table>"
      ],
      "text/plain": [
       "Cafe   | Drink    | Price | Coupon % off | Discounted Price\n",
       "Asha   | Milk Tea | 5.5   | 10           | 4.95\n",
       "Asha   | Milk Tea | 5.5   | 5            | 5.225\n",
       "Strada | Espresso | 1.75  | 25           | 1.3125\n",
       "Strada | Latte    | 3.25  | 25           | 2.4375"
      ]
     },
     "execution_count": 5,
     "metadata": {},
     "output_type": "execute_result"
    }
   ],
   "source": [
    "discounted_frac = 1 - combined.column('Coupon % off') / 100\n",
    "\n",
    "combined.with_column(\n",
    "    'Discounted Price', \n",
    "    combined.column('Price') * discounted_frac\n",
    ")"
   ]
  },
  {
   "cell_type": "code",
   "execution_count": 6,
   "metadata": {},
   "outputs": [
    {
     "data": {
      "text/html": [
       "<table border=\"1\" class=\"dataframe\">\n",
       "    <thead>\n",
       "        <tr>\n",
       "            <th>Cafe</th> <th>Drink</th> <th>Price</th> <th>Drink_2</th> <th>Price_2</th>\n",
       "        </tr>\n",
       "    </thead>\n",
       "    <tbody>\n",
       "        <tr>\n",
       "            <td>Asha  </td> <td>Milk Tea</td> <td>5.5  </td> <td>Milk Tea</td> <td>5.5    </td>\n",
       "        </tr>\n",
       "        <tr>\n",
       "            <td>FSM   </td> <td>Espresso</td> <td>2    </td> <td>Espresso</td> <td>2      </td>\n",
       "        </tr>\n",
       "        <tr>\n",
       "            <td>Strada</td> <td>Espresso</td> <td>1.75 </td> <td>Espresso</td> <td>1.75   </td>\n",
       "        </tr>\n",
       "        <tr>\n",
       "            <td>Strada</td> <td>Espresso</td> <td>1.75 </td> <td>Latte   </td> <td>3.25   </td>\n",
       "        </tr>\n",
       "        <tr>\n",
       "            <td>Strada</td> <td>Latte   </td> <td>3.25 </td> <td>Espresso</td> <td>1.75   </td>\n",
       "        </tr>\n",
       "        <tr>\n",
       "            <td>Strada</td> <td>Latte   </td> <td>3.25 </td> <td>Latte   </td> <td>3.25   </td>\n",
       "        </tr>\n",
       "    </tbody>\n",
       "</table>"
      ],
      "text/plain": [
       "Cafe   | Drink    | Price | Drink_2  | Price_2\n",
       "Asha   | Milk Tea | 5.5   | Milk Tea | 5.5\n",
       "FSM    | Espresso | 2     | Espresso | 2\n",
       "Strada | Espresso | 1.75  | Espresso | 1.75\n",
       "Strada | Espresso | 1.75  | Latte    | 3.25\n",
       "Strada | Latte    | 3.25  | Espresso | 1.75\n",
       "Strada | Latte    | 3.25  | Latte    | 3.25"
      ]
     },
     "execution_count": 6,
     "metadata": {},
     "output_type": "execute_result"
    }
   ],
   "source": [
    "drinks.join('Cafe', drinks, 'Cafe')"
   ]
  },
  {
   "cell_type": "markdown",
   "metadata": {},
   "source": [
    "## Bigger Joins"
   ]
  },
  {
   "cell_type": "markdown",
   "metadata": {},
   "source": [
    "### What were the top 10 states with the lowest population per square mile in the year 2000?"
   ]
  },
  {
   "cell_type": "code",
   "execution_count": 7,
   "metadata": {
    "tags": []
   },
   "outputs": [
    {
     "data": {
      "text/html": [
       "<table border=\"1\" class=\"dataframe\">\n",
       "    <thead>\n",
       "        <tr>\n",
       "            <th>state</th> <th>area (sq. mi)</th>\n",
       "        </tr>\n",
       "    </thead>\n",
       "    <tbody>\n",
       "        <tr>\n",
       "            <td>Alabama   </td> <td>52423        </td>\n",
       "        </tr>\n",
       "        <tr>\n",
       "            <td>Alaska    </td> <td>656425       </td>\n",
       "        </tr>\n",
       "        <tr>\n",
       "            <td>Arizona   </td> <td>114006       </td>\n",
       "        </tr>\n",
       "        <tr>\n",
       "            <td>Arkansas  </td> <td>53182        </td>\n",
       "        </tr>\n",
       "        <tr>\n",
       "            <td>California</td> <td>163707       </td>\n",
       "        </tr>\n",
       "    </tbody>\n",
       "</table>\n",
       "<p>... (47 rows omitted)</p>"
      ],
      "text/plain": [
       "<IPython.core.display.HTML object>"
      ]
     },
     "metadata": {},
     "output_type": "display_data"
    },
    {
     "data": {
      "text/html": [
       "<table border=\"1\" class=\"dataframe\">\n",
       "    <thead>\n",
       "        <tr>\n",
       "            <th>state/region</th> <th>ages</th> <th>year</th> <th>population</th>\n",
       "        </tr>\n",
       "    </thead>\n",
       "    <tbody>\n",
       "        <tr>\n",
       "            <td>AL          </td> <td>under18</td> <td>2012</td> <td>1.11749e+06</td>\n",
       "        </tr>\n",
       "        <tr>\n",
       "            <td>AL          </td> <td>total  </td> <td>2012</td> <td>4.81753e+06</td>\n",
       "        </tr>\n",
       "        <tr>\n",
       "            <td>AL          </td> <td>under18</td> <td>2010</td> <td>1.13097e+06</td>\n",
       "        </tr>\n",
       "        <tr>\n",
       "            <td>AL          </td> <td>total  </td> <td>2010</td> <td>4.78557e+06</td>\n",
       "        </tr>\n",
       "        <tr>\n",
       "            <td>AL          </td> <td>under18</td> <td>2011</td> <td>1.12576e+06</td>\n",
       "        </tr>\n",
       "    </tbody>\n",
       "</table>\n",
       "<p>... (2539 rows omitted)</p>"
      ],
      "text/plain": [
       "<IPython.core.display.HTML object>"
      ]
     },
     "metadata": {},
     "output_type": "display_data"
    },
    {
     "data": {
      "text/html": [
       "<table border=\"1\" class=\"dataframe\">\n",
       "    <thead>\n",
       "        <tr>\n",
       "            <th>state</th> <th>abbreviation</th>\n",
       "        </tr>\n",
       "    </thead>\n",
       "    <tbody>\n",
       "        <tr>\n",
       "            <td>Alabama   </td> <td>AL          </td>\n",
       "        </tr>\n",
       "        <tr>\n",
       "            <td>Alaska    </td> <td>AK          </td>\n",
       "        </tr>\n",
       "        <tr>\n",
       "            <td>Arizona   </td> <td>AZ          </td>\n",
       "        </tr>\n",
       "        <tr>\n",
       "            <td>Arkansas  </td> <td>AR          </td>\n",
       "        </tr>\n",
       "        <tr>\n",
       "            <td>California</td> <td>CA          </td>\n",
       "        </tr>\n",
       "    </tbody>\n",
       "</table>\n",
       "<p>... (46 rows omitted)</p>"
      ],
      "text/plain": [
       "<IPython.core.display.HTML object>"
      ]
     },
     "metadata": {},
     "output_type": "display_data"
    }
   ],
   "source": [
    "state_areas = Table.read_table('state-areas.csv')\n",
    "state_pop = Table.read_table('state-population.csv')\n",
    "state_abbrevs = Table.read_table('state-abbrevs.csv')\n",
    "\n",
    "state_areas.show(5), state_pop.show(5), state_abbrevs.show(5);"
   ]
  },
  {
   "cell_type": "code",
   "execution_count": 8,
   "metadata": {},
   "outputs": [
    {
     "data": {
      "text/html": [
       "<table border=\"1\" class=\"dataframe\">\n",
       "    <thead>\n",
       "        <tr>\n",
       "            <th>state/region</th> <th>ages</th> <th>year</th> <th>population</th>\n",
       "        </tr>\n",
       "    </thead>\n",
       "    <tbody>\n",
       "        <tr>\n",
       "            <td>AL          </td> <td>total</td> <td>2000</td> <td>4.45217e+06</td>\n",
       "        </tr>\n",
       "        <tr>\n",
       "            <td>AK          </td> <td>total</td> <td>2000</td> <td>627963     </td>\n",
       "        </tr>\n",
       "        <tr>\n",
       "            <td>AZ          </td> <td>total</td> <td>2000</td> <td>5.16059e+06</td>\n",
       "        </tr>\n",
       "        <tr>\n",
       "            <td>AR          </td> <td>total</td> <td>2000</td> <td>2.67859e+06</td>\n",
       "        </tr>\n",
       "        <tr>\n",
       "            <td>CA          </td> <td>total</td> <td>2000</td> <td>3.3988e+07 </td>\n",
       "        </tr>\n",
       "        <tr>\n",
       "            <td>CO          </td> <td>total</td> <td>2000</td> <td>4.32692e+06</td>\n",
       "        </tr>\n",
       "        <tr>\n",
       "            <td>CT          </td> <td>total</td> <td>2000</td> <td>3.41178e+06</td>\n",
       "        </tr>\n",
       "        <tr>\n",
       "            <td>DE          </td> <td>total</td> <td>2000</td> <td>786373     </td>\n",
       "        </tr>\n",
       "        <tr>\n",
       "            <td>DC          </td> <td>total</td> <td>2000</td> <td>572046     </td>\n",
       "        </tr>\n",
       "        <tr>\n",
       "            <td>FL          </td> <td>total</td> <td>2000</td> <td>1.60475e+07</td>\n",
       "        </tr>\n",
       "    </tbody>\n",
       "</table>\n",
       "<p>... (43 rows omitted)</p>"
      ],
      "text/plain": [
       "state/region | ages  | year | population\n",
       "AL           | total | 2000 | 4.45217e+06\n",
       "AK           | total | 2000 | 627963\n",
       "AZ           | total | 2000 | 5.16059e+06\n",
       "AR           | total | 2000 | 2.67859e+06\n",
       "CA           | total | 2000 | 3.3988e+07\n",
       "CO           | total | 2000 | 4.32692e+06\n",
       "CT           | total | 2000 | 3.41178e+06\n",
       "DE           | total | 2000 | 786373\n",
       "DC           | total | 2000 | 572046\n",
       "FL           | total | 2000 | 1.60475e+07\n",
       "... (43 rows omitted)"
      ]
     },
     "execution_count": 8,
     "metadata": {},
     "output_type": "execute_result"
    }
   ],
   "source": [
    "state_pop_total_2000 = state_pop.where('ages', 'total').where('year', 2000)\n",
    "state_pop_total_2000"
   ]
  },
  {
   "cell_type": "code",
   "execution_count": 9,
   "metadata": {},
   "outputs": [
    {
     "data": {
      "text/html": [
       "<table border=\"1\" class=\"dataframe\">\n",
       "    <thead>\n",
       "        <tr>\n",
       "            <th>state/region</th> <th>ages</th> <th>year</th> <th>population</th> <th>state</th>\n",
       "        </tr>\n",
       "    </thead>\n",
       "    <tbody>\n",
       "        <tr>\n",
       "            <td>AK          </td> <td>total</td> <td>2000</td> <td>627963     </td> <td>Alaska              </td>\n",
       "        </tr>\n",
       "        <tr>\n",
       "            <td>AL          </td> <td>total</td> <td>2000</td> <td>4.45217e+06</td> <td>Alabama             </td>\n",
       "        </tr>\n",
       "        <tr>\n",
       "            <td>AR          </td> <td>total</td> <td>2000</td> <td>2.67859e+06</td> <td>Arkansas            </td>\n",
       "        </tr>\n",
       "        <tr>\n",
       "            <td>AZ          </td> <td>total</td> <td>2000</td> <td>5.16059e+06</td> <td>Arizona             </td>\n",
       "        </tr>\n",
       "        <tr>\n",
       "            <td>CA          </td> <td>total</td> <td>2000</td> <td>3.3988e+07 </td> <td>California          </td>\n",
       "        </tr>\n",
       "        <tr>\n",
       "            <td>CO          </td> <td>total</td> <td>2000</td> <td>4.32692e+06</td> <td>Colorado            </td>\n",
       "        </tr>\n",
       "        <tr>\n",
       "            <td>CT          </td> <td>total</td> <td>2000</td> <td>3.41178e+06</td> <td>Connecticut         </td>\n",
       "        </tr>\n",
       "        <tr>\n",
       "            <td>DC          </td> <td>total</td> <td>2000</td> <td>572046     </td> <td>District of Columbia</td>\n",
       "        </tr>\n",
       "        <tr>\n",
       "            <td>DE          </td> <td>total</td> <td>2000</td> <td>786373     </td> <td>Delaware            </td>\n",
       "        </tr>\n",
       "        <tr>\n",
       "            <td>FL          </td> <td>total</td> <td>2000</td> <td>1.60475e+07</td> <td>Florida             </td>\n",
       "        </tr>\n",
       "    </tbody>\n",
       "</table>\n",
       "<p>... (41 rows omitted)</p>"
      ],
      "text/plain": [
       "state/region | ages  | year | population  | state\n",
       "AK           | total | 2000 | 627963      | Alaska\n",
       "AL           | total | 2000 | 4.45217e+06 | Alabama\n",
       "AR           | total | 2000 | 2.67859e+06 | Arkansas\n",
       "AZ           | total | 2000 | 5.16059e+06 | Arizona\n",
       "CA           | total | 2000 | 3.3988e+07  | California\n",
       "CO           | total | 2000 | 4.32692e+06 | Colorado\n",
       "CT           | total | 2000 | 3.41178e+06 | Connecticut\n",
       "DC           | total | 2000 | 572046      | District of Columbia\n",
       "DE           | total | 2000 | 786373      | Delaware\n",
       "FL           | total | 2000 | 1.60475e+07 | Florida\n",
       "... (41 rows omitted)"
      ]
     },
     "execution_count": 9,
     "metadata": {},
     "output_type": "execute_result"
    }
   ],
   "source": [
    "state_combined = state_pop_total_2000.join('state/region', state_abbrevs, 'abbreviation')\n",
    "state_combined"
   ]
  },
  {
   "cell_type": "code",
   "execution_count": 10,
   "metadata": {},
   "outputs": [
    {
     "data": {
      "text/html": [
       "<table border=\"1\" class=\"dataframe\">\n",
       "    <thead>\n",
       "        <tr>\n",
       "            <th>state</th> <th>state/region</th> <th>ages</th> <th>year</th> <th>population</th> <th>area (sq. mi)</th>\n",
       "        </tr>\n",
       "    </thead>\n",
       "    <tbody>\n",
       "        <tr>\n",
       "            <td>Alabama             </td> <td>AL          </td> <td>total</td> <td>2000</td> <td>4.45217e+06</td> <td>52423        </td>\n",
       "        </tr>\n",
       "        <tr>\n",
       "            <td>Alaska              </td> <td>AK          </td> <td>total</td> <td>2000</td> <td>627963     </td> <td>656425       </td>\n",
       "        </tr>\n",
       "        <tr>\n",
       "            <td>Arizona             </td> <td>AZ          </td> <td>total</td> <td>2000</td> <td>5.16059e+06</td> <td>114006       </td>\n",
       "        </tr>\n",
       "        <tr>\n",
       "            <td>Arkansas            </td> <td>AR          </td> <td>total</td> <td>2000</td> <td>2.67859e+06</td> <td>53182        </td>\n",
       "        </tr>\n",
       "        <tr>\n",
       "            <td>California          </td> <td>CA          </td> <td>total</td> <td>2000</td> <td>3.3988e+07 </td> <td>163707       </td>\n",
       "        </tr>\n",
       "        <tr>\n",
       "            <td>Colorado            </td> <td>CO          </td> <td>total</td> <td>2000</td> <td>4.32692e+06</td> <td>104100       </td>\n",
       "        </tr>\n",
       "        <tr>\n",
       "            <td>Connecticut         </td> <td>CT          </td> <td>total</td> <td>2000</td> <td>3.41178e+06</td> <td>5544         </td>\n",
       "        </tr>\n",
       "        <tr>\n",
       "            <td>Delaware            </td> <td>DE          </td> <td>total</td> <td>2000</td> <td>786373     </td> <td>1954         </td>\n",
       "        </tr>\n",
       "        <tr>\n",
       "            <td>District of Columbia</td> <td>DC          </td> <td>total</td> <td>2000</td> <td>572046     </td> <td>68           </td>\n",
       "        </tr>\n",
       "        <tr>\n",
       "            <td>Florida             </td> <td>FL          </td> <td>total</td> <td>2000</td> <td>1.60475e+07</td> <td>65758        </td>\n",
       "        </tr>\n",
       "    </tbody>\n",
       "</table>\n",
       "<p>... (41 rows omitted)</p>"
      ],
      "text/plain": [
       "state                | state/region | ages  | year | population  | area (sq. mi)\n",
       "Alabama              | AL           | total | 2000 | 4.45217e+06 | 52423\n",
       "Alaska               | AK           | total | 2000 | 627963      | 656425\n",
       "Arizona              | AZ           | total | 2000 | 5.16059e+06 | 114006\n",
       "Arkansas             | AR           | total | 2000 | 2.67859e+06 | 53182\n",
       "California           | CA           | total | 2000 | 3.3988e+07  | 163707\n",
       "Colorado             | CO           | total | 2000 | 4.32692e+06 | 104100\n",
       "Connecticut          | CT           | total | 2000 | 3.41178e+06 | 5544\n",
       "Delaware             | DE           | total | 2000 | 786373      | 1954\n",
       "District of Columbia | DC           | total | 2000 | 572046      | 68\n",
       "Florida              | FL           | total | 2000 | 1.60475e+07 | 65758\n",
       "... (41 rows omitted)"
      ]
     },
     "execution_count": 10,
     "metadata": {},
     "output_type": "execute_result"
    }
   ],
   "source": [
    "state_combined2 = state_combined.join('state', state_areas, 'state')\n",
    "state_combined2"
   ]
  },
  {
   "cell_type": "code",
   "execution_count": 11,
   "metadata": {},
   "outputs": [
    {
     "data": {
      "text/html": [
       "<table border=\"1\" class=\"dataframe\">\n",
       "    <thead>\n",
       "        <tr>\n",
       "            <th>state</th> <th>state/region</th> <th>ages</th> <th>year</th> <th>population</th> <th>area (sq. mi)</th> <th>Pop/sq mile</th>\n",
       "        </tr>\n",
       "    </thead>\n",
       "    <tbody>\n",
       "        <tr>\n",
       "            <td>Alabama             </td> <td>AL          </td> <td>total</td> <td>2000</td> <td>4.45217e+06</td> <td>52423        </td> <td>84.9279    </td>\n",
       "        </tr>\n",
       "        <tr>\n",
       "            <td>Alaska              </td> <td>AK          </td> <td>total</td> <td>2000</td> <td>627963     </td> <td>656425       </td> <td>0.956641   </td>\n",
       "        </tr>\n",
       "        <tr>\n",
       "            <td>Arizona             </td> <td>AZ          </td> <td>total</td> <td>2000</td> <td>5.16059e+06</td> <td>114006       </td> <td>45.2659    </td>\n",
       "        </tr>\n",
       "        <tr>\n",
       "            <td>Arkansas            </td> <td>AR          </td> <td>total</td> <td>2000</td> <td>2.67859e+06</td> <td>53182        </td> <td>50.3664    </td>\n",
       "        </tr>\n",
       "        <tr>\n",
       "            <td>California          </td> <td>CA          </td> <td>total</td> <td>2000</td> <td>3.3988e+07 </td> <td>163707       </td> <td>207.615    </td>\n",
       "        </tr>\n",
       "        <tr>\n",
       "            <td>Colorado            </td> <td>CO          </td> <td>total</td> <td>2000</td> <td>4.32692e+06</td> <td>104100       </td> <td>41.565     </td>\n",
       "        </tr>\n",
       "        <tr>\n",
       "            <td>Connecticut         </td> <td>CT          </td> <td>total</td> <td>2000</td> <td>3.41178e+06</td> <td>5544         </td> <td>615.4      </td>\n",
       "        </tr>\n",
       "        <tr>\n",
       "            <td>Delaware            </td> <td>DE          </td> <td>total</td> <td>2000</td> <td>786373     </td> <td>1954         </td> <td>402.443    </td>\n",
       "        </tr>\n",
       "        <tr>\n",
       "            <td>District of Columbia</td> <td>DC          </td> <td>total</td> <td>2000</td> <td>572046     </td> <td>68           </td> <td>8412.44    </td>\n",
       "        </tr>\n",
       "        <tr>\n",
       "            <td>Florida             </td> <td>FL          </td> <td>total</td> <td>2000</td> <td>1.60475e+07</td> <td>65758        </td> <td>244.039    </td>\n",
       "        </tr>\n",
       "    </tbody>\n",
       "</table>\n",
       "<p>... (41 rows omitted)</p>"
      ],
      "text/plain": [
       "state                | state/region | ages  | year | population  | area (sq. mi) | Pop/sq mile\n",
       "Alabama              | AL           | total | 2000 | 4.45217e+06 | 52423         | 84.9279\n",
       "Alaska               | AK           | total | 2000 | 627963      | 656425        | 0.956641\n",
       "Arizona              | AZ           | total | 2000 | 5.16059e+06 | 114006        | 45.2659\n",
       "Arkansas             | AR           | total | 2000 | 2.67859e+06 | 53182         | 50.3664\n",
       "California           | CA           | total | 2000 | 3.3988e+07  | 163707        | 207.615\n",
       "Colorado             | CO           | total | 2000 | 4.32692e+06 | 104100        | 41.565\n",
       "Connecticut          | CT           | total | 2000 | 3.41178e+06 | 5544          | 615.4\n",
       "Delaware             | DE           | total | 2000 | 786373      | 1954          | 402.443\n",
       "District of Columbia | DC           | total | 2000 | 572046      | 68            | 8412.44\n",
       "Florida              | FL           | total | 2000 | 1.60475e+07 | 65758         | 244.039\n",
       "... (41 rows omitted)"
      ]
     },
     "execution_count": 11,
     "metadata": {},
     "output_type": "execute_result"
    }
   ],
   "source": [
    "state_combined3 = state_combined2.with_column(\n",
    "    'Pop/sq mile',\n",
    "    state_combined2.column('population') / state_combined2.column('area (sq. mi)')\n",
    ")\n",
    "\n",
    "state_combined3"
   ]
  },
  {
   "cell_type": "code",
   "execution_count": 12,
   "metadata": {},
   "outputs": [
    {
     "data": {
      "text/html": [
       "<table border=\"1\" class=\"dataframe\">\n",
       "    <thead>\n",
       "        <tr>\n",
       "            <th>state</th> <th>state/region</th> <th>ages</th> <th>year</th> <th>population</th> <th>area (sq. mi)</th> <th>Pop/sq mile</th>\n",
       "        </tr>\n",
       "    </thead>\n",
       "    <tbody>\n",
       "        <tr>\n",
       "            <td>Alaska      </td> <td>AK          </td> <td>total</td> <td>2000</td> <td>627963     </td> <td>656425       </td> <td>0.956641   </td>\n",
       "        </tr>\n",
       "        <tr>\n",
       "            <td>Wyoming     </td> <td>WY          </td> <td>total</td> <td>2000</td> <td>494300     </td> <td>97818        </td> <td>5.05326    </td>\n",
       "        </tr>\n",
       "        <tr>\n",
       "            <td>Montana     </td> <td>MT          </td> <td>total</td> <td>2000</td> <td>903773     </td> <td>147046       </td> <td>6.14619    </td>\n",
       "        </tr>\n",
       "        <tr>\n",
       "            <td>North Dakota</td> <td>ND          </td> <td>total</td> <td>2000</td> <td>642023     </td> <td>70704        </td> <td>9.08043    </td>\n",
       "        </tr>\n",
       "        <tr>\n",
       "            <td>South Dakota</td> <td>SD          </td> <td>total</td> <td>2000</td> <td>755844     </td> <td>77121        </td> <td>9.80075    </td>\n",
       "        </tr>\n",
       "        <tr>\n",
       "            <td>New Mexico  </td> <td>NM          </td> <td>total</td> <td>2000</td> <td>1.8212e+06 </td> <td>121593       </td> <td>14.9779    </td>\n",
       "        </tr>\n",
       "        <tr>\n",
       "            <td>Idaho       </td> <td>ID          </td> <td>total</td> <td>2000</td> <td>1.29943e+06</td> <td>83574        </td> <td>15.5483    </td>\n",
       "        </tr>\n",
       "        <tr>\n",
       "            <td>Nevada      </td> <td>NV          </td> <td>total</td> <td>2000</td> <td>2.01874e+06</td> <td>110567       </td> <td>18.2581    </td>\n",
       "        </tr>\n",
       "        <tr>\n",
       "            <td>Nebraska    </td> <td>NE          </td> <td>total</td> <td>2000</td> <td>1.71382e+06</td> <td>77358        </td> <td>22.1544    </td>\n",
       "        </tr>\n",
       "        <tr>\n",
       "            <td>Utah        </td> <td>UT          </td> <td>total</td> <td>2000</td> <td>2.2445e+06 </td> <td>84904        </td> <td>26.4358    </td>\n",
       "        </tr>\n",
       "    </tbody>\n",
       "</table>"
      ],
      "text/plain": [
       "state        | state/region | ages  | year | population  | area (sq. mi) | Pop/sq mile\n",
       "Alaska       | AK           | total | 2000 | 627963      | 656425        | 0.956641\n",
       "Wyoming      | WY           | total | 2000 | 494300      | 97818         | 5.05326\n",
       "Montana      | MT           | total | 2000 | 903773      | 147046        | 6.14619\n",
       "North Dakota | ND           | total | 2000 | 642023      | 70704         | 9.08043\n",
       "South Dakota | SD           | total | 2000 | 755844      | 77121         | 9.80075\n",
       "New Mexico   | NM           | total | 2000 | 1.8212e+06  | 121593        | 14.9779\n",
       "Idaho        | ID           | total | 2000 | 1.29943e+06 | 83574         | 15.5483\n",
       "Nevada       | NV           | total | 2000 | 2.01874e+06 | 110567        | 18.2581\n",
       "Nebraska     | NE           | total | 2000 | 1.71382e+06 | 77358         | 22.1544\n",
       "Utah         | UT           | total | 2000 | 2.2445e+06  | 84904         | 26.4358"
      ]
     },
     "execution_count": 12,
     "metadata": {},
     "output_type": "execute_result"
    }
   ],
   "source": [
    "state_combined3.sort('Pop/sq mile').take(np.arange(10))"
   ]
  },
  {
   "cell_type": "code",
   "execution_count": null,
   "metadata": {},
   "outputs": [],
   "source": []
  }
 ],
 "metadata": {
  "kernelspec": {
   "display_name": "Python 3 (ipykernel)",
   "language": "python",
   "name": "python3"
  },
  "language_info": {
   "codemirror_mode": {
    "name": "ipython",
    "version": 3
   },
   "file_extension": ".py",
   "mimetype": "text/x-python",
   "name": "python",
   "nbconvert_exporter": "python",
   "pygments_lexer": "ipython3",
   "version": "3.9.13"
  }
 },
 "nbformat": 4,
 "nbformat_minor": 4
}
