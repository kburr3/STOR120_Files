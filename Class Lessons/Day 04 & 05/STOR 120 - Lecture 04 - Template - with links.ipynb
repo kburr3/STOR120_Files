{
 "cells": [
  {
   "cell_type": "code",
   "execution_count": 1,
   "metadata": {},
   "outputs": [],
   "source": [
    "from datascience import *\n",
    "import numpy as np"
   ]
  },
  {
   "cell_type": "markdown",
   "metadata": {},
   "source": [
    "## Review of Tables ##"
   ]
  },
  {
   "cell_type": "code",
   "execution_count": 2,
   "metadata": {},
   "outputs": [
    {
     "data": {
      "text/html": [
       "<table border=\"1\" class=\"dataframe\">\n",
       "    <thead>\n",
       "        <tr>\n",
       "            <th>name</th> <th>material</th> <th>city</th> <th>height</th> <th>completed</th>\n",
       "        </tr>\n",
       "    </thead>\n",
       "    <tbody>\n",
       "        <tr>\n",
       "            <td>One World Trade Center           </td> <td>composite</td> <td>New York City</td> <td>541.3 </td> <td>2014     </td>\n",
       "        </tr>\n",
       "        <tr>\n",
       "            <td>Willis Tower                     </td> <td>steel    </td> <td>Chicago      </td> <td>442.14</td> <td>1974     </td>\n",
       "        </tr>\n",
       "        <tr>\n",
       "            <td>432 Park Avenue                  </td> <td>concrete </td> <td>New York City</td> <td>425.5 </td> <td>2015     </td>\n",
       "        </tr>\n",
       "        <tr>\n",
       "            <td>Trump International Hotel & Tower</td> <td>concrete </td> <td>Chicago      </td> <td>423.22</td> <td>2009     </td>\n",
       "        </tr>\n",
       "        <tr>\n",
       "            <td>Empire State Building            </td> <td>steel    </td> <td>New York City</td> <td>381   </td> <td>1931     </td>\n",
       "        </tr>\n",
       "        <tr>\n",
       "            <td>Bank of America Tower            </td> <td>composite</td> <td>New York City</td> <td>365.8 </td> <td>2009     </td>\n",
       "        </tr>\n",
       "        <tr>\n",
       "            <td>Stratosphere Tower               </td> <td>concrete </td> <td>Las Vegas    </td> <td>350.22</td> <td>1996     </td>\n",
       "        </tr>\n",
       "        <tr>\n",
       "            <td>Aon Center                       </td> <td>steel    </td> <td>Chicago      </td> <td>346.26</td> <td>1973     </td>\n",
       "        </tr>\n",
       "        <tr>\n",
       "            <td>John Hancock Center              </td> <td>steel    </td> <td>Chicago      </td> <td>343.69</td> <td>1969     </td>\n",
       "        </tr>\n",
       "        <tr>\n",
       "            <td>WITI TV Tower                    </td> <td>steel    </td> <td>Shorewood    </td> <td>329   </td> <td>1962     </td>\n",
       "        </tr>\n",
       "    </tbody>\n",
       "</table>\n",
       "<p>... (190 rows omitted)</p>"
      ],
      "text/plain": [
       "name                              | material  | city          | height | completed\n",
       "One World Trade Center            | composite | New York City | 541.3  | 2014\n",
       "Willis Tower                      | steel     | Chicago       | 442.14 | 1974\n",
       "432 Park Avenue                   | concrete  | New York City | 425.5  | 2015\n",
       "Trump International Hotel & Tower | concrete  | Chicago       | 423.22 | 2009\n",
       "Empire State Building             | steel     | New York City | 381    | 1931\n",
       "Bank of America Tower             | composite | New York City | 365.8  | 2009\n",
       "Stratosphere Tower                | concrete  | Las Vegas     | 350.22 | 1996\n",
       "Aon Center                        | steel     | Chicago       | 346.26 | 1973\n",
       "John Hancock Center               | steel     | Chicago       | 343.69 | 1969\n",
       "WITI TV Tower                     | steel     | Shorewood     | 329    | 1962\n",
       "... (190 rows omitted)"
      ]
     },
     "execution_count": 2,
     "metadata": {},
     "output_type": "execute_result"
    }
   ],
   "source": [
    "#skyscrapers = Table.read_table('skyscrapers.csv')\n",
    "skyscrapers = Table.read_table('https://raw.githubusercontent.com/JA-McLean/STOR120/master/data/skyscrapers.csv')\n",
    "skyscrapers"
   ]
  },
  {
   "cell_type": "code",
   "execution_count": 3,
   "metadata": {},
   "outputs": [
    {
     "data": {
      "text/html": [
       "<table border=\"1\" class=\"dataframe\">\n",
       "    <thead>\n",
       "        <tr>\n",
       "            <th>name</th> <th>height</th>\n",
       "        </tr>\n",
       "    </thead>\n",
       "    <tbody>\n",
       "        <tr>\n",
       "            <td>One World Trade Center           </td> <td>541.3 </td>\n",
       "        </tr>\n",
       "        <tr>\n",
       "            <td>Willis Tower                     </td> <td>442.14</td>\n",
       "        </tr>\n",
       "        <tr>\n",
       "            <td>432 Park Avenue                  </td> <td>425.5 </td>\n",
       "        </tr>\n",
       "        <tr>\n",
       "            <td>Trump International Hotel & Tower</td> <td>423.22</td>\n",
       "        </tr>\n",
       "        <tr>\n",
       "            <td>Empire State Building            </td> <td>381   </td>\n",
       "        </tr>\n",
       "        <tr>\n",
       "            <td>Bank of America Tower            </td> <td>365.8 </td>\n",
       "        </tr>\n",
       "        <tr>\n",
       "            <td>Stratosphere Tower               </td> <td>350.22</td>\n",
       "        </tr>\n",
       "        <tr>\n",
       "            <td>Aon Center                       </td> <td>346.26</td>\n",
       "        </tr>\n",
       "        <tr>\n",
       "            <td>John Hancock Center              </td> <td>343.69</td>\n",
       "        </tr>\n",
       "        <tr>\n",
       "            <td>WITI TV Tower                    </td> <td>329   </td>\n",
       "        </tr>\n",
       "    </tbody>\n",
       "</table>\n",
       "<p>... (190 rows omitted)</p>"
      ],
      "text/plain": [
       "name                              | height\n",
       "One World Trade Center            | 541.3\n",
       "Willis Tower                      | 442.14\n",
       "432 Park Avenue                   | 425.5\n",
       "Trump International Hotel & Tower | 423.22\n",
       "Empire State Building             | 381\n",
       "Bank of America Tower             | 365.8\n",
       "Stratosphere Tower                | 350.22\n",
       "Aon Center                        | 346.26\n",
       "John Hancock Center               | 343.69\n",
       "WITI TV Tower                     | 329\n",
       "... (190 rows omitted)"
      ]
     },
     "execution_count": 3,
     "metadata": {},
     "output_type": "execute_result"
    }
   ],
   "source": [
    "skyscrapers.select('name', 'height')"
   ]
  },
  {
   "cell_type": "code",
   "execution_count": 4,
   "metadata": {},
   "outputs": [
    {
     "data": {
      "text/html": [
       "<table border=\"1\" class=\"dataframe\">\n",
       "    <thead>\n",
       "        <tr>\n",
       "            <th>name</th> <th>city</th>\n",
       "        </tr>\n",
       "    </thead>\n",
       "    <tbody>\n",
       "        <tr>\n",
       "            <td>One World Trade Center           </td> <td>New York City</td>\n",
       "        </tr>\n",
       "        <tr>\n",
       "            <td>Willis Tower                     </td> <td>Chicago      </td>\n",
       "        </tr>\n",
       "        <tr>\n",
       "            <td>432 Park Avenue                  </td> <td>New York City</td>\n",
       "        </tr>\n",
       "        <tr>\n",
       "            <td>Trump International Hotel & Tower</td> <td>Chicago      </td>\n",
       "        </tr>\n",
       "        <tr>\n",
       "            <td>Empire State Building            </td> <td>New York City</td>\n",
       "        </tr>\n",
       "        <tr>\n",
       "            <td>Bank of America Tower            </td> <td>New York City</td>\n",
       "        </tr>\n",
       "        <tr>\n",
       "            <td>Stratosphere Tower               </td> <td>Las Vegas    </td>\n",
       "        </tr>\n",
       "        <tr>\n",
       "            <td>Aon Center                       </td> <td>Chicago      </td>\n",
       "        </tr>\n",
       "        <tr>\n",
       "            <td>John Hancock Center              </td> <td>Chicago      </td>\n",
       "        </tr>\n",
       "        <tr>\n",
       "            <td>WITI TV Tower                    </td> <td>Shorewood    </td>\n",
       "        </tr>\n",
       "    </tbody>\n",
       "</table>\n",
       "<p>... (190 rows omitted)</p>"
      ],
      "text/plain": [
       "name                              | city\n",
       "One World Trade Center            | New York City\n",
       "Willis Tower                      | Chicago\n",
       "432 Park Avenue                   | New York City\n",
       "Trump International Hotel & Tower | Chicago\n",
       "Empire State Building             | New York City\n",
       "Bank of America Tower             | New York City\n",
       "Stratosphere Tower                | Las Vegas\n",
       "Aon Center                        | Chicago\n",
       "John Hancock Center               | Chicago\n",
       "WITI TV Tower                     | Shorewood\n",
       "... (190 rows omitted)"
      ]
     },
     "execution_count": 4,
     "metadata": {},
     "output_type": "execute_result"
    }
   ],
   "source": [
    "skyscrapers.drop('completed', 'height', 'material')"
   ]
  },
  {
   "cell_type": "code",
   "execution_count": 5,
   "metadata": {},
   "outputs": [
    {
     "data": {
      "text/html": [
       "<table border=\"1\" class=\"dataframe\">\n",
       "    <thead>\n",
       "        <tr>\n",
       "            <th>name</th> <th>material</th> <th>city</th> <th>height</th> <th>completed</th>\n",
       "        </tr>\n",
       "    </thead>\n",
       "    <tbody>\n",
       "        <tr>\n",
       "            <td>One World Trade Center           </td> <td>composite</td> <td>New York City</td> <td>541.3 </td> <td>2014     </td>\n",
       "        </tr>\n",
       "        <tr>\n",
       "            <td>Willis Tower                     </td> <td>steel    </td> <td>Chicago      </td> <td>442.14</td> <td>1974     </td>\n",
       "        </tr>\n",
       "        <tr>\n",
       "            <td>432 Park Avenue                  </td> <td>concrete </td> <td>New York City</td> <td>425.5 </td> <td>2015     </td>\n",
       "        </tr>\n",
       "        <tr>\n",
       "            <td>Trump International Hotel & Tower</td> <td>concrete </td> <td>Chicago      </td> <td>423.22</td> <td>2009     </td>\n",
       "        </tr>\n",
       "        <tr>\n",
       "            <td>Empire State Building            </td> <td>steel    </td> <td>New York City</td> <td>381   </td> <td>1931     </td>\n",
       "        </tr>\n",
       "        <tr>\n",
       "            <td>Bank of America Tower            </td> <td>composite</td> <td>New York City</td> <td>365.8 </td> <td>2009     </td>\n",
       "        </tr>\n",
       "        <tr>\n",
       "            <td>Stratosphere Tower               </td> <td>concrete </td> <td>Las Vegas    </td> <td>350.22</td> <td>1996     </td>\n",
       "        </tr>\n",
       "        <tr>\n",
       "            <td>Aon Center                       </td> <td>steel    </td> <td>Chicago      </td> <td>346.26</td> <td>1973     </td>\n",
       "        </tr>\n",
       "        <tr>\n",
       "            <td>John Hancock Center              </td> <td>steel    </td> <td>Chicago      </td> <td>343.69</td> <td>1969     </td>\n",
       "        </tr>\n",
       "        <tr>\n",
       "            <td>WITI TV Tower                    </td> <td>steel    </td> <td>Shorewood    </td> <td>329   </td> <td>1962     </td>\n",
       "        </tr>\n",
       "    </tbody>\n",
       "</table>\n",
       "<p>... (190 rows omitted)</p>"
      ],
      "text/plain": [
       "name                              | material  | city          | height | completed\n",
       "One World Trade Center            | composite | New York City | 541.3  | 2014\n",
       "Willis Tower                      | steel     | Chicago       | 442.14 | 1974\n",
       "432 Park Avenue                   | concrete  | New York City | 425.5  | 2015\n",
       "Trump International Hotel & Tower | concrete  | Chicago       | 423.22 | 2009\n",
       "Empire State Building             | steel     | New York City | 381    | 1931\n",
       "Bank of America Tower             | composite | New York City | 365.8  | 2009\n",
       "Stratosphere Tower                | concrete  | Las Vegas     | 350.22 | 1996\n",
       "Aon Center                        | steel     | Chicago       | 346.26 | 1973\n",
       "John Hancock Center               | steel     | Chicago       | 343.69 | 1969\n",
       "WITI TV Tower                     | steel     | Shorewood     | 329    | 1962\n",
       "... (190 rows omitted)"
      ]
     },
     "execution_count": 5,
     "metadata": {},
     "output_type": "execute_result"
    }
   ],
   "source": [
    "skyscrapers"
   ]
  },
  {
   "cell_type": "code",
   "execution_count": 6,
   "metadata": {},
   "outputs": [
    {
     "data": {
      "text/html": [
       "<table border=\"1\" class=\"dataframe\">\n",
       "    <thead>\n",
       "        <tr>\n",
       "            <th>name</th> <th>material</th> <th>city</th> <th>height</th> <th>completed</th>\n",
       "        </tr>\n",
       "    </thead>\n",
       "    <tbody>\n",
       "        <tr>\n",
       "            <td>Bank of America Corporate Center</td> <td>concrete      </td> <td>Charlotte</td> <td>265.48</td> <td>1992     </td>\n",
       "        </tr>\n",
       "        <tr>\n",
       "            <td>Duke Energy Center              </td> <td>concrete/steel</td> <td>Charlotte</td> <td>239.7 </td> <td>2010     </td>\n",
       "        </tr>\n",
       "        <tr>\n",
       "            <td>Hearst Tower                    </td> <td>steel/concrete</td> <td>Charlotte</td> <td>200.81</td> <td>2002     </td>\n",
       "        </tr>\n",
       "    </tbody>\n",
       "</table>"
      ],
      "text/plain": [
       "name                             | material       | city      | height | completed\n",
       "Bank of America Corporate Center | concrete       | Charlotte | 265.48 | 1992\n",
       "Duke Energy Center               | concrete/steel | Charlotte | 239.7  | 2010\n",
       "Hearst Tower                     | steel/concrete | Charlotte | 200.81 | 2002"
      ]
     },
     "execution_count": 6,
     "metadata": {},
     "output_type": "execute_result"
    }
   ],
   "source": [
    "skyscrapers.where('city', 'Charlotte')"
   ]
  },
  {
   "cell_type": "code",
   "execution_count": 7,
   "metadata": {},
   "outputs": [
    {
     "data": {
      "text/html": [
       "<table border=\"1\" class=\"dataframe\">\n",
       "    <thead>\n",
       "        <tr>\n",
       "            <th>name</th> <th>material</th> <th>city</th> <th>height</th> <th>completed</th>\n",
       "        </tr>\n",
       "    </thead>\n",
       "    <tbody>\n",
       "        <tr>\n",
       "            <td>Empire State Building</td> <td>steel   </td> <td>New York City</td> <td>381   </td> <td>1931     </td>\n",
       "        </tr>\n",
       "    </tbody>\n",
       "</table>"
      ],
      "text/plain": [
       "name                  | material | city          | height | completed\n",
       "Empire State Building | steel    | New York City | 381    | 1931"
      ]
     },
     "execution_count": 7,
     "metadata": {},
     "output_type": "execute_result"
    }
   ],
   "source": [
    "skyscrapers.where('name', 'Empire State Building')"
   ]
  },
  {
   "cell_type": "code",
   "execution_count": 8,
   "metadata": {},
   "outputs": [
    {
     "data": {
      "text/html": [
       "<table border=\"1\" class=\"dataframe\">\n",
       "    <thead>\n",
       "        <tr>\n",
       "            <th>name</th> <th>material</th> <th>city</th> <th>height</th> <th>completed</th>\n",
       "        </tr>\n",
       "    </thead>\n",
       "    <tbody>\n",
       "        <tr>\n",
       "            <td>Metropolitan Life Tower</td> <td>steel   </td> <td>New York City</td> <td>213.36</td> <td>1909     </td>\n",
       "        </tr>\n",
       "        <tr>\n",
       "            <td>Woolworth Building     </td> <td>steel   </td> <td>New York City</td> <td>241.4 </td> <td>1913     </td>\n",
       "        </tr>\n",
       "        <tr>\n",
       "            <td>Chanin Building        </td> <td>steel   </td> <td>New York City</td> <td>197.8 </td> <td>1929     </td>\n",
       "        </tr>\n",
       "        <tr>\n",
       "            <td>Mercantile Building    </td> <td>steel   </td> <td>New York City</td> <td>192.6 </td> <td>1929     </td>\n",
       "        </tr>\n",
       "        <tr>\n",
       "            <td>Chrysler Building      </td> <td>steel   </td> <td>New York City</td> <td>318.9 </td> <td>1930     </td>\n",
       "        </tr>\n",
       "        <tr>\n",
       "            <td>The Trump Building     </td> <td>steel   </td> <td>New York City</td> <td>282.55</td> <td>1930     </td>\n",
       "        </tr>\n",
       "        <tr>\n",
       "            <td>One Grand Central Place</td> <td>steel   </td> <td>New York City</td> <td>205.13</td> <td>1930     </td>\n",
       "        </tr>\n",
       "        <tr>\n",
       "            <td>Empire State Building  </td> <td>steel   </td> <td>New York City</td> <td>381   </td> <td>1931     </td>\n",
       "        </tr>\n",
       "        <tr>\n",
       "            <td>Twenty Exchange        </td> <td>steel   </td> <td>New York City</td> <td>225.86</td> <td>1931     </td>\n",
       "        </tr>\n",
       "        <tr>\n",
       "            <td>500 Fifth Avenue       </td> <td>steel   </td> <td>New York City</td> <td>212.45</td> <td>1931     </td>\n",
       "        </tr>\n",
       "    </tbody>\n",
       "</table>\n",
       "<p>... (63 rows omitted)</p>"
      ],
      "text/plain": [
       "name                    | material | city          | height | completed\n",
       "Metropolitan Life Tower | steel    | New York City | 213.36 | 1909\n",
       "Woolworth Building      | steel    | New York City | 241.4  | 1913\n",
       "Chanin Building         | steel    | New York City | 197.8  | 1929\n",
       "Mercantile Building     | steel    | New York City | 192.6  | 1929\n",
       "Chrysler Building       | steel    | New York City | 318.9  | 1930\n",
       "The Trump Building      | steel    | New York City | 282.55 | 1930\n",
       "One Grand Central Place | steel    | New York City | 205.13 | 1930\n",
       "Empire State Building   | steel    | New York City | 381    | 1931\n",
       "Twenty Exchange         | steel    | New York City | 225.86 | 1931\n",
       "500 Fifth Avenue        | steel    | New York City | 212.45 | 1931\n",
       "... (63 rows omitted)"
      ]
     },
     "execution_count": 8,
     "metadata": {},
     "output_type": "execute_result"
    }
   ],
   "source": [
    "skyscrapers.where('city', 'New York City').sort('completed')"
   ]
  },
  {
   "cell_type": "code",
   "execution_count": 9,
   "metadata": {},
   "outputs": [
    {
     "data": {
      "text/html": [
       "<table border=\"1\" class=\"dataframe\">\n",
       "    <thead>\n",
       "        <tr>\n",
       "            <th>name</th> <th>material</th> <th>city</th> <th>height</th> <th>completed</th>\n",
       "        </tr>\n",
       "    </thead>\n",
       "    <tbody>\n",
       "        <tr>\n",
       "            <td>432 Park Avenue                                 </td> <td>concrete      </td> <td>New York City</td> <td>425.5 </td> <td>2015     </td>\n",
       "        </tr>\n",
       "        <tr>\n",
       "            <td>Sky                                             </td> <td>concrete      </td> <td>New York City</td> <td>206   </td> <td>2015     </td>\n",
       "        </tr>\n",
       "        <tr>\n",
       "            <td>One World Trade Center                          </td> <td>composite     </td> <td>New York City</td> <td>541.3 </td> <td>2014     </td>\n",
       "        </tr>\n",
       "        <tr>\n",
       "            <td>One57                                           </td> <td>steel/concrete</td> <td>New York City</td> <td>306.07</td> <td>2014     </td>\n",
       "        </tr>\n",
       "        <tr>\n",
       "            <td>4 World Trade Center                            </td> <td>composite     </td> <td>New York City</td> <td>297.73</td> <td>2014     </td>\n",
       "        </tr>\n",
       "        <tr>\n",
       "            <td>Courtyard & Residence Inn Manhattan/Central Park</td> <td>concrete      </td> <td>New York City</td> <td>229.62</td> <td>2013     </td>\n",
       "        </tr>\n",
       "        <tr>\n",
       "            <td>Eight Spruce Street                             </td> <td>concrete      </td> <td>New York City</td> <td>265.18</td> <td>2011     </td>\n",
       "        </tr>\n",
       "        <tr>\n",
       "            <td>1 MiMA Tower                                    </td> <td>concrete      </td> <td>New York City</td> <td>194.55</td> <td>2011     </td>\n",
       "        </tr>\n",
       "        <tr>\n",
       "            <td>Goldman Sachs Headquarters                      </td> <td>steel         </td> <td>New York City</td> <td>228.3 </td> <td>2010     </td>\n",
       "        </tr>\n",
       "        <tr>\n",
       "            <td>Langham Place                                   </td> <td>concrete      </td> <td>New York City</td> <td>192.58</td> <td>2010     </td>\n",
       "        </tr>\n",
       "    </tbody>\n",
       "</table>\n",
       "<p>... (63 rows omitted)</p>"
      ],
      "text/plain": [
       "name                                             | material       | city          | height | completed\n",
       "432 Park Avenue                                  | concrete       | New York City | 425.5  | 2015\n",
       "Sky                                              | concrete       | New York City | 206    | 2015\n",
       "One World Trade Center                           | composite      | New York City | 541.3  | 2014\n",
       "One57                                            | steel/concrete | New York City | 306.07 | 2014\n",
       "4 World Trade Center                             | composite      | New York City | 297.73 | 2014\n",
       "Courtyard & Residence Inn Manhattan/Central Park | concrete       | New York City | 229.62 | 2013\n",
       "Eight Spruce Street                              | concrete       | New York City | 265.18 | 2011\n",
       "1 MiMA Tower                                     | concrete       | New York City | 194.55 | 2011\n",
       "Goldman Sachs Headquarters                       | steel          | New York City | 228.3  | 2010\n",
       "Langham Place                                    | concrete       | New York City | 192.58 | 2010\n",
       "... (63 rows omitted)"
      ]
     },
     "execution_count": 9,
     "metadata": {},
     "output_type": "execute_result"
    }
   ],
   "source": [
    "skyscrapers.where('city', 'New York City').sort('completed', descending=True)"
   ]
  },
  {
   "cell_type": "code",
   "execution_count": 10,
   "metadata": {},
   "outputs": [
    {
     "data": {
      "text/html": [
       "<table border=\"1\" class=\"dataframe\">\n",
       "    <thead>\n",
       "        <tr>\n",
       "            <th>name</th> <th>material</th> <th>height</th> <th>completed</th>\n",
       "        </tr>\n",
       "    </thead>\n",
       "    <tbody>\n",
       "        <tr>\n",
       "            <td>Willis Tower                     </td> <td>steel         </td> <td>442.14</td> <td>1974     </td>\n",
       "        </tr>\n",
       "        <tr>\n",
       "            <td>Trump International Hotel & Tower</td> <td>concrete      </td> <td>423.22</td> <td>2009     </td>\n",
       "        </tr>\n",
       "        <tr>\n",
       "            <td>Aon Center                       </td> <td>steel         </td> <td>346.26</td> <td>1973     </td>\n",
       "        </tr>\n",
       "        <tr>\n",
       "            <td>John Hancock Center              </td> <td>steel         </td> <td>343.69</td> <td>1969     </td>\n",
       "        </tr>\n",
       "        <tr>\n",
       "            <td>The Franklin - North Tower       </td> <td>composite     </td> <td>306.94</td> <td>1989     </td>\n",
       "        </tr>\n",
       "        <tr>\n",
       "            <td>Two Prudential Plaza             </td> <td>concrete      </td> <td>303.28</td> <td>1990     </td>\n",
       "        </tr>\n",
       "        <tr>\n",
       "            <td>311 South Wacker Drive           </td> <td>concrete      </td> <td>292.92</td> <td>1990     </td>\n",
       "        </tr>\n",
       "        <tr>\n",
       "            <td>900 North Michigan Avenue        </td> <td>concrete/steel</td> <td>265   </td> <td>1989     </td>\n",
       "        </tr>\n",
       "        <tr>\n",
       "            <td>Water Tower Place                </td> <td>concrete      </td> <td>261.88</td> <td>1976     </td>\n",
       "        </tr>\n",
       "        <tr>\n",
       "            <td>Aqua                             </td> <td>concrete      </td> <td>261.75</td> <td>2009     </td>\n",
       "        </tr>\n",
       "    </tbody>\n",
       "</table>\n",
       "<p>... (26 rows omitted)</p>"
      ],
      "text/plain": [
       "name                              | material       | height | completed\n",
       "Willis Tower                      | steel          | 442.14 | 1974\n",
       "Trump International Hotel & Tower | concrete       | 423.22 | 2009\n",
       "Aon Center                        | steel          | 346.26 | 1973\n",
       "John Hancock Center               | steel          | 343.69 | 1969\n",
       "The Franklin - North Tower        | composite      | 306.94 | 1989\n",
       "Two Prudential Plaza              | concrete       | 303.28 | 1990\n",
       "311 South Wacker Drive            | concrete       | 292.92 | 1990\n",
       "900 North Michigan Avenue         | concrete/steel | 265    | 1989\n",
       "Water Tower Place                 | concrete       | 261.88 | 1976\n",
       "Aqua                              | concrete       | 261.75 | 2009\n",
       "... (26 rows omitted)"
      ]
     },
     "execution_count": 10,
     "metadata": {},
     "output_type": "execute_result"
    }
   ],
   "source": [
    "chicago = skyscrapers.where('city', 'Chicago').drop('city')\n",
    "chicago"
   ]
  },
  {
   "cell_type": "code",
   "execution_count": 11,
   "metadata": {},
   "outputs": [
    {
     "data": {
      "text/html": [
       "<table border=\"1\" class=\"dataframe\">\n",
       "    <thead>\n",
       "        <tr>\n",
       "            <th>name</th> <th>material</th> <th>height</th> <th>completed</th>\n",
       "        </tr>\n",
       "    </thead>\n",
       "    <tbody>\n",
       "        <tr>\n",
       "            <td>Willis Tower           </td> <td>steel   </td> <td>442.14</td> <td>1974     </td>\n",
       "        </tr>\n",
       "        <tr>\n",
       "            <td>Aon Center             </td> <td>steel   </td> <td>346.26</td> <td>1973     </td>\n",
       "        </tr>\n",
       "        <tr>\n",
       "            <td>John Hancock Center    </td> <td>steel   </td> <td>343.69</td> <td>1969     </td>\n",
       "        </tr>\n",
       "        <tr>\n",
       "            <td>Chase Tower            </td> <td>steel   </td> <td>259.08</td> <td>1969     </td>\n",
       "        </tr>\n",
       "        <tr>\n",
       "            <td>Richard J. Daley Center</td> <td>steel   </td> <td>197.51</td> <td>1965     </td>\n",
       "        </tr>\n",
       "    </tbody>\n",
       "</table>"
      ],
      "text/plain": [
       "name                    | material | height | completed\n",
       "Willis Tower            | steel    | 442.14 | 1974\n",
       "Aon Center              | steel    | 346.26 | 1973\n",
       "John Hancock Center     | steel    | 343.69 | 1969\n",
       "Chase Tower             | steel    | 259.08 | 1969\n",
       "Richard J. Daley Center | steel    | 197.51 | 1965"
      ]
     },
     "execution_count": 11,
     "metadata": {},
     "output_type": "execute_result"
    }
   ],
   "source": [
    "chicago.where('material', 'steel').sort('completed', descending=True)"
   ]
  },
  {
   "cell_type": "markdown",
   "metadata": {},
   "source": [
    "## Numbers ##"
   ]
  },
  {
   "cell_type": "code",
   "execution_count": 12,
   "metadata": {},
   "outputs": [
    {
     "data": {
      "text/plain": [
       "20"
      ]
     },
     "execution_count": 12,
     "metadata": {},
     "output_type": "execute_result"
    }
   ],
   "source": [
    "4 * 5"
   ]
  },
  {
   "cell_type": "code",
   "execution_count": null,
   "metadata": {},
   "outputs": [],
   "source": [
    "20 # interger"
   ]
  },
  {
   "cell_type": "code",
   "execution_count": 16,
   "metadata": {},
   "outputs": [
    {
     "data": {
      "text/plain": [
       "6.666666666666667"
      ]
     },
     "execution_count": 16,
     "metadata": {},
     "output_type": "execute_result"
    }
   ],
   "source": [
    "20 / 3 # This results in a floating num"
   ]
  },
  {
   "cell_type": "code",
   "execution_count": 17,
   "metadata": {},
   "outputs": [
    {
     "data": {
      "text/plain": [
       "9"
      ]
     },
     "execution_count": 17,
     "metadata": {},
     "output_type": "execute_result"
    }
   ],
   "source": [
    " 4 + 5"
   ]
  },
  {
   "cell_type": "code",
   "execution_count": 18,
   "metadata": {},
   "outputs": [
    {
     "data": {
      "text/plain": [
       "2861381721051424"
      ]
     },
     "execution_count": 18,
     "metadata": {},
     "output_type": "execute_result"
    }
   ],
   "source": [
    "1234 ** 5"
   ]
  },
  {
   "cell_type": "code",
   "execution_count": 19,
   "metadata": {},
   "outputs": [
    {
     "data": {
      "text/plain": [
       "8501231189087579600089751361553790268770349244703297428875589625722666467029941104939346554618071090198338783086373718576302438541333303880149260355204961854660219348723703108817202816413695269234965947705916615090621461642947014634336709271250452147953400166273260278848909785635002746194627726905574383510586443855838501016194842546617466128367893005423946615632150875808229800489923121719324872322046242350358131209328011811786949525196068003065158218919856058009730366652388266762742312727811381080096679122681705212621121694449552467004319038040278415300031865815686537893832036302381576784433617023034776696420714876144485434646470579451349932122786555312581410798435527766468171805917233861943182867785949421920388024490545080852578054799518628169776648400272207657901368826628263954152902385783150069479202174698194137926647193941464878985158866033603990897827957922316614328503432155899763729601975377581454913801778657241584312797743187104615112990826170240576951377437889267043522178249238593031641469549941494342759976108330779190218175412454748751926927383394413538931340595895207489380533100158406056151193717830291989516050792698599824001271625788286400083430435996225870286728426044234538211907415368581834395718465999600878488008607312853910299621718948349669855888836854252419288825696064212121647849551877875083738702829751411930599999622761621401447136127241509252032463327323070454207230975720060696828143799024367860147672207189531148445363579822690090247426809033888593346224400489864273919166242548023881535680191207682155376847968733347385604276041283073347228803815405279998112938547949111103674653832147687792102357868703111192396677366147456000088224345337686711034275719530447049014275259015225178167345787860419429746163578689112295374153342313643102860000043435063407095232225814912427371973655639573401225553397831763058803538321076134083815415808878801086989396808453086722759516791817007120094624007835769308392692512292076325216213400980105527561077936336304777689856279268528402220160062365065232332591377102473934204006130311988805188979219655541468478726919818964117814118792374862057769846985070125485535437404289927188615185691222316241621215766939710853896856813203062169027816260494177289049365381215927091498601917056060292413725363696411243333025412074745992523902361942775529526536373496738092824403787110436969853611291705542181465577860684356486366860656165512948151524933949786531146417170299635082603757569302823079309642165775339529350073334016536451546540101287343407519182886572705773752090361182764058820258039372684336875330193457187912610800811194846692844413250373790522436208281266107102797113360495590669276174666003140785418373792534074610572841949732698528501261527844158885908948457093379372805804839434654279671107358129161157542389885838451898730060682856993779392841932975136525458784109035840416983298605830506319573271130742050796746857088239476285125701191400037072451731684223974010566859507243715790643657351235859756336513849858202588873634540023879638374295951524136236923423671632288707799796254804534131404379431231204837024857385154005913719311686092928666434917434354477753061030585428817582406313947343323157529985612660681069043858038046579763847037562570547171440108195495366373958169243521224322956620783733349921065284787807945332261864322729817303151806498733348746037759221592204992833243474043011524957764893686560384098274570957300202261186252832958713676112057045040733644861358757896798944561785532803162367117322209902786366770185404104429801771112839955437055146806182689958073760306881639356780211743597322337707273020574672167834903012765163624007144211187468411542572963939660561108419475949395174963273413868852896440947424344992179718533116562699371740484706235433706366240569083524185430700469547308694857964159760700105671073001697330585529109121954741220576828524401723676757794795250083720950267587758171582501191501189637061958522207031367402612571734076441860674863814099909712130609708832863842680889265436019725367744101582454551569091979679402651954509598343981143344994024597129576527297449562174131960128341530909092632992001197144131236990528338873298678869553075209034043170992884449709029653566942008795413009270598751643823365272644494325074303521000550383539517161018722764697822086046405563680718131405792201823465582572438557456336286618410630318761812534387255321583672541646660962378801475251590166471466595258572158876046780792443577415200699819116816418271779150023325969827619668356385379492002839104719856567779948453993844186649714112183836256341312617615482430806958408238575908083762936896619234237776772177583159411023017504636095926857331555009746884320121739186130195270017824024543589427772233432983995687775589752856045849787752136728977672421047044616632815386399888296637700670466401959263236561582055778310157915470795145143796474746725370125947980275952922826108308467662042757684610567756146778339591309122209612268095258943366473761985897845055573273671724348548111948847379270386151942239409617923808520510216097802516678970040346980188629443715890930465463804492890211575470612830497028489147272192585685947796464545671963309049439258226873022205625709886668321373234244538080578360227498200648921276375417069081994650310855296691342660962147412307971339042024827405215076215739687361592800757818100677910903440952002286261610473948573453158231294083861144427334581930023810856063221538294930635014609130296973666667250400981564887676855397430415734620826642403239301737465365417336571401497355640018224265552528893856056521264468754259331309642279938999221903924272554971643852022011765947996212275421355829319833800328694415760470248441144112841871615527949567756625459528865177363760130737703504794132062456639099091337141843043572787978733434533767453243181864529530929934401760870432704557779849641423060741199004298604891642184264851178483341038511090722342118873498635737236513496645110435204599001192882345052148291893842746068818312240423860644772035686748207737937330731621572971700220581785018809135077118524157304642073960556985963276791286503519409401480367890088946361913781598819528053807824965631154067173643125103000019765896220170024014812342911173525749157697106521016854161257203523551539146282300370830977932461995240936491993635236903476374429789840395960375345964220770757740813788095016860025483170158351625008006789547501818953994047994918103675713213055967165384541604370431719729029540602763131661822887630690333465610033516515270697981295995776262959098948330585272660656116144967043969319660080776468003023689115985109243276062032314681910559853467564899656051147313316756842800810181868551222821480948679861163616172872803379733777573623808254369599685925204412819323875134478075963684161339050209936379061691033728923807475379415465383025557131060414658886176518426741514818489971200170225002785660981724657558948045769491628137308892224722090788609018498931641698349882126634530850124893008580057089031262692083463530715246539201336162343861003837177762709976164318071419708304774305664605227779130500290518760514487016040637183163730234198931327443230999593434886642032992814007487335032806974334314990662466625794888753011718986752189306642732138825853045557198359478493270993059784423790507239915335903398454260951414810668775167179806613918334466769567939609524474423632422141023039679879483408186345079632030424648847689809026711978081947903438392563709001125646893456021779329424424779391528111421469044606843018300876897395445253306890783761645221940056043388634123454588562306648298749455465977490994025174143753890716103766476979322281404578206477815990052749373250814491832851401070336784979513392325916209262885168692951437735907647072682733715902663075844281947906218641163705685395625799623292587670381081867593848818401532773950884647720702232756097645658920981343899421959357485709585505642079957307512728772215176970128993781357535088567880197542751827341139496635440210208317403228610798745224471360337944308550142133138286140336310210850089257101302693168879798276317068290928736257745653176186634263625371050768240096814085244914326618850585890836001384575901572218127873576262084578014910630523386001475565908224331383474802859023718719809018774147780237944047759978503648153192059539387669322736137970901270986925571309053202739919849451419989108352494436091493296836597733009962614962179159515434257716856173580148874002318298867398237987853860624691033672798285297799458631626290930743534995014732949479703154773215759707098072956386620819003127062648282710469678832752591863293231815729342871660619327557813453247774415659664487688398388095064059490423294993680724278374893719707121254981307094206136913986007896643600161482658832611193920247780934685992417914322966559683642055990954449127160573199392785726754635905855890063412382560973517981021050866306970467833416093939036735381065118352779372161346180266532169488697592826225229385373913274120218966809788862391276736910500922056220340985502760020115819638073740142247532804189017916769440211768994106186308752573719640071345233546773059430518424802367019060759411971955555783765928607321193807028182756584732165717947363836080443779104166099782053802892628426215105575437380575443970807930406429163847227208533516658172008981465870536417992534247869119054571725907031834192238976492462505188434925894284571802135891728461342192904519589748852378897993698002054987272239157980707384539293328406316786051257031276357363596121261371194514622932562625671032070170342014101299531464179007267091513529777800064039808987054298298686823438306885272747323730018071591283348858301520324446652833200656025652139439018968767445890277163242883795493226841395882873453066890758393808352377348137064155139165313796843738357495546901771274019801674136096948056418764420940226231277775442295382059919190325369174324707812524303352519068027684868978718371087463218055693256066300632651127553795883044234715579987402265384978881813429005659612240390356325241"
      ]
     },
     "execution_count": 19,
     "metadata": {},
     "output_type": "execute_result"
    }
   ],
   "source": [
    "123456789 ** 1234"
   ]
  },
  {
   "cell_type": "code",
   "execution_count": 20,
   "metadata": {},
   "outputs": [
    {
     "data": {
      "text/plain": [
       "0.005714285714285714"
      ]
     },
     "execution_count": 20,
     "metadata": {},
     "output_type": "execute_result"
    }
   ],
   "source": [
    "4 / 700"
   ]
  },
  {
   "cell_type": "code",
   "execution_count": 21,
   "metadata": {},
   "outputs": [
    {
     "data": {
      "text/plain": [
       "5.714285714285714e-14"
      ]
     },
     "execution_count": 21,
     "metadata": {},
     "output_type": "execute_result"
    }
   ],
   "source": [
    "4 / 70000000000000"
   ]
  },
  {
   "cell_type": "code",
   "execution_count": 22,
   "metadata": {},
   "outputs": [
    {
     "data": {
      "text/plain": [
       "0.12345678912345678"
      ]
     },
     "execution_count": 22,
     "metadata": {},
     "output_type": "execute_result"
    }
   ],
   "source": [
    "0.123456789123456789123456789"
   ]
  },
  {
   "cell_type": "code",
   "execution_count": 23,
   "metadata": {},
   "outputs": [
    {
     "data": {
      "text/plain": [
       "0.0"
      ]
     },
     "execution_count": 23,
     "metadata": {},
     "output_type": "execute_result"
    }
   ],
   "source": [
    "0.123456789123456789123456789 - 0.12345678912345678"
   ]
  },
  {
   "cell_type": "code",
   "execution_count": 24,
   "metadata": {},
   "outputs": [
    {
     "data": {
      "text/plain": [
       "3.1622776601683795"
      ]
     },
     "execution_count": 24,
     "metadata": {},
     "output_type": "execute_result"
    }
   ],
   "source": [
    "10 ** 0.5"
   ]
  },
  {
   "cell_type": "code",
   "execution_count": 25,
   "metadata": {},
   "outputs": [
    {
     "data": {
      "text/plain": [
       "10.000000000000002"
      ]
     },
     "execution_count": 25,
     "metadata": {},
     "output_type": "execute_result"
    }
   ],
   "source": [
    "3.1622776601683795 * 3.1622776601683795"
   ]
  },
  {
   "cell_type": "code",
   "execution_count": 26,
   "metadata": {},
   "outputs": [
    {
     "data": {
      "text/plain": [
       "10.000000000000002"
      ]
     },
     "execution_count": 26,
     "metadata": {},
     "output_type": "execute_result"
    }
   ],
   "source": [
    "(10 ** 0.5) ** 2"
   ]
  },
  {
   "cell_type": "code",
   "execution_count": null,
   "metadata": {},
   "outputs": [],
   "source": [
    "# Wont get same number because of truncation"
   ]
  },
  {
   "cell_type": "code",
   "execution_count": 27,
   "metadata": {},
   "outputs": [
    {
     "data": {
      "text/plain": [
       "2.0"
      ]
     },
     "execution_count": 27,
     "metadata": {},
     "output_type": "execute_result"
    }
   ],
   "source": [
    "20 / 10"
   ]
  },
  {
   "cell_type": "code",
   "execution_count": 28,
   "metadata": {},
   "outputs": [
    {
     "data": {
      "text/plain": [
       "2"
      ]
     },
     "execution_count": 28,
     "metadata": {},
     "output_type": "execute_result"
    }
   ],
   "source": [
    "int(20 / 10)"
   ]
  },
  {
   "cell_type": "code",
   "execution_count": 29,
   "metadata": {},
   "outputs": [
    {
     "data": {
      "text/plain": [
       "2"
      ]
     },
     "execution_count": 29,
     "metadata": {},
     "output_type": "execute_result"
    }
   ],
   "source": [
    "int(20 / 9)"
   ]
  },
  {
   "cell_type": "code",
   "execution_count": 30,
   "metadata": {},
   "outputs": [
    {
     "data": {
      "text/plain": [
       "2.2222222222222223"
      ]
     },
     "execution_count": 30,
     "metadata": {},
     "output_type": "execute_result"
    }
   ],
   "source": [
    "20 / 9"
   ]
  },
  {
   "cell_type": "code",
   "execution_count": 31,
   "metadata": {},
   "outputs": [
    {
     "data": {
      "text/plain": [
       "3.0"
      ]
     },
     "execution_count": 31,
     "metadata": {},
     "output_type": "execute_result"
    }
   ],
   "source": [
    "float(3)"
   ]
  },
  {
   "cell_type": "code",
   "execution_count": 32,
   "metadata": {},
   "outputs": [
    {
     "data": {
      "text/plain": [
       "1.5"
      ]
     },
     "execution_count": 32,
     "metadata": {},
     "output_type": "execute_result"
    }
   ],
   "source": [
    "6/4"
   ]
  },
  {
   "cell_type": "code",
   "execution_count": 33,
   "metadata": {},
   "outputs": [
    {
     "data": {
      "text/plain": [
       "0.0015"
      ]
     },
     "execution_count": 33,
     "metadata": {},
     "output_type": "execute_result"
    }
   ],
   "source": [
    "6 / 4000"
   ]
  },
  {
   "cell_type": "code",
   "execution_count": 38,
   "metadata": {},
   "outputs": [
    {
     "data": {
      "text/plain": [
       "1.5e-69"
      ]
     },
     "execution_count": 38,
     "metadata": {},
     "output_type": "execute_result"
    }
   ],
   "source": [
    "6 / 4000000000000000000000000000000000000000000000000000000000000000000000"
   ]
  },
  {
   "cell_type": "code",
   "execution_count": 39,
   "metadata": {},
   "outputs": [
    {
     "data": {
      "text/plain": [
       "6.0"
      ]
     },
     "execution_count": 39,
     "metadata": {},
     "output_type": "execute_result"
    }
   ],
   "source": [
    "1.5e-69 * 4000000000000000000000000000000000000000000000000000000000000000000000"
   ]
  },
  {
   "cell_type": "code",
   "execution_count": 40,
   "metadata": {},
   "outputs": [],
   "source": [
    "x = 5"
   ]
  },
  {
   "cell_type": "code",
   "execution_count": 41,
   "metadata": {},
   "outputs": [
    {
     "ename": "SyntaxError",
     "evalue": "invalid syntax (207285602.py, line 1)",
     "output_type": "error",
     "traceback": [
      "\u001b[0;36m  File \u001b[0;32m\"/var/folders/cp/bjvk0xwx5hx80rsxzhllwy2c0000gn/T/ipykernel_10527/207285602.py\"\u001b[0;36m, line \u001b[0;32m1\u001b[0m\n\u001b[0;31m    2x\u001b[0m\n\u001b[0m     ^\u001b[0m\n\u001b[0;31mSyntaxError\u001b[0m\u001b[0;31m:\u001b[0m invalid syntax\n"
     ]
    }
   ],
   "source": [
    "2x"
   ]
  },
  {
   "cell_type": "code",
   "execution_count": 43,
   "metadata": {},
   "outputs": [
    {
     "data": {
      "text/plain": [
       "10"
      ]
     },
     "execution_count": 43,
     "metadata": {},
     "output_type": "execute_result"
    }
   ],
   "source": [
    "2 * x"
   ]
  },
  {
   "cell_type": "code",
   "execution_count": 44,
   "metadata": {},
   "outputs": [
    {
     "data": {
      "text/plain": [
       "4"
      ]
     },
     "execution_count": 44,
     "metadata": {},
     "output_type": "execute_result"
    }
   ],
   "source": [
    "round(3.7)"
   ]
  },
  {
   "cell_type": "code",
   "execution_count": 46,
   "metadata": {},
   "outputs": [
    {
     "data": {
      "text/plain": [
       "3.72"
      ]
     },
     "execution_count": 46,
     "metadata": {},
     "output_type": "execute_result"
    }
   ],
   "source": [
    "round(3.724567, ndigits = 2)"
   ]
  },
  {
   "cell_type": "markdown",
   "metadata": {},
   "source": [
    "## Strings ##"
   ]
  },
  {
   "cell_type": "code",
   "execution_count": 47,
   "metadata": {},
   "outputs": [
    {
     "data": {
      "text/plain": [
       "'I am tired'"
      ]
     },
     "execution_count": 47,
     "metadata": {},
     "output_type": "execute_result"
    }
   ],
   "source": [
    "'I am tired'"
   ]
  },
  {
   "cell_type": "code",
   "execution_count": 48,
   "metadata": {},
   "outputs": [
    {
     "data": {
      "text/plain": [
       "\"I'm tired\""
      ]
     },
     "execution_count": 48,
     "metadata": {},
     "output_type": "execute_result"
    }
   ],
   "source": [
    "\"I'm tired\""
   ]
  },
  {
   "cell_type": "code",
   "execution_count": 49,
   "metadata": {},
   "outputs": [
    {
     "ename": "SyntaxError",
     "evalue": "invalid syntax (3326375618.py, line 1)",
     "output_type": "error",
     "traceback": [
      "\u001b[0;36m  File \u001b[0;32m\"/var/folders/cp/bjvk0xwx5hx80rsxzhllwy2c0000gn/T/ipykernel_10527/3326375618.py\"\u001b[0;36m, line \u001b[0;32m1\u001b[0m\n\u001b[0;31m    'I'm tired'\u001b[0m\n\u001b[0m       ^\u001b[0m\n\u001b[0;31mSyntaxError\u001b[0m\u001b[0;31m:\u001b[0m invalid syntax\n"
     ]
    }
   ],
   "source": [
    "'I'm tired'"
   ]
  },
  {
   "cell_type": "code",
   "execution_count": 50,
   "metadata": {},
   "outputs": [
    {
     "data": {
      "text/plain": [
       "'watermelon'"
      ]
     },
     "execution_count": 50,
     "metadata": {},
     "output_type": "execute_result"
    }
   ],
   "source": [
    "'water' + 'melon' # concatenation"
   ]
  },
  {
   "cell_type": "code",
   "execution_count": 51,
   "metadata": {},
   "outputs": [
    {
     "data": {
      "text/plain": [
       "'hahahahahahahahahaha'"
      ]
     },
     "execution_count": 51,
     "metadata": {},
     "output_type": "execute_result"
    }
   ],
   "source": [
    "'ha' * 10"
   ]
  },
  {
   "cell_type": "code",
   "execution_count": 52,
   "metadata": {},
   "outputs": [
    {
     "ename": "TypeError",
     "evalue": "can't multiply sequence by non-int of type 'float'",
     "output_type": "error",
     "traceback": [
      "\u001b[0;31m---------------------------------------------------------------------------\u001b[0m",
      "\u001b[0;31mTypeError\u001b[0m                                 Traceback (most recent call last)",
      "\u001b[0;32m/var/folders/cp/bjvk0xwx5hx80rsxzhllwy2c0000gn/T/ipykernel_10527/1099122530.py\u001b[0m in \u001b[0;36m<module>\u001b[0;34m\u001b[0m\n\u001b[0;32m----> 1\u001b[0;31m \u001b[0;34m'lo'\u001b[0m \u001b[0;34m*\u001b[0m \u001b[0;36m5.5\u001b[0m\u001b[0;34m\u001b[0m\u001b[0;34m\u001b[0m\u001b[0m\n\u001b[0m",
      "\u001b[0;31mTypeError\u001b[0m: can't multiply sequence by non-int of type 'float'"
     ]
    }
   ],
   "source": [
    "'lo' * 5.5"
   ]
  },
  {
   "cell_type": "code",
   "execution_count": 53,
   "metadata": {},
   "outputs": [
    {
     "data": {
      "text/plain": [
       "3"
      ]
     },
     "execution_count": 53,
     "metadata": {},
     "output_type": "execute_result"
    }
   ],
   "source": [
    "int('3')"
   ]
  },
  {
   "cell_type": "code",
   "execution_count": 54,
   "metadata": {},
   "outputs": [
    {
     "ename": "ValueError",
     "evalue": "invalid literal for int() with base 10: '3.0'",
     "output_type": "error",
     "traceback": [
      "\u001b[0;31m---------------------------------------------------------------------------\u001b[0m",
      "\u001b[0;31mValueError\u001b[0m                                Traceback (most recent call last)",
      "\u001b[0;32m/var/folders/cp/bjvk0xwx5hx80rsxzhllwy2c0000gn/T/ipykernel_10527/2894328385.py\u001b[0m in \u001b[0;36m<module>\u001b[0;34m\u001b[0m\n\u001b[0;32m----> 1\u001b[0;31m \u001b[0mint\u001b[0m\u001b[0;34m(\u001b[0m\u001b[0;34m'3.0'\u001b[0m\u001b[0;34m)\u001b[0m\u001b[0;34m\u001b[0m\u001b[0;34m\u001b[0m\u001b[0m\n\u001b[0m",
      "\u001b[0;31mValueError\u001b[0m: invalid literal for int() with base 10: '3.0'"
     ]
    }
   ],
   "source": [
    "int('3.0')"
   ]
  },
  {
   "cell_type": "code",
   "execution_count": 55,
   "metadata": {},
   "outputs": [
    {
     "data": {
      "text/plain": [
       "3.0"
      ]
     },
     "execution_count": 55,
     "metadata": {},
     "output_type": "execute_result"
    }
   ],
   "source": [
    "float('3.0')"
   ]
  },
  {
   "cell_type": "code",
   "execution_count": 56,
   "metadata": {},
   "outputs": [
    {
     "data": {
      "text/plain": [
       "'3'"
      ]
     },
     "execution_count": 56,
     "metadata": {},
     "output_type": "execute_result"
    }
   ],
   "source": [
    "str(3)"
   ]
  },
  {
   "cell_type": "code",
   "execution_count": 57,
   "metadata": {},
   "outputs": [
    {
     "data": {
      "text/plain": [
       "'4.5'"
      ]
     },
     "execution_count": 57,
     "metadata": {},
     "output_type": "execute_result"
    }
   ],
   "source": [
    "str('4.5')"
   ]
  },
  {
   "cell_type": "markdown",
   "metadata": {},
   "source": [
    "## Types ##"
   ]
  },
  {
   "cell_type": "code",
   "execution_count": 60,
   "metadata": {},
   "outputs": [
    {
     "data": {
      "text/plain": [
       "float"
      ]
     },
     "execution_count": 60,
     "metadata": {},
     "output_type": "execute_result"
    }
   ],
   "source": [
    "x = 5.0\n",
    "type(x)"
   ]
  },
  {
   "cell_type": "code",
   "execution_count": 62,
   "metadata": {},
   "outputs": [],
   "source": [
    "my_array = make_array(1, 2, 3, 4)"
   ]
  },
  {
   "cell_type": "code",
   "execution_count": 63,
   "metadata": {},
   "outputs": [
    {
     "data": {
      "text/plain": [
       "array([1, 2, 3, 4])"
      ]
     },
     "execution_count": 63,
     "metadata": {},
     "output_type": "execute_result"
    }
   ],
   "source": [
    "my_array"
   ]
  },
  {
   "cell_type": "code",
   "execution_count": 64,
   "metadata": {},
   "outputs": [
    {
     "data": {
      "text/plain": [
       "array([2, 4, 6, 8])"
      ]
     },
     "execution_count": 64,
     "metadata": {},
     "output_type": "execute_result"
    }
   ],
   "source": [
    "my_array * 2"
   ]
  },
  {
   "cell_type": "code",
   "execution_count": 65,
   "metadata": {},
   "outputs": [
    {
     "data": {
      "text/plain": [
       "array([ 1,  4,  9, 16])"
      ]
     },
     "execution_count": 65,
     "metadata": {},
     "output_type": "execute_result"
    }
   ],
   "source": [
    "my_array ** 2"
   ]
  },
  {
   "cell_type": "code",
   "execution_count": 66,
   "metadata": {},
   "outputs": [
    {
     "data": {
      "text/plain": [
       "array([2, 3, 4, 5])"
      ]
     },
     "execution_count": 66,
     "metadata": {},
     "output_type": "execute_result"
    }
   ],
   "source": [
    "my_array + 1"
   ]
  },
  {
   "cell_type": "code",
   "execution_count": 67,
   "metadata": {},
   "outputs": [
    {
     "data": {
      "text/plain": [
       "4"
      ]
     },
     "execution_count": 67,
     "metadata": {},
     "output_type": "execute_result"
    }
   ],
   "source": [
    "len(my_array)"
   ]
  },
  {
   "cell_type": "code",
   "execution_count": 68,
   "metadata": {},
   "outputs": [
    {
     "data": {
      "text/plain": [
       "10"
      ]
     },
     "execution_count": 68,
     "metadata": {},
     "output_type": "execute_result"
    }
   ],
   "source": [
    "sum(my_array)"
   ]
  },
  {
   "cell_type": "code",
   "execution_count": 69,
   "metadata": {},
   "outputs": [
    {
     "data": {
      "text/plain": [
       "2.5"
      ]
     },
     "execution_count": 69,
     "metadata": {},
     "output_type": "execute_result"
    }
   ],
   "source": [
    "np.average(my_array)"
   ]
  },
  {
   "cell_type": "code",
   "execution_count": 70,
   "metadata": {},
   "outputs": [
    {
     "data": {
      "text/plain": [
       "2.5"
      ]
     },
     "execution_count": 70,
     "metadata": {},
     "output_type": "execute_result"
    }
   ],
   "source": [
    "sum(my_array) / len(my_array)"
   ]
  },
  {
   "cell_type": "code",
   "execution_count": 71,
   "metadata": {},
   "outputs": [
    {
     "data": {
      "text/plain": [
       "array([61, 72, 83, 94])"
      ]
     },
     "execution_count": 71,
     "metadata": {},
     "output_type": "execute_result"
    }
   ],
   "source": [
    "another = make_array(60, 70, 80, 90)\n",
    "my_array + another"
   ]
  },
  {
   "cell_type": "code",
   "execution_count": 72,
   "metadata": {},
   "outputs": [
    {
     "data": {
      "text/plain": [
       "array(['Hanes', 'Garnder', 'Dey'],\n",
       "      dtype='<U7')"
      ]
     },
     "execution_count": 72,
     "metadata": {},
     "output_type": "execute_result"
    }
   ],
   "source": [
    "buildings = make_array('Hanes', 'Garnder', 'Dey')\n",
    "buildings"
   ]
  },
  {
   "cell_type": "markdown",
   "metadata": {},
   "source": [
    "## Arrays ##"
   ]
  },
  {
   "cell_type": "code",
   "execution_count": 5,
   "metadata": {},
   "outputs": [
    {
     "data": {
      "text/html": [
       "<table border=\"1\" class=\"dataframe\">\n",
       "    <thead>\n",
       "        <tr>\n",
       "            <th>X</th> <th>Y</th> <th>Incident_Id</th> <th>Primary_Charge</th> <th>Street</th> <th>City</th> <th>State</th> <th>Zipcode</th> <th>Date_of_Arrest</th> <th>Age</th> <th>Race</th> <th>Gender</th> <th>Ethnicity</th> <th>Type_of_Arrest</th> <th>Drugs_or_Alcohol_Present</th> <th>Weapon_Present</th> <th>Disposition</th> <th>latitude</th> <th>longitude</th> <th>ObjectId</th>\n",
       "        </tr>\n",
       "    </thead>\n",
       "    <tbody>\n",
       "        <tr>\n",
       "            <td>-79.0681</td> <td>35.9107</td> <td>26150      </td> <td>LARCENY-CREDIT CARD                         </td> <td>302 EAST MAIN STREET                </td> <td>CARRBORO</td> <td>NC   </td> <td>27517  </td> <td>2011/01/27 05:25:00+00</td> <td>33  </td> <td>B   </td> <td>M     </td> <td>nan      </td> <td>TAKEN INTO CUSTODY (WARRANT/LP)</td> <td>N                       </td> <td>UNARMED       </td> <td>CLEARED BY ARREST      </td> <td>35.9107 </td> <td>-79.0681 </td> <td>1010    </td>\n",
       "        </tr>\n",
       "        <tr>\n",
       "            <td>-79.0672</td> <td>35.9089</td> <td>24635      </td> <td>OPEN CONTAINER                              </td> <td>BREWER LN / GUTHERIE                </td> <td>CARRBORO</td> <td>NC   </td> <td>27516  </td> <td>2010/05/02 02:34:00+00</td> <td>25  </td> <td>W   </td> <td>M     </td> <td>N        </td> <td>SUMMONED/CITED                 </td> <td>Y                       </td> <td>UNARMED       </td> <td>ARREST/NO INVESTIGATION</td> <td>35.9089 </td> <td>-79.0672 </td> <td>6321    </td>\n",
       "        </tr>\n",
       "        <tr>\n",
       "            <td>-79.0672</td> <td>35.9089</td> <td>24636      </td> <td>OPEN CONTAINER                              </td> <td>BREWER LN/ GUTHERIE                 </td> <td>CARRBORO</td> <td>NC   </td> <td>27516  </td> <td>2010/05/02 02:49:00+00</td> <td>24  </td> <td>W   </td> <td>M     </td> <td>N        </td> <td>SUMMONED/CITED                 </td> <td>Y                       </td> <td>UNARMED       </td> <td>ARREST/NO INVESTIGATION</td> <td>35.9089 </td> <td>-79.0672 </td> <td>6322    </td>\n",
       "        </tr>\n",
       "        <tr>\n",
       "            <td>-79.074 </td> <td>35.9002</td> <td>27205      </td> <td>POSSESSION MARIJUANA                        </td> <td>SMITH LEVEL RD/CARRBORO PUBLIC WORKS</td> <td>CARRBORO</td> <td>NC   </td> <td>27516  </td> <td>2011/08/13 14:20:00+00</td> <td>nan </td> <td>nan </td> <td>nan   </td> <td>nan      </td> <td>SUMMONED/CITED                 </td> <td>N                       </td> <td>UNARMED       </td> <td>CLEARED BY ARREST      </td> <td>35.9002 </td> <td>-79.074  </td> <td>6323    </td>\n",
       "        </tr>\n",
       "        <tr>\n",
       "            <td>-79.0724</td> <td>35.9302</td> <td>27915      </td> <td>IMPAIRED DRIVING DWI                        </td> <td>SEWELL SCHOOL RD NEAR HANOVER PLACE </td> <td>CARRBORO</td> <td>NC   </td> <td>27516  </td> <td>2012/01/01 03:17:00+00</td> <td>21  </td> <td>A   </td> <td>M     </td> <td>N        </td> <td>ON VIEW                        </td> <td>Y                       </td> <td>UNARMED       </td> <td>CLEARED BY ARREST      </td> <td>35.9302 </td> <td>-79.0724 </td> <td>6324    </td>\n",
       "        </tr>\n",
       "        <tr>\n",
       "            <td>-79.0662</td> <td>35.9099</td> <td>29461      </td> <td>B&E-VEHICLE                                 </td> <td>412 EAST MAIN ST                    </td> <td>CARRBORO</td> <td>NC   </td> <td>27516  </td> <td>2012/11/22 23:36:00+00</td> <td>40  </td> <td>B   </td> <td>M     </td> <td>N        </td> <td>ON VIEW                        </td> <td>Y                       </td> <td>UNARMED       </td> <td>CLEARED BY ARREST      </td> <td>35.9099 </td> <td>-79.0662 </td> <td>6801    </td>\n",
       "        </tr>\n",
       "        <tr>\n",
       "            <td>-79.0709</td> <td>35.9218</td> <td>33581      </td> <td>DOMESTIC VIOLENCE  BAIL AND PRETRAIL RELEASE</td> <td>306 ESTES EXT                       </td> <td>CARRBORO</td> <td>NC   </td> <td>27516  </td> <td>2015/04/10 01:56:00+00</td> <td>36  </td> <td>A   </td> <td>M     </td> <td>nan      </td> <td>TAKEN INTO CUSTODY (WARRANT/LP)</td> <td>N                       </td> <td>UNARMED       </td> <td>CLEARED BY ARREST      </td> <td>35.9218 </td> <td>-79.0709 </td> <td>6802    </td>\n",
       "        </tr>\n",
       "        <tr>\n",
       "            <td>-79.0658</td> <td>35.911 </td> <td>35101      </td> <td>FAIL TO APPEAR/COMPL                        </td> <td>W ROSEMARY ST/N MERRITT MILL        </td> <td>CARRBORO</td> <td>NC   </td> <td>27516  </td> <td>2016/02/02 00:42:00+00</td> <td>23  </td> <td>B   </td> <td>M     </td> <td>N        </td> <td>TAKEN INTO CUSTODY (WARRANT/LP)</td> <td>U                       </td> <td>UNARMED       </td> <td>CLEARED BY ARREST      </td> <td>35.911  </td> <td>-79.0658 </td> <td>6803    </td>\n",
       "        </tr>\n",
       "        <tr>\n",
       "            <td>-79.0662</td> <td>35.9116</td> <td>35381      </td> <td>SIMPLE ASSAULT                              </td> <td>200 SUNSET DR                       </td> <td>CARRBORO</td> <td>NC   </td> <td>27516  </td> <td>2016/03/24 16:19:00+00</td> <td>45  </td> <td>B   </td> <td>M     </td> <td>N        </td> <td>TAKEN INTO CUSTODY (WARRANT/LP)</td> <td>N                       </td> <td>UNARMED       </td> <td>CLEARED BY ARREST      </td> <td>35.9116 </td> <td>-79.0662 </td> <td>6804    </td>\n",
       "        </tr>\n",
       "        <tr>\n",
       "            <td>-79.0851</td> <td>35.9004</td> <td>35747      </td> <td>PANHANDLING/LOITERING                       </td> <td>310 WESTBROOK DR                    </td> <td>CARRBORO</td> <td>NC   </td> <td>27516  </td> <td>2016/06/05 04:15:00+00</td> <td>51  </td> <td>B   </td> <td>M     </td> <td>N        </td> <td>SUMMONED/CITED                 </td> <td>Y                       </td> <td>UNARMED       </td> <td>CLEARED BY ARREST      </td> <td>35.9004 </td> <td>-79.0851 </td> <td>6805    </td>\n",
       "        </tr>\n",
       "    </tbody>\n",
       "</table>\n",
       "<p>... (137 rows omitted)</p>"
      ],
      "text/plain": [
       "X        | Y       | Incident_Id | Primary_Charge                               | Street                               | City     | State | Zipcode | Date_of_Arrest         | Age  | Race | Gender | Ethnicity | Type_of_Arrest                  | Drugs_or_Alcohol_Present | Weapon_Present | Disposition             | latitude | longitude | ObjectId\n",
       "-79.0681 | 35.9107 | 26150       | LARCENY-CREDIT CARD                          | 302 EAST MAIN STREET                 | CARRBORO | NC    | 27517   | 2011/01/27 05:25:00+00 | 33   | B    | M      | nan       | TAKEN INTO CUSTODY (WARRANT/LP) | N                        | UNARMED        | CLEARED BY ARREST       | 35.9107  | -79.0681  | 1010\n",
       "-79.0672 | 35.9089 | 24635       | OPEN CONTAINER                               | BREWER LN / GUTHERIE                 | CARRBORO | NC    | 27516   | 2010/05/02 02:34:00+00 | 25   | W    | M      | N         | SUMMONED/CITED                  | Y                        | UNARMED        | ARREST/NO INVESTIGATION | 35.9089  | -79.0672  | 6321\n",
       "-79.0672 | 35.9089 | 24636       | OPEN CONTAINER                               | BREWER LN/ GUTHERIE                  | CARRBORO | NC    | 27516   | 2010/05/02 02:49:00+00 | 24   | W    | M      | N         | SUMMONED/CITED                  | Y                        | UNARMED        | ARREST/NO INVESTIGATION | 35.9089  | -79.0672  | 6322\n",
       "-79.074  | 35.9002 | 27205       | POSSESSION MARIJUANA                         | SMITH LEVEL RD/CARRBORO PUBLIC WORKS | CARRBORO | NC    | 27516   | 2011/08/13 14:20:00+00 | nan  | nan  | nan    | nan       | SUMMONED/CITED                  | N                        | UNARMED        | CLEARED BY ARREST       | 35.9002  | -79.074   | 6323\n",
       "-79.0724 | 35.9302 | 27915       | IMPAIRED DRIVING DWI                         | SEWELL SCHOOL RD NEAR HANOVER PLACE  | CARRBORO | NC    | 27516   | 2012/01/01 03:17:00+00 | 21   | A    | M      | N         | ON VIEW                         | Y                        | UNARMED        | CLEARED BY ARREST       | 35.9302  | -79.0724  | 6324\n",
       "-79.0662 | 35.9099 | 29461       | B&E-VEHICLE                                  | 412 EAST MAIN ST                     | CARRBORO | NC    | 27516   | 2012/11/22 23:36:00+00 | 40   | B    | M      | N         | ON VIEW                         | Y                        | UNARMED        | CLEARED BY ARREST       | 35.9099  | -79.0662  | 6801\n",
       "-79.0709 | 35.9218 | 33581       | DOMESTIC VIOLENCE  BAIL AND PRETRAIL RELEASE | 306 ESTES EXT                        | CARRBORO | NC    | 27516   | 2015/04/10 01:56:00+00 | 36   | A    | M      | nan       | TAKEN INTO CUSTODY (WARRANT/LP) | N                        | UNARMED        | CLEARED BY ARREST       | 35.9218  | -79.0709  | 6802\n",
       "-79.0658 | 35.911  | 35101       | FAIL TO APPEAR/COMPL                         | W ROSEMARY ST/N MERRITT MILL         | CARRBORO | NC    | 27516   | 2016/02/02 00:42:00+00 | 23   | B    | M      | N         | TAKEN INTO CUSTODY (WARRANT/LP) | U                        | UNARMED        | CLEARED BY ARREST       | 35.911   | -79.0658  | 6803\n",
       "-79.0662 | 35.9116 | 35381       | SIMPLE ASSAULT                               | 200 SUNSET DR                        | CARRBORO | NC    | 27516   | 2016/03/24 16:19:00+00 | 45   | B    | M      | N         | TAKEN INTO CUSTODY (WARRANT/LP) | N                        | UNARMED        | CLEARED BY ARREST       | 35.9116  | -79.0662  | 6804\n",
       "-79.0851 | 35.9004 | 35747       | PANHANDLING/LOITERING                        | 310 WESTBROOK DR                     | CARRBORO | NC    | 27516   | 2016/06/05 04:15:00+00 | 51   | B    | M      | N         | SUMMONED/CITED                  | Y                        | UNARMED        | CLEARED BY ARREST       | 35.9004  | -79.0851  | 6805\n",
       "... (137 rows omitted)"
      ]
     },
     "execution_count": 5,
     "metadata": {},
     "output_type": "execute_result"
    }
   ],
   "source": [
    "Arrests_carrboro = Table.read_table('Police_Arrests_Made.csv').where('City','CARRBORO')                                           \n",
    "Arrests_carrboro"
   ]
  },
  {
   "cell_type": "code",
   "execution_count": 8,
   "metadata": {},
   "outputs": [
    {
     "data": {
      "text/plain": [
       "array([ 33.,  25.,  24.,  nan,  21.,  40.,  36.,  23.,  45.,  51.,  31.,\n",
       "        40.,  28.,  26.,  nan,  39.,  34.,  25.,  26.,  25.,  50.,  19.,\n",
       "        41.,  35.,  29.,  22.,  42.,  19.,  32.,  nan,  18.,  18.,  23.,\n",
       "        52.,  47.,  24.,  24.,  23.,  48.,  18.,  28.,  22.,  33.,  34.,\n",
       "        60.,  30.,  35.,  23.,  55.,  22.,  19.,  20.,  19.,  nan,  28.,\n",
       "        51.,  21.,  50.,  nan,  21.,  31.,  41.,  21.,  45.,  24.,  25.,\n",
       "        20.,  23.,  24.,  20.,  41.,  24.,  26.,  21.,  20.,  38.,  48.,\n",
       "        49.,  42.,  49.,  44.,  24.,  nan,  30.,  36.,  25.,  46.,  56.,\n",
       "        66.,  20.,  36.,  42.,  44.,  49.,  26.,  20.,  61.,  26.,  38.,\n",
       "        35.,  45.,  49.,  30.,  33.,  34.,  51.,  52.,  37.,  18.,  22.,\n",
       "        32.,  28.,  31.,  18.,  40.,  27.,  47.,  19.,  44.,  23.,  26.,\n",
       "        24.,  26.,  27.,  23.,  18.,  19.,  nan,  48.,  32.,  20.,  21.,\n",
       "        27.,  25.,  47.,  22.,  23.,  21.,  26.,  22.,  20.,  25.,  38.,\n",
       "        49.,  46.,  43.,  24.])"
      ]
     },
     "execution_count": 8,
     "metadata": {},
     "output_type": "execute_result"
    }
   ],
   "source": [
    "Arrests_carrboro.column('Age')\n",
    "#nan means not a number"
   ]
  },
  {
   "cell_type": "code",
   "execution_count": 16,
   "metadata": {},
   "outputs": [
    {
     "data": {
      "text/plain": [
       "nan"
      ]
     },
     "execution_count": 16,
     "metadata": {},
     "output_type": "execute_result"
    }
   ],
   "source": [
    "np.average(Arrests_carrboro.column('Age'))"
   ]
  },
  {
   "cell_type": "code",
   "execution_count": 17,
   "metadata": {},
   "outputs": [
    {
     "data": {
      "text/plain": [
       "32.178571428571431"
      ]
     },
     "execution_count": 17,
     "metadata": {},
     "output_type": "execute_result"
    }
   ],
   "source": [
    "np.nanmean(Arrests_carrboro.column('Age'))\n",
    "#nanmean will remove the \"nan's\" from the array"
   ]
  },
  {
   "cell_type": "code",
   "execution_count": 14,
   "metadata": {},
   "outputs": [
    {
     "data": {
      "text/html": [
       "<table border=\"1\" class=\"dataframe\">\n",
       "    <thead>\n",
       "        <tr>\n",
       "            <th>X</th> <th>Y</th> <th>Incident_Id</th> <th>Primary_Charge</th> <th>Street</th> <th>City</th> <th>State</th> <th>Zipcode</th> <th>Date_of_Arrest</th> <th>Age</th> <th>Race</th> <th>Gender</th> <th>Ethnicity</th> <th>Type_of_Arrest</th> <th>Drugs_or_Alcohol_Present</th> <th>Weapon_Present</th> <th>Disposition</th> <th>latitude</th> <th>longitude</th> <th>ObjectId</th>\n",
       "        </tr>\n",
       "    </thead>\n",
       "    <tbody>\n",
       "        <tr>\n",
       "            <td>-79.0672</td> <td>35.9089</td> <td>24635      </td> <td>OPEN CONTAINER</td> <td>BREWER LN / GUTHERIE </td> <td>CARRBORO</td> <td>NC   </td> <td>27516  </td> <td>2010/05/02 02:34:00+00</td> <td>25  </td> <td>W   </td> <td>M     </td> <td>N        </td> <td>SUMMONED/CITED</td> <td>Y                       </td> <td>UNARMED       </td> <td>ARREST/NO INVESTIGATION</td> <td>35.9089 </td> <td>-79.0672 </td> <td>6321    </td>\n",
       "        </tr>\n",
       "        <tr>\n",
       "            <td>-79.0672</td> <td>35.9089</td> <td>24636      </td> <td>OPEN CONTAINER</td> <td>BREWER LN/ GUTHERIE  </td> <td>CARRBORO</td> <td>NC   </td> <td>27516  </td> <td>2010/05/02 02:49:00+00</td> <td>24  </td> <td>W   </td> <td>M     </td> <td>N        </td> <td>SUMMONED/CITED</td> <td>Y                       </td> <td>UNARMED       </td> <td>ARREST/NO INVESTIGATION</td> <td>35.9089 </td> <td>-79.0672 </td> <td>6322    </td>\n",
       "        </tr>\n",
       "        <tr>\n",
       "            <td>-79.0651</td> <td>35.9095</td> <td>39544      </td> <td>OPEN CONTAINER</td> <td>102 S MERRITT MILL RD</td> <td>CARRBORO</td> <td>NC   </td> <td>27516  </td> <td>2018/11/27 21:00:00+00</td> <td>40  </td> <td>B   </td> <td>M     </td> <td>N        </td> <td>SUMMONED/CITED</td> <td>Y                       </td> <td>UNARMED       </td> <td>CLEARED BY ARREST      </td> <td>35.9095 </td> <td>-79.0651 </td> <td>6807    </td>\n",
       "        </tr>\n",
       "        <tr>\n",
       "            <td>-79.0659</td> <td>35.9109</td> <td>34616      </td> <td>OPEN CONTAINER</td> <td>609 W ROSEMARY ST    </td> <td>CARRBORO</td> <td>NC   </td> <td>27510  </td> <td>2015/10/08 22:11:00+00</td> <td>50  </td> <td>B   </td> <td>M     </td> <td>N        </td> <td>SUMMONED/CITED</td> <td>Y                       </td> <td>UNARMED       </td> <td>CLEARED BY ARREST      </td> <td>35.9109 </td> <td>-79.0659 </td> <td>15111   </td>\n",
       "        </tr>\n",
       "    </tbody>\n",
       "</table>"
      ],
      "text/plain": [
       "X        | Y       | Incident_Id | Primary_Charge | Street                | City     | State | Zipcode | Date_of_Arrest         | Age  | Race | Gender | Ethnicity | Type_of_Arrest | Drugs_or_Alcohol_Present | Weapon_Present | Disposition             | latitude | longitude | ObjectId\n",
       "-79.0672 | 35.9089 | 24635       | OPEN CONTAINER | BREWER LN / GUTHERIE  | CARRBORO | NC    | 27516   | 2010/05/02 02:34:00+00 | 25   | W    | M      | N         | SUMMONED/CITED | Y                        | UNARMED        | ARREST/NO INVESTIGATION | 35.9089  | -79.0672  | 6321\n",
       "-79.0672 | 35.9089 | 24636       | OPEN CONTAINER | BREWER LN/ GUTHERIE   | CARRBORO | NC    | 27516   | 2010/05/02 02:49:00+00 | 24   | W    | M      | N         | SUMMONED/CITED | Y                        | UNARMED        | ARREST/NO INVESTIGATION | 35.9089  | -79.0672  | 6322\n",
       "-79.0651 | 35.9095 | 39544       | OPEN CONTAINER | 102 S MERRITT MILL RD | CARRBORO | NC    | 27516   | 2018/11/27 21:00:00+00 | 40   | B    | M      | N         | SUMMONED/CITED | Y                        | UNARMED        | CLEARED BY ARREST       | 35.9095  | -79.0651  | 6807\n",
       "-79.0659 | 35.9109 | 34616       | OPEN CONTAINER | 609 W ROSEMARY ST     | CARRBORO | NC    | 27510   | 2015/10/08 22:11:00+00 | 50   | B    | M      | N         | SUMMONED/CITED | Y                        | UNARMED        | CLEARED BY ARREST       | 35.9109  | -79.0659  | 15111"
      ]
     },
     "execution_count": 14,
     "metadata": {},
     "output_type": "execute_result"
    }
   ],
   "source": [
    "Carrboro_OP = Arrests_carrboro.where('Primary_Charge', 'OPEN CONTAINER')\n",
    "Carrboro_OP"
   ]
  },
  {
   "cell_type": "code",
   "execution_count": 19,
   "metadata": {},
   "outputs": [
    {
     "data": {
      "text/plain": [
       "34.75"
      ]
     },
     "execution_count": 19,
     "metadata": {},
     "output_type": "execute_result"
    }
   ],
   "source": [
    "np.nanmean(Carrboro_OP.column('Age'))"
   ]
  },
  {
   "cell_type": "code",
   "execution_count": 23,
   "metadata": {},
   "outputs": [
    {
     "data": {
      "text/html": [
       "<table border=\"1\" class=\"dataframe\">\n",
       "    <thead>\n",
       "        <tr>\n",
       "            <th>X</th> <th>Y</th> <th>Incident_Id</th> <th>Primary_Charge</th> <th>Street</th> <th>City</th> <th>State</th> <th>Zipcode</th> <th>Date_of_Arrest</th> <th>Age</th> <th>Race</th> <th>Gender</th> <th>Ethnicity</th> <th>Type_of_Arrest</th> <th>Drugs_or_Alcohol_Present</th> <th>Weapon_Present</th> <th>Disposition</th> <th>latitude</th> <th>longitude</th> <th>ObjectId</th>\n",
       "        </tr>\n",
       "    </thead>\n",
       "    <tbody>\n",
       "        <tr>\n",
       "            <td>-79.0531</td> <td>35.9147</td> <td>26290      </td> <td>OPEN CONTAINER</td> <td>108 HENDERSON ST                  </td> <td>CHAPEL HILL</td> <td>nan  </td> <td>27614  </td> <td>2011/02/18 01:30:00+00</td> <td>nan </td> <td>nan </td> <td>nan   </td> <td>nan      </td> <td>SUMMONED/CITED</td> <td>Y                       </td> <td>UNARMED       </td> <td>CLEARED BY ARREST</td> <td>35.9147 </td> <td>-79.0531 </td> <td>248     </td>\n",
       "        </tr>\n",
       "        <tr>\n",
       "            <td>-79.056 </td> <td>35.9131</td> <td>24539      </td> <td>OPEN CONTAINER</td> <td>100 BLOCK WEST FRANKLIN STREET    </td> <td>CHAPEL HILL</td> <td>NC   </td> <td>27517  </td> <td>2010/04/15 23:33:00+00</td> <td>45  </td> <td>B   </td> <td>M     </td> <td>N        </td> <td>ON VIEW       </td> <td>Y                       </td> <td>UNARMED       </td> <td>CLEARED BY ARREST</td> <td>35.9131 </td> <td>-79.056  </td> <td>294     </td>\n",
       "        </tr>\n",
       "        <tr>\n",
       "            <td>-79.0225</td> <td>35.9356</td> <td>32904      </td> <td>OPEN CONTAINER</td> <td>104 EPHESUS CHURCH RD             </td> <td>CHAPEL HILL</td> <td>NC   </td> <td>27517  </td> <td>2014/11/09 16:09:00+00</td> <td>39  </td> <td>A   </td> <td>M     </td> <td>N        </td> <td>SUMMONED/CITED</td> <td>Y                       </td> <td>UNARMED       </td> <td>CLEARED BY ARREST</td> <td>35.9356 </td> <td>-79.0225 </td> <td>313     </td>\n",
       "        </tr>\n",
       "        <tr>\n",
       "            <td>-79.0219</td> <td>35.9339</td> <td>26602      </td> <td>OPEN CONTAINER</td> <td>1250 EPHESUS CHURCH RD            </td> <td>CHAPEL HILL</td> <td>NC   </td> <td>27517  </td> <td>2011/04/17 00:15:00+00</td> <td>52  </td> <td>W   </td> <td>M     </td> <td>H        </td> <td>ON VIEW       </td> <td>Y                       </td> <td>UNARMED       </td> <td>CLEARED BY ARREST</td> <td>35.9339 </td> <td>-79.0219 </td> <td>408     </td>\n",
       "        </tr>\n",
       "        <tr>\n",
       "            <td>-79.0559</td> <td>35.9032</td> <td>25508      </td> <td>OPEN CONTAINER</td> <td>N COLUMBIA ST                     </td> <td>CHAPEL HILL</td> <td>NC   </td> <td>27517  </td> <td>2010/09/18 13:07:00+00</td> <td>24  </td> <td>B   </td> <td>M     </td> <td>N        </td> <td>SUMMONED/CITED</td> <td>Y                       </td> <td>UNARMED       </td> <td>CLEARED BY ARREST</td> <td>35.9032 </td> <td>-79.0559 </td> <td>562     </td>\n",
       "        </tr>\n",
       "        <tr>\n",
       "            <td>-79.0559</td> <td>35.9032</td> <td>25509      </td> <td>OPEN CONTAINER</td> <td>N COLUMBIA ST                     </td> <td>CHAPEL HILL</td> <td>NC   </td> <td>27517  </td> <td>2010/09/18 13:01:00+00</td> <td>21  </td> <td>W   </td> <td>F     </td> <td>N        </td> <td>SUMMONED/CITED</td> <td>Y                       </td> <td>UNARMED       </td> <td>CLEARED BY ARREST</td> <td>35.9032 </td> <td>-79.0559 </td> <td>563     </td>\n",
       "        </tr>\n",
       "        <tr>\n",
       "            <td>-79.0579</td> <td>35.9204</td> <td>32425      </td> <td>OPEN CONTAINER</td> <td>E LONGVIEW ST                     </td> <td>CHAPEL HILL</td> <td>NC   </td> <td>27517  </td> <td>2014/08/22 23:20:00+00</td> <td>24  </td> <td>W   </td> <td>M     </td> <td>N        </td> <td>SUMMONED/CITED</td> <td>Y                       </td> <td>UNARMED       </td> <td>CLEARED BY ARREST</td> <td>35.9204 </td> <td>-79.0579 </td> <td>713     </td>\n",
       "        </tr>\n",
       "        <tr>\n",
       "            <td>-79.0578</td> <td>35.907 </td> <td>32434      </td> <td>OPEN CONTAINER</td> <td>RANSOM ST // MCCAULEY ST          </td> <td>CHAPEL HILL</td> <td>NC   </td> <td>27517  </td> <td>2014/08/23 00:10:00+00</td> <td>26  </td> <td>W   </td> <td>M     </td> <td>N        </td> <td>SUMMONED/CITED</td> <td>Y                       </td> <td>UNARMED       </td> <td>CLEARED BY ARREST</td> <td>35.907  </td> <td>-79.0578 </td> <td>715     </td>\n",
       "        </tr>\n",
       "        <tr>\n",
       "            <td>-79.042 </td> <td>35.8789</td> <td>32452      </td> <td>OPEN CONTAINER</td> <td>N COLUMBIA ST // PRITCHARD AVE EXT</td> <td>CHAPEL HILL</td> <td>NC   </td> <td>27517  </td> <td>2014/08/23 23:50:00+00</td> <td>21  </td> <td>W   </td> <td>F     </td> <td>N        </td> <td>SUMMONED/CITED</td> <td>Y                       </td> <td>UNARMED       </td> <td>CLEARED BY ARREST</td> <td>35.8789 </td> <td>-79.042  </td> <td>722     </td>\n",
       "        </tr>\n",
       "        <tr>\n",
       "            <td>-79.0611</td> <td>35.9174</td> <td>24637      </td> <td>OPEN CONTAINER</td> <td>131 CALDWELL ST/CHURCH ST         </td> <td>CHAPEL HILL</td> <td>NC   </td> <td>27516  </td> <td>2010/05/02 02:56:00+00</td> <td>22  </td> <td>W   </td> <td>M     </td> <td>N        </td> <td>SUMMONED/CITED</td> <td>Y                       </td> <td>UNARMED       </td> <td>CLEARED BY ARREST</td> <td>35.9174 </td> <td>-79.0611 </td> <td>1006    </td>\n",
       "        </tr>\n",
       "    </tbody>\n",
       "</table>\n",
       "<p>... (1259 rows omitted)</p>"
      ],
      "text/plain": [
       "X        | Y       | Incident_Id | Primary_Charge | Street                             | City        | State | Zipcode | Date_of_Arrest         | Age  | Race | Gender | Ethnicity | Type_of_Arrest | Drugs_or_Alcohol_Present | Weapon_Present | Disposition       | latitude | longitude | ObjectId\n",
       "-79.0531 | 35.9147 | 26290       | OPEN CONTAINER | 108 HENDERSON ST                   | CHAPEL HILL | nan   | 27614   | 2011/02/18 01:30:00+00 | nan  | nan  | nan    | nan       | SUMMONED/CITED | Y                        | UNARMED        | CLEARED BY ARREST | 35.9147  | -79.0531  | 248\n",
       "-79.056  | 35.9131 | 24539       | OPEN CONTAINER | 100 BLOCK WEST FRANKLIN STREET     | CHAPEL HILL | NC    | 27517   | 2010/04/15 23:33:00+00 | 45   | B    | M      | N         | ON VIEW        | Y                        | UNARMED        | CLEARED BY ARREST | 35.9131  | -79.056   | 294\n",
       "-79.0225 | 35.9356 | 32904       | OPEN CONTAINER | 104 EPHESUS CHURCH RD              | CHAPEL HILL | NC    | 27517   | 2014/11/09 16:09:00+00 | 39   | A    | M      | N         | SUMMONED/CITED | Y                        | UNARMED        | CLEARED BY ARREST | 35.9356  | -79.0225  | 313\n",
       "-79.0219 | 35.9339 | 26602       | OPEN CONTAINER | 1250 EPHESUS CHURCH RD             | CHAPEL HILL | NC    | 27517   | 2011/04/17 00:15:00+00 | 52   | W    | M      | H         | ON VIEW        | Y                        | UNARMED        | CLEARED BY ARREST | 35.9339  | -79.0219  | 408\n",
       "-79.0559 | 35.9032 | 25508       | OPEN CONTAINER | N COLUMBIA ST                      | CHAPEL HILL | NC    | 27517   | 2010/09/18 13:07:00+00 | 24   | B    | M      | N         | SUMMONED/CITED | Y                        | UNARMED        | CLEARED BY ARREST | 35.9032  | -79.0559  | 562\n",
       "-79.0559 | 35.9032 | 25509       | OPEN CONTAINER | N COLUMBIA ST                      | CHAPEL HILL | NC    | 27517   | 2010/09/18 13:01:00+00 | 21   | W    | F      | N         | SUMMONED/CITED | Y                        | UNARMED        | CLEARED BY ARREST | 35.9032  | -79.0559  | 563\n",
       "-79.0579 | 35.9204 | 32425       | OPEN CONTAINER | E LONGVIEW ST                      | CHAPEL HILL | NC    | 27517   | 2014/08/22 23:20:00+00 | 24   | W    | M      | N         | SUMMONED/CITED | Y                        | UNARMED        | CLEARED BY ARREST | 35.9204  | -79.0579  | 713\n",
       "-79.0578 | 35.907  | 32434       | OPEN CONTAINER | RANSOM ST // MCCAULEY ST           | CHAPEL HILL | NC    | 27517   | 2014/08/23 00:10:00+00 | 26   | W    | M      | N         | SUMMONED/CITED | Y                        | UNARMED        | CLEARED BY ARREST | 35.907   | -79.0578  | 715\n",
       "-79.042  | 35.8789 | 32452       | OPEN CONTAINER | N COLUMBIA ST // PRITCHARD AVE EXT | CHAPEL HILL | NC    | 27517   | 2014/08/23 23:50:00+00 | 21   | W    | F      | N         | SUMMONED/CITED | Y                        | UNARMED        | CLEARED BY ARREST | 35.8789  | -79.042   | 722\n",
       "-79.0611 | 35.9174 | 24637       | OPEN CONTAINER | 131 CALDWELL ST/CHURCH ST          | CHAPEL HILL | NC    | 27516   | 2010/05/02 02:56:00+00 | 22   | W    | M      | N         | SUMMONED/CITED | Y                        | UNARMED        | CLEARED BY ARREST | 35.9174  | -79.0611  | 1006\n",
       "... (1259 rows omitted)"
      ]
     },
     "execution_count": 23,
     "metadata": {},
     "output_type": "execute_result"
    }
   ],
   "source": [
    "CH_OP = Table.read_table('Police_Arrests_Made.csv').where('City','CHAPEL HILL').where('Primary_Charge','OPEN CONTAINER')                                        \n",
    "CH_OP"
   ]
  },
  {
   "cell_type": "code",
   "execution_count": 24,
   "metadata": {},
   "outputs": [
    {
     "data": {
      "text/plain": [
       "42.224603174603175"
      ]
     },
     "execution_count": 24,
     "metadata": {},
     "output_type": "execute_result"
    }
   ],
   "source": [
    "np.nanmean(CH_OP.column('Age'))"
   ]
  },
  {
   "cell_type": "code",
   "execution_count": null,
   "metadata": {},
   "outputs": [],
   "source": []
  },
  {
   "cell_type": "code",
   "execution_count": null,
   "metadata": {},
   "outputs": [],
   "source": []
  },
  {
   "cell_type": "code",
   "execution_count": null,
   "metadata": {},
   "outputs": [],
   "source": []
  },
  {
   "cell_type": "code",
   "execution_count": null,
   "metadata": {},
   "outputs": [],
   "source": []
  },
  {
   "cell_type": "code",
   "execution_count": null,
   "metadata": {},
   "outputs": [],
   "source": []
  },
  {
   "cell_type": "code",
   "execution_count": null,
   "metadata": {},
   "outputs": [],
   "source": []
  },
  {
   "cell_type": "code",
   "execution_count": null,
   "metadata": {},
   "outputs": [],
   "source": []
  },
  {
   "cell_type": "markdown",
   "metadata": {},
   "source": [
    "## Columns of Tables are Arrays ##"
   ]
  },
  {
   "cell_type": "code",
   "execution_count": null,
   "metadata": {},
   "outputs": [],
   "source": [
    "Arrests_Carrboro = Table.read_table('https://raw.githubusercontent.com/JA-McLean/STOR120/master/data/Police_Arrests_Made.csv').where('City', 'CARRBORO')\n",
    "Arrests_Carrboro"
   ]
  },
  {
   "cell_type": "code",
   "execution_count": null,
   "metadata": {},
   "outputs": [],
   "source": []
  },
  {
   "cell_type": "code",
   "execution_count": null,
   "metadata": {
    "scrolled": true
   },
   "outputs": [],
   "source": []
  },
  {
   "cell_type": "code",
   "execution_count": null,
   "metadata": {},
   "outputs": [],
   "source": []
  },
  {
   "cell_type": "code",
   "execution_count": null,
   "metadata": {},
   "outputs": [],
   "source": []
  },
  {
   "cell_type": "code",
   "execution_count": null,
   "metadata": {},
   "outputs": [],
   "source": []
  },
  {
   "cell_type": "code",
   "execution_count": null,
   "metadata": {},
   "outputs": [],
   "source": []
  },
  {
   "cell_type": "code",
   "execution_count": null,
   "metadata": {},
   "outputs": [],
   "source": []
  },
  {
   "cell_type": "code",
   "execution_count": null,
   "metadata": {},
   "outputs": [],
   "source": []
  }
 ],
 "metadata": {
  "anaconda-cloud": {},
  "kernelspec": {
   "display_name": "Python 3 (ipykernel)",
   "language": "python",
   "name": "python3"
  },
  "language_info": {
   "codemirror_mode": {
    "name": "ipython",
    "version": 3
   },
   "file_extension": ".py",
   "mimetype": "text/x-python",
   "name": "python",
   "nbconvert_exporter": "python",
   "pygments_lexer": "ipython3",
   "version": "3.9.13"
  }
 },
 "nbformat": 4,
 "nbformat_minor": 4
}
